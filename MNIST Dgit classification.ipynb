{
  "nbformat": 4,
  "nbformat_minor": 0,
  "metadata": {
    "colab": {
      "provenance": []
    },
    "kernelspec": {
      "name": "python3",
      "display_name": "Python 3"
    },
    "language_info": {
      "name": "python"
    }
  },
  "cells": [
    {
      "cell_type": "code",
      "execution_count": 2,
      "metadata": {
        "id": "GOTRp6Qn4EPL"
      },
      "outputs": [],
      "source": [
        "import numpy as np\n",
        "import matplotlib.pyplot as plt\n",
        "import seaborn as sns\n",
        "import cv2\n",
        "from google.colab.patches import cv2_imshow\n",
        "from PIL import Image\n",
        "import tensorflow as tf\n",
        "tf.random.set_seed(3)\n",
        "from tensorflow import keras\n",
        "from keras.datasets import mnist\n",
        "from tensorflow.math import confusion_matrix"
      ]
    },
    {
      "cell_type": "code",
      "source": [
        "(X_train,Y_train),(X_test,Y_test)=mnist.load_data()"
      ],
      "metadata": {
        "colab": {
          "base_uri": "https://localhost:8080/"
        },
        "id": "9y_zFsZN4Y5G",
        "outputId": "74ee5cd0-46c3-40c1-f915-766661ea74c8"
      },
      "execution_count": 3,
      "outputs": [
        {
          "output_type": "stream",
          "name": "stdout",
          "text": [
            "Downloading data from https://storage.googleapis.com/tensorflow/tf-keras-datasets/mnist.npz\n",
            "\u001b[1m11490434/11490434\u001b[0m \u001b[32m━━━━━━━━━━━━━━━━━━━━\u001b[0m\u001b[37m\u001b[0m \u001b[1m0s\u001b[0m 0us/step\n"
          ]
        }
      ]
    },
    {
      "cell_type": "code",
      "source": [
        "\n",
        "type(X_train)"
      ],
      "metadata": {
        "colab": {
          "base_uri": "https://localhost:8080/"
        },
        "id": "6_hIxee9-a1H",
        "outputId": "0ec844da-ea84-4fe2-a9bf-727aa80085da"
      },
      "execution_count": 4,
      "outputs": [
        {
          "output_type": "execute_result",
          "data": {
            "text/plain": [
              "numpy.ndarray"
            ]
          },
          "metadata": {},
          "execution_count": 4
        }
      ]
    },
    {
      "cell_type": "code",
      "source": [
        "print(X_train.shape,Y_train.shape,X_test.shape,Y_test.shape)"
      ],
      "metadata": {
        "colab": {
          "base_uri": "https://localhost:8080/"
        },
        "id": "yTRMeOqG-gyS",
        "outputId": "3ddee1f0-b938-4942-d27b-9795729971d5"
      },
      "execution_count": 5,
      "outputs": [
        {
          "output_type": "stream",
          "name": "stdout",
          "text": [
            "(60000, 28, 28) (60000,) (10000, 28, 28) (10000,)\n"
          ]
        }
      ]
    },
    {
      "cell_type": "code",
      "source": [
        "print(X_train[10])"
      ],
      "metadata": {
        "colab": {
          "base_uri": "https://localhost:8080/"
        },
        "id": "k_8Vl_ux-5Oe",
        "outputId": "a21618bd-db04-4d85-e155-a2ad9d6e284a"
      },
      "execution_count": 6,
      "outputs": [
        {
          "output_type": "stream",
          "name": "stdout",
          "text": [
            "[[  0   0   0   0   0   0   0   0   0   0   0   0   0   0   0   0   0   0\n",
            "    0   0   0   0   0   0   0   0   0   0]\n",
            " [  0   0   0   0   0   0   0   0   0   0   0   0   0   0   0   0   0   0\n",
            "    0   0   0   0   0   0   0   0   0   0]\n",
            " [  0   0   0   0   0   0   0   0   0   0   0   0   0   0   0   0   0   0\n",
            "    0   0   0   0   0   0   0   0   0   0]\n",
            " [  0   0   0   0   0   0   0   0   0   0   0   0   0   0   0   0   0   0\n",
            "    0   0   0   0   0   0   0   0   0   0]\n",
            " [  0   0   0   0   0   0   0   0   0   0   0  42 118 219 166 118 118   6\n",
            "    0   0   0   0   0   0   0   0   0   0]\n",
            " [  0   0   0   0   0   0   0   0   0   0 103 242 254 254 254 254 254  66\n",
            "    0   0   0   0   0   0   0   0   0   0]\n",
            " [  0   0   0   0   0   0   0   0   0   0  18 232 254 254 254 254 254 238\n",
            "   70   0   0   0   0   0   0   0   0   0]\n",
            " [  0   0   0   0   0   0   0   0   0   0   0 104 244 254 224 254 254 254\n",
            "  141   0   0   0   0   0   0   0   0   0]\n",
            " [  0   0   0   0   0   0   0   0   0   0   0   0 207 254 210 254 254 254\n",
            "   34   0   0   0   0   0   0   0   0   0]\n",
            " [  0   0   0   0   0   0   0   0   0   0   0   0  84 206 254 254 254 254\n",
            "   41   0   0   0   0   0   0   0   0   0]\n",
            " [  0   0   0   0   0   0   0   0   0   0   0   0   0  24 209 254 254 254\n",
            "  171   0   0   0   0   0   0   0   0   0]\n",
            " [  0   0   0   0   0   0   0   0   0   0   0   0  91 137 253 254 254 254\n",
            "  112   0   0   0   0   0   0   0   0   0]\n",
            " [  0   0   0   0   0   0   0   0   0   0  40 214 250 254 254 254 254 254\n",
            "   34   0   0   0   0   0   0   0   0   0]\n",
            " [  0   0   0   0   0   0   0   0   0   0  81 247 254 254 254 254 254 254\n",
            "  146   0   0   0   0   0   0   0   0   0]\n",
            " [  0   0   0   0   0   0   0   0   0   0   0 110 246 254 254 254 254 254\n",
            "  171   0   0   0   0   0   0   0   0   0]\n",
            " [  0   0   0   0   0   0   0   0   0   0   0   0  73  89  89  93 240 254\n",
            "  171   0   0   0   0   0   0   0   0   0]\n",
            " [  0   0   0   0   0   0   0   0   0   0   0   0   0   0   0   1 128 254\n",
            "  219  31   0   0   0   0   0   0   0   0]\n",
            " [  0   0   0   0   0   0   0   0   0   0   0   0   0   0   0   7 254 254\n",
            "  214  28   0   0   0   0   0   0   0   0]\n",
            " [  0   0   0   0   0   0   0   0   0   0   0   0   0   0   0 138 254 254\n",
            "  116   0   0   0   0   0   0   0   0   0]\n",
            " [  0   0   0   0   0   0  19 177  90   0   0   0   0   0  25 240 254 254\n",
            "   34   0   0   0   0   0   0   0   0   0]\n",
            " [  0   0   0   0   0   0 164 254 215  63  36   0  51  89 206 254 254 139\n",
            "    8   0   0   0   0   0   0   0   0   0]\n",
            " [  0   0   0   0   0   0  57 197 254 254 222 180 241 254 254 253 213  11\n",
            "    0   0   0   0   0   0   0   0   0   0]\n",
            " [  0   0   0   0   0   0   0 140 105 254 254 254 254 254 254 236   0   0\n",
            "    0   0   0   0   0   0   0   0   0   0]\n",
            " [  0   0   0   0   0   0   0   0   7 117 117 165 254 254 239  50   0   0\n",
            "    0   0   0   0   0   0   0   0   0   0]\n",
            " [  0   0   0   0   0   0   0   0   0   0   0   0   0   0   0   0   0   0\n",
            "    0   0   0   0   0   0   0   0   0   0]\n",
            " [  0   0   0   0   0   0   0   0   0   0   0   0   0   0   0   0   0   0\n",
            "    0   0   0   0   0   0   0   0   0   0]\n",
            " [  0   0   0   0   0   0   0   0   0   0   0   0   0   0   0   0   0   0\n",
            "    0   0   0   0   0   0   0   0   0   0]\n",
            " [  0   0   0   0   0   0   0   0   0   0   0   0   0   0   0   0   0   0\n",
            "    0   0   0   0   0   0   0   0   0   0]]\n"
          ]
        }
      ]
    },
    {
      "cell_type": "code",
      "source": [
        "print(X_train[10].shape)"
      ],
      "metadata": {
        "colab": {
          "base_uri": "https://localhost:8080/"
        },
        "id": "1Ib4bD8dEd3e",
        "outputId": "0d80b7c8-b523-4362-c1a1-4b79ff941926"
      },
      "execution_count": 7,
      "outputs": [
        {
          "output_type": "stream",
          "name": "stdout",
          "text": [
            "(28, 28)\n"
          ]
        }
      ]
    },
    {
      "cell_type": "code",
      "source": [
        "plt.imshow(X_train[10])\n",
        "plt.show()\n",
        "print(\"The label is \",Y_train[10])"
      ],
      "metadata": {
        "colab": {
          "base_uri": "https://localhost:8080/",
          "height": 448
        },
        "id": "_dLe7fmHEhkr",
        "outputId": "80450683-2b7b-4070-e4fb-867d1cbd9d5a"
      },
      "execution_count": 8,
      "outputs": [
        {
          "output_type": "display_data",
          "data": {
            "text/plain": [
              "<Figure size 640x480 with 1 Axes>"
            ],
            "image/png": "[encoded data removed]"
          },
          "metadata": {}
        },
        {
          "output_type": "stream",
          "name": "stdout",
          "text": [
            "The label is  3\n"
          ]
        }
      ]
    },
    {
      "cell_type": "code",
      "source": [
        "print(Y_train.shape,Y_test.shape)"
      ],
      "metadata": {
        "colab": {
          "base_uri": "https://localhost:8080/"
        },
        "id": "sK0z4KptEnB9",
        "outputId": "945e07ac-1169-4ae3-a034-a5dde1a7c9a6"
      },
      "execution_count": 9,
      "outputs": [
        {
          "output_type": "stream",
          "name": "stdout",
          "text": [
            "(60000,) (10000,)\n"
          ]
        }
      ]
    },
    {
      "cell_type": "code",
      "source": [
        "print(np.unique(Y_train))\n",
        "print(np.unique(Y_test))"
      ],
      "metadata": {
        "colab": {
          "base_uri": "https://localhost:8080/"
        },
        "id": "ppbNIZpJFkTq",
        "outputId": "04a70c85-f49e-4643-9aaa-5582cdf4f478"
      },
      "execution_count": 10,
      "outputs": [
        {
          "output_type": "stream",
          "name": "stdout",
          "text": [
            "[0 1 2 3 4 5 6 7 8 9]\n",
            "[0 1 2 3 4 5 6 7 8 9]\n"
          ]
        }
      ]
    },
    {
      "cell_type": "code",
      "source": [
        "X_train=X_train/255\n",
        "X_test=X_test/255"
      ],
      "metadata": {
        "id": "e0AC-hwUF0zX"
      },
      "execution_count": 11,
      "outputs": []
    },
    {
      "cell_type": "code",
      "source": [
        "print(X_train[10])"
      ],
      "metadata": {
        "colab": {
          "base_uri": "https://localhost:8080/"
        },
        "id": "WiSOsodWG18s",
        "outputId": "f1d4cf47-c3c3-4495-94f8-3f15c5e3d1ed"
      },
      "execution_count": 12,
      "outputs": [
        {
          "output_type": "stream",
          "name": "stdout",
          "text": [
            "[[0.         0.         0.         0.         0.         0.\n",
            "  0.         0.         0.         0.         0.         0.\n",
            "  0.         0.         0.         0.         0.         0.\n",
            "  0.         0.         0.         0.         0.         0.\n",
            "  0.         0.         0.         0.        ]\n",
            " [0.         0.         0.         0.         0.         0.\n",
            "  0.         0.         0.         0.         0.         0.\n",
            "  0.         0.         0.         0.         0.         0.\n",
            "  0.         0.         0.         0.         0.         0.\n",
            "  0.         0.         0.         0.        ]\n",
            " [0.         0.         0.         0.         0.         0.\n",
            "  0.         0.         0.         0.         0.         0.\n",
            "  0.         0.         0.         0.         0.         0.\n",
            "  0.         0.         0.         0.         0.         0.\n",
            "  0.         0.         0.         0.        ]\n",
            " [0.         0.         0.         0.         0.         0.\n",
            "  0.         0.         0.         0.         0.         0.\n",
            "  0.         0.         0.         0.         0.         0.\n",
            "  0.         0.         0.         0.         0.         0.\n",
            "  0.         0.         0.         0.        ]\n",
            " [0.         0.         0.         0.         0.         0.\n",
            "  0.         0.         0.         0.         0.         0.16470588\n",
            "  0.4627451  0.85882353 0.65098039 0.4627451  0.4627451  0.02352941\n",
            "  0.         0.         0.         0.         0.         0.\n",
            "  0.         0.         0.         0.        ]\n",
            " [0.         0.         0.         0.         0.         0.\n",
            "  0.         0.         0.         0.         0.40392157 0.94901961\n",
            "  0.99607843 0.99607843 0.99607843 0.99607843 0.99607843 0.25882353\n",
            "  0.         0.         0.         0.         0.         0.\n",
            "  0.         0.         0.         0.        ]\n",
            " [0.         0.         0.         0.         0.         0.\n",
            "  0.         0.         0.         0.         0.07058824 0.90980392\n",
            "  0.99607843 0.99607843 0.99607843 0.99607843 0.99607843 0.93333333\n",
            "  0.2745098  0.         0.         0.         0.         0.\n",
            "  0.         0.         0.         0.        ]\n",
            " [0.         0.         0.         0.         0.         0.\n",
            "  0.         0.         0.         0.         0.         0.40784314\n",
            "  0.95686275 0.99607843 0.87843137 0.99607843 0.99607843 0.99607843\n",
            "  0.55294118 0.         0.         0.         0.         0.\n",
            "  0.         0.         0.         0.        ]\n",
            " [0.         0.         0.         0.         0.         0.\n",
            "  0.         0.         0.         0.         0.         0.\n",
            "  0.81176471 0.99607843 0.82352941 0.99607843 0.99607843 0.99607843\n",
            "  0.13333333 0.         0.         0.         0.         0.\n",
            "  0.         0.         0.         0.        ]\n",
            " [0.         0.         0.         0.         0.         0.\n",
            "  0.         0.         0.         0.         0.         0.\n",
            "  0.32941176 0.80784314 0.99607843 0.99607843 0.99607843 0.99607843\n",
            "  0.16078431 0.         0.         0.         0.         0.\n",
            "  0.         0.         0.         0.        ]\n",
            " [0.         0.         0.         0.         0.         0.\n",
            "  0.         0.         0.         0.         0.         0.\n",
            "  0.         0.09411765 0.81960784 0.99607843 0.99607843 0.99607843\n",
            "  0.67058824 0.         0.         0.         0.         0.\n",
            "  0.         0.         0.         0.        ]\n",
            " [0.         0.         0.         0.         0.         0.\n",
            "  0.         0.         0.         0.         0.         0.\n",
            "  0.35686275 0.5372549  0.99215686 0.99607843 0.99607843 0.99607843\n",
            "  0.43921569 0.         0.         0.         0.         0.\n",
            "  0.         0.         0.         0.        ]\n",
            " [0.         0.         0.         0.         0.         0.\n",
            "  0.         0.         0.         0.         0.15686275 0.83921569\n",
            "  0.98039216 0.99607843 0.99607843 0.99607843 0.99607843 0.99607843\n",
            "  0.13333333 0.         0.         0.         0.         0.\n",
            "  0.         0.         0.         0.        ]\n",
            " [0.         0.         0.         0.         0.         0.\n",
            "  0.         0.         0.         0.         0.31764706 0.96862745\n",
            "  0.99607843 0.99607843 0.99607843 0.99607843 0.99607843 0.99607843\n",
            "  0.57254902 0.         0.         0.         0.         0.\n",
            "  0.         0.         0.         0.        ]\n",
            " [0.         0.         0.         0.         0.         0.\n",
            "  0.         0.         0.         0.         0.         0.43137255\n",
            "  0.96470588 0.99607843 0.99607843 0.99607843 0.99607843 0.99607843\n",
            "  0.67058824 0.         0.         0.         0.         0.\n",
            "  0.         0.         0.         0.        ]\n",
            " [0.         0.         0.         0.         0.         0.\n",
            "  0.         0.         0.         0.         0.         0.\n",
            "  0.28627451 0.34901961 0.34901961 0.36470588 0.94117647 0.99607843\n",
            "  0.67058824 0.         0.         0.         0.         0.\n",
            "  0.         0.         0.         0.        ]\n",
            " [0.         0.         0.         0.         0.         0.\n",
            "  0.         0.         0.         0.         0.         0.\n",
            "  0.         0.         0.         0.00392157 0.50196078 0.99607843\n",
            "  0.85882353 0.12156863 0.         0.         0.         0.\n",
            "  0.         0.         0.         0.        ]\n",
            " [0.         0.         0.         0.         0.         0.\n",
            "  0.         0.         0.         0.         0.         0.\n",
            "  0.         0.         0.         0.02745098 0.99607843 0.99607843\n",
            "  0.83921569 0.10980392 0.         0.         0.         0.\n",
            "  0.         0.         0.         0.        ]\n",
            " [0.         0.         0.         0.         0.         0.\n",
            "  0.         0.         0.         0.         0.         0.\n",
            "  0.         0.         0.         0.54117647 0.99607843 0.99607843\n",
            "  0.45490196 0.         0.         0.         0.         0.\n",
            "  0.         0.         0.         0.        ]\n",
            " [0.         0.         0.         0.         0.         0.\n",
            "  0.0745098  0.69411765 0.35294118 0.         0.         0.\n",
            "  0.         0.         0.09803922 0.94117647 0.99607843 0.99607843\n",
            "  0.13333333 0.         0.         0.         0.         0.\n",
            "  0.         0.         0.         0.        ]\n",
            " [0.         0.         0.         0.         0.         0.\n",
            "  0.64313725 0.99607843 0.84313725 0.24705882 0.14117647 0.\n",
            "  0.2        0.34901961 0.80784314 0.99607843 0.99607843 0.54509804\n",
            "  0.03137255 0.         0.         0.         0.         0.\n",
            "  0.         0.         0.         0.        ]\n",
            " [0.         0.         0.         0.         0.         0.\n",
            "  0.22352941 0.77254902 0.99607843 0.99607843 0.87058824 0.70588235\n",
            "  0.94509804 0.99607843 0.99607843 0.99215686 0.83529412 0.04313725\n",
            "  0.         0.         0.         0.         0.         0.\n",
            "  0.         0.         0.         0.        ]\n",
            " [0.         0.         0.         0.         0.         0.\n",
            "  0.         0.54901961 0.41176471 0.99607843 0.99607843 0.99607843\n",
            "  0.99607843 0.99607843 0.99607843 0.9254902  0.         0.\n",
            "  0.         0.         0.         0.         0.         0.\n",
            "  0.         0.         0.         0.        ]\n",
            " [0.         0.         0.         0.         0.         0.\n",
            "  0.         0.         0.02745098 0.45882353 0.45882353 0.64705882\n",
            "  0.99607843 0.99607843 0.9372549  0.19607843 0.         0.\n",
            "  0.         0.         0.         0.         0.         0.\n",
            "  0.         0.         0.         0.        ]\n",
            " [0.         0.         0.         0.         0.         0.\n",
            "  0.         0.         0.         0.         0.         0.\n",
            "  0.         0.         0.         0.         0.         0.\n",
            "  0.         0.         0.         0.         0.         0.\n",
            "  0.         0.         0.         0.        ]\n",
            " [0.         0.         0.         0.         0.         0.\n",
            "  0.         0.         0.         0.         0.         0.\n",
            "  0.         0.         0.         0.         0.         0.\n",
            "  0.         0.         0.         0.         0.         0.\n",
            "  0.         0.         0.         0.        ]\n",
            " [0.         0.         0.         0.         0.         0.\n",
            "  0.         0.         0.         0.         0.         0.\n",
            "  0.         0.         0.         0.         0.         0.\n",
            "  0.         0.         0.         0.         0.         0.\n",
            "  0.         0.         0.         0.        ]\n",
            " [0.         0.         0.         0.         0.         0.\n",
            "  0.         0.         0.         0.         0.         0.\n",
            "  0.         0.         0.         0.         0.         0.\n",
            "  0.         0.         0.         0.         0.         0.\n",
            "  0.         0.         0.         0.        ]]\n"
          ]
        }
      ]
    },
    {
      "cell_type": "code",
      "source": [
        "model=keras.Sequential([\n",
        "    keras.layers.Flatten(input_shape=(28,28)),\n",
        "    keras.layers.Dense(50,activation='relu'),\n",
        "    keras.layers.Dense(50,activation='relu'),\n",
        "    keras.layers.Dense(10,activation='sigmoid')\n",
        "\n",
        "\n",
        "\n",
        "])"
      ],
      "metadata": {
        "colab": {
          "base_uri": "https://localhost:8080/"
        },
        "id": "gwePCTjkG4Y-",
        "outputId": "17064f94-4b71-484f-9b56-e8aecf2bc0bc"
      },
      "execution_count": 13,
      "outputs": [
        {
          "output_type": "stream",
          "name": "stderr",
          "text": [
            "/usr/local/lib/python3.11/dist-packages/keras/src/layers/reshaping/flatten.py:37: UserWarning: Do not pass an `input_shape`/`input_dim` argument to a layer. When using Sequential models, prefer using an `Input(shape)` object as the first layer in the model instead.\n",
            "  super().__init__(**kwargs)\n"
          ]
        }
      ]
    },
    {
      "cell_type": "code",
      "source": [
        "model.compile(\n",
        "    optimizer='adam',\n",
        "    loss='sparse_categorical_crossentropy',\n",
        "    metrics=['accuracy']\n",
        ")"
      ],
      "metadata": {
        "id": "OV4xUpK0JbV-"
      },
      "execution_count": 14,
      "outputs": []
    },
    {
      "cell_type": "code",
      "source": [
        "model.fit(X_train,Y_train,epochs=10)"
      ],
      "metadata": {
        "colab": {
          "base_uri": "https://localhost:8080/"
        },
        "id": "77VRh1UGKQpq",
        "outputId": "c10959a9-470d-414a-8fe0-3603c4631f94"
      },
      "execution_count": 15,
      "outputs": [
        {
          "output_type": "stream",
          "name": "stdout",
          "text": [
            "Epoch 1/10\n",
            "\u001b[1m1875/1875\u001b[0m \u001b[32m━━━━━━━━━━━━━━━━━━━━\u001b[0m\u001b[37m\u001b[0m \u001b[1m5s\u001b[0m 2ms/step - accuracy: 0.8475 - loss: 0.5167\n",
            "Epoch 2/10\n",
            "\u001b[1m1875/1875\u001b[0m \u001b[32m━━━━━━━━━━━━━━━━━━━━\u001b[0m\u001b[37m\u001b[0m \u001b[1m7s\u001b[0m 3ms/step - accuracy: 0.9556 - loss: 0.1483\n",
            "Epoch 3/10\n",
            "\u001b[1m1875/1875\u001b[0m \u001b[32m━━━━━━━━━━━━━━━━━━━━\u001b[0m\u001b[37m\u001b[0m \u001b[1m4s\u001b[0m 2ms/step - accuracy: 0.9680 - loss: 0.1069\n",
            "Epoch 4/10\n",
            "\u001b[1m1875/1875\u001b[0m \u001b[32m━━━━━━━━━━━━━━━━━━━━\u001b[0m\u001b[37m\u001b[0m \u001b[1m5s\u001b[0m 3ms/step - accuracy: 0.9743 - loss: 0.0845\n",
            "Epoch 5/10\n",
            "\u001b[1m1875/1875\u001b[0m \u001b[32m━━━━━━━━━━━━━━━━━━━━\u001b[0m\u001b[37m\u001b[0m \u001b[1m4s\u001b[0m 2ms/step - accuracy: 0.9788 - loss: 0.0685\n",
            "Epoch 6/10\n",
            "\u001b[1m1875/1875\u001b[0m \u001b[32m━━━━━━━━━━━━━━━━━━━━\u001b[0m\u001b[37m\u001b[0m \u001b[1m4s\u001b[0m 2ms/step - accuracy: 0.9827 - loss: 0.0582\n",
            "Epoch 7/10\n",
            "\u001b[1m1875/1875\u001b[0m \u001b[32m━━━━━━━━━━━━━━━━━━━━\u001b[0m\u001b[37m\u001b[0m \u001b[1m6s\u001b[0m 3ms/step - accuracy: 0.9848 - loss: 0.0500\n",
            "Epoch 8/10\n",
            "\u001b[1m1875/1875\u001b[0m \u001b[32m━━━━━━━━━━━━━━━━━━━━\u001b[0m\u001b[37m\u001b[0m \u001b[1m4s\u001b[0m 2ms/step - accuracy: 0.9867 - loss: 0.0430\n",
            "Epoch 9/10\n",
            "\u001b[1m1875/1875\u001b[0m \u001b[32m━━━━━━━━━━━━━━━━━━━━\u001b[0m\u001b[37m\u001b[0m \u001b[1m4s\u001b[0m 2ms/step - accuracy: 0.9884 - loss: 0.0372\n",
            "Epoch 10/10\n",
            "\u001b[1m1875/1875\u001b[0m \u001b[32m━━━━━━━━━━━━━━━━━━━━\u001b[0m\u001b[37m\u001b[0m \u001b[1m5s\u001b[0m 2ms/step - accuracy: 0.9894 - loss: 0.0336\n"
          ]
        },
        {
          "output_type": "execute_result",
          "data": {
            "text/plain": [
              "<keras.src.callbacks.history.History at 0x7a91d56fb290>"
            ]
          },
          "metadata": {},
          "execution_count": 15
        }
      ]
    },
    {
      "cell_type": "code",
      "source": [
        "loss,accuracy=model.evaluate(X_test,Y_test)\n",
        "print(accuracy)"
      ],
      "metadata": {
        "colab": {
          "base_uri": "https://localhost:8080/"
        },
        "id": "QuBv0d_kKikI",
        "outputId": "2d6a581d-71ce-4fa0-812b-5d9919840743"
      },
      "execution_count": 16,
      "outputs": [
        {
          "output_type": "stream",
          "name": "stdout",
          "text": [
            "\u001b[1m313/313\u001b[0m \u001b[32m━━━━━━━━━━━━━━━━━━━━\u001b[0m\u001b[37m\u001b[0m \u001b[1m1s\u001b[0m 2ms/step - accuracy: 0.9639 - loss: 0.1501\n",
            "0.9677000045776367\n"
          ]
        }
      ]
    },
    {
      "cell_type": "code",
      "source": [
        "print(X_test.shape)"
      ],
      "metadata": {
        "colab": {
          "base_uri": "https://localhost:8080/"
        },
        "id": "tAV3PC1rLcHz",
        "outputId": "5998f684-fe75-4a4b-cf41-c0616338bfdb"
      },
      "execution_count": 17,
      "outputs": [
        {
          "output_type": "stream",
          "name": "stdout",
          "text": [
            "(10000, 28, 28)\n"
          ]
        }
      ]
    },
    {
      "cell_type": "code",
      "source": [
        "plt.imshow(X_test[0])\n",
        "plt.show()"
      ],
      "metadata": {
        "colab": {
          "base_uri": "https://localhost:8080/",
          "height": 430
        },
        "id": "bmJC4KNAL08r",
        "outputId": "3d36ac7d-8ec0-4492-9c6a-4d0972ce880f"
      },
      "execution_count": 18,
      "outputs": [
        {
          "output_type": "display_data",
          "data": {
            "text/plain": [
              "<Figure size 640x480 with 1 Axes>"
            ],
            "image/png": "[encoded data removed]"
          },
          "metadata": {}
        }
      ]
    },
    {
      "cell_type": "code",
      "source": [
        "print(Y_test[0])"
      ],
      "metadata": {
        "colab": {
          "base_uri": "https://localhost:8080/"
        },
        "id": "aWvFe8u_MpCk",
        "outputId": "b466faa6-1fb9-4617-cd95-ea45d9976286"
      },
      "execution_count": 19,
      "outputs": [
        {
          "output_type": "stream",
          "name": "stdout",
          "text": [
            "7\n"
          ]
        }
      ]
    },
    {
      "cell_type": "code",
      "source": [
        "Y_pred=model.predict(X_test)"
      ],
      "metadata": {
        "colab": {
          "base_uri": "https://localhost:8080/"
        },
        "id": "I0MqhVlgM8f9",
        "outputId": "905b7db4-d756-483b-9fe6-6027f61a5299"
      },
      "execution_count": 20,
      "outputs": [
        {
          "output_type": "stream",
          "name": "stdout",
          "text": [
            "\u001b[1m313/313\u001b[0m \u001b[32m━━━━━━━━━━━━━━━━━━━━\u001b[0m\u001b[37m\u001b[0m \u001b[1m0s\u001b[0m 1ms/step\n"
          ]
        }
      ]
    },
    {
      "cell_type": "code",
      "source": [
        "Y_pred.shape"
      ],
      "metadata": {
        "colab": {
          "base_uri": "https://localhost:8080/"
        },
        "id": "FvbVIGcBWCUM",
        "outputId": "daeb3d56-00fa-4dbc-d244-5e06a5110df4"
      },
      "execution_count": 21,
      "outputs": [
        {
          "output_type": "execute_result",
          "data": {
            "text/plain": [
              "(10000, 10)"
            ]
          },
          "metadata": {},
          "execution_count": 21
        }
      ]
    },
    {
      "cell_type": "code",
      "source": [
        "Y_pred[0]"
      ],
      "metadata": {
        "colab": {
          "base_uri": "https://localhost:8080/"
        },
        "id": "AYq4N1_sWGlP",
        "outputId": "30edc092-f49b-4fc7-a98e-3f23393a193c"
      },
      "execution_count": 22,
      "outputs": [
        {
          "output_type": "execute_result",
          "data": {
            "text/plain": [
              "array([2.6534775e-01, 5.1634521e-03, 1.0234145e-01, 9.8963952e-01,\n",
              "       2.9259561e-06, 3.3503581e-02, 5.1444943e-10, 9.9999720e-01,\n",
              "       3.5797679e-04, 7.8383440e-01], dtype=float32)"
            ]
          },
          "metadata": {},
          "execution_count": 22
        }
      ]
    },
    {
      "cell_type": "code",
      "source": [
        "Y_pred_labels = [np.argmax(i) for i in Y_pred]\n",
        "print(Y_pred_labels)"
      ],
      "metadata": {
        "colab": {
          "base_uri": "https://localhost:8080/"
        },
        "id": "fcRBH9sGWQR2",
        "outputId": "4ffe36d8-e520-4b71-f440-c90d28cf7649"
      },
      "execution_count": 23,
      "outputs": [
        {
          "output_type": "stream",
          "name": "stdout",
          "text": [
            "[np.int64(7), np.int64(2), np.int64(1), np.int64(0), np.int64(4), np.int64(1), np.int64(4), np.int64(9), np.int64(5), np.int64(9), np.int64(0), np.int64(6), np.int64(9), np.int64(0), np.int64(1), np.int64(5), np.int64(9), np.int64(7), np.int64(3), np.int64(4), np.int64(9), np.int64(6), np.int64(6), np.int64(5), np.int64(4), np.int64(0), np.int64(7), np.int64(4), np.int64(0), np.int64(1), np.int64(3), np.int64(1), np.int64(3), np.int64(4), np.int64(7), np.int64(2), np.int64(7), np.int64(1), np.int64(3), np.int64(1), np.int64(1), np.int64(7), np.int64(4), np.int64(2), np.int64(3), np.int64(5), np.int64(1), np.int64(2), np.int64(4), np.int64(4), np.int64(6), np.int64(3), np.int64(5), np.int64(5), np.int64(6), np.int64(0), np.int64(4), np.int64(1), np.int64(9), np.int64(5), np.int64(7), np.int64(2), np.int64(9), np.int64(3), np.int64(7), np.int64(4), np.int64(6), np.int64(4), np.int64(3), np.int64(0), np.int64(7), np.int64(0), np.int64(2), np.int64(9), np.int64(1), np.int64(7), np.int64(3), np.int64(2), np.int64(9), np.int64(7), np.int64(7), np.int64(6), np.int64(2), np.int64(7), np.int64(8), np.int64(4), np.int64(7), np.int64(3), np.int64(6), np.int64(1), np.int64(3), np.int64(6), np.int64(9), np.int64(3), np.int64(1), np.int64(4), np.int64(1), np.int64(7), np.int64(6), np.int64(9), np.int64(6), np.int64(0), np.int64(5), np.int64(4), np.int64(5), np.int64(9), np.int64(2), np.int64(1), np.int64(9), np.int64(4), np.int64(8), np.int64(7), np.int64(3), np.int64(9), np.int64(7), np.int64(4), np.int64(4), np.int64(4), np.int64(9), np.int64(2), np.int64(5), np.int64(4), np.int64(7), np.int64(6), np.int64(7), np.int64(9), np.int64(0), np.int64(5), np.int64(8), np.int64(5), np.int64(6), np.int64(6), np.int64(5), np.int64(7), np.int64(8), np.int64(1), np.int64(0), np.int64(1), np.int64(6), np.int64(4), np.int64(6), np.int64(7), np.int64(3), np.int64(1), np.int64(7), np.int64(1), np.int64(8), np.int64(2), np.int64(0), np.int64(2), np.int64(9), np.int64(8), np.int64(5), np.int64(5), np.int64(1), np.int64(5), np.int64(6), np.int64(0), np.int64(3), np.int64(4), np.int64(4), np.int64(6), np.int64(5), np.int64(4), np.int64(6), np.int64(5), np.int64(4), np.int64(5), np.int64(1), np.int64(4), np.int64(4), np.int64(7), np.int64(2), np.int64(3), np.int64(2), np.int64(7), np.int64(1), np.int64(8), np.int64(1), np.int64(8), np.int64(1), np.int64(8), np.int64(5), np.int64(0), np.int64(8), np.int64(9), np.int64(2), np.int64(5), np.int64(0), np.int64(1), np.int64(1), np.int64(1), np.int64(0), np.int64(8), np.int64(0), np.int64(8), np.int64(1), np.int64(6), np.int64(4), np.int64(2), np.int64(3), np.int64(6), np.int64(1), np.int64(1), np.int64(1), np.int64(3), np.int64(9), np.int64(5), np.int64(2), np.int64(9), np.int64(4), np.int64(5), np.int64(9), np.int64(3), np.int64(9), np.int64(0), np.int64(3), np.int64(6), np.int64(5), np.int64(5), np.int64(7), np.int64(2), np.int64(2), np.int64(7), np.int64(1), np.int64(2), np.int64(8), np.int64(4), np.int64(1), np.int64(7), np.int64(3), np.int64(3), np.int64(8), np.int64(8), np.int64(7), np.int64(9), np.int64(2), np.int64(2), np.int64(4), np.int64(1), np.int64(5), np.int64(9), np.int64(8), np.int64(7), np.int64(2), np.int64(3), np.int64(0), np.int64(6), np.int64(4), np.int64(2), np.int64(4), np.int64(1), np.int64(9), np.int64(5), np.int64(7), np.int64(7), np.int64(2), np.int64(8), np.int64(2), np.int64(0), np.int64(8), np.int64(5), np.int64(7), np.int64(7), np.int64(9), np.int64(1), np.int64(8), np.int64(1), np.int64(8), np.int64(0), np.int64(3), np.int64(0), np.int64(1), np.int64(9), np.int64(9), np.int64(4), np.int64(1), np.int64(8), np.int64(2), np.int64(1), np.int64(2), np.int64(9), np.int64(7), np.int64(5), np.int64(9), np.int64(2), np.int64(6), np.int64(4), np.int64(1), np.int64(5), np.int64(8), np.int64(2), np.int64(9), np.int64(2), np.int64(0), np.int64(4), np.int64(0), np.int64(0), np.int64(2), np.int64(8), np.int64(4), np.int64(7), np.int64(1), np.int64(2), np.int64(4), np.int64(0), np.int64(2), np.int64(7), np.int64(4), np.int64(3), np.int64(3), np.int64(0), np.int64(0), np.int64(3), np.int64(1), np.int64(9), np.int64(6), np.int64(5), np.int64(3), np.int64(5), np.int64(9), np.int64(7), np.int64(9), np.int64(3), np.int64(0), np.int64(4), np.int64(2), np.int64(0), np.int64(7), np.int64(1), np.int64(1), np.int64(2), np.int64(1), np.int64(5), np.int64(3), np.int64(3), np.int64(9), np.int64(7), np.int64(8), np.int64(6), np.int64(3), np.int64(6), np.int64(1), np.int64(3), np.int64(8), np.int64(1), np.int64(0), np.int64(5), np.int64(1), np.int64(3), np.int64(1), np.int64(5), np.int64(5), np.int64(6), np.int64(1), np.int64(8), np.int64(5), np.int64(1), np.int64(4), np.int64(9), np.int64(4), np.int64(6), np.int64(2), np.int64(2), np.int64(5), np.int64(0), np.int64(6), np.int64(5), np.int64(6), np.int64(3), np.int64(7), np.int64(2), np.int64(0), np.int64(8), np.int64(8), np.int64(5), np.int64(4), np.int64(1), np.int64(1), np.int64(4), np.int64(0), np.int64(3), np.int64(3), np.int64(7), np.int64(6), np.int64(1), np.int64(6), np.int64(2), np.int64(1), np.int64(9), np.int64(2), np.int64(8), np.int64(6), np.int64(1), np.int64(9), np.int64(5), np.int64(2), np.int64(5), np.int64(4), np.int64(4), np.int64(2), np.int64(8), np.int64(3), np.int64(8), np.int64(2), np.int64(4), np.int64(5), np.int64(0), np.int64(3), np.int64(1), np.int64(7), np.int64(7), np.int64(5), np.int64(7), np.int64(9), np.int64(7), np.int64(1), np.int64(9), np.int64(2), np.int64(1), np.int64(4), np.int64(2), np.int64(9), np.int64(2), np.int64(0), np.int64(4), np.int64(9), np.int64(1), np.int64(4), np.int64(8), np.int64(1), np.int64(8), np.int64(4), np.int64(5), np.int64(9), np.int64(8), np.int64(8), np.int64(3), np.int64(7), np.int64(6), np.int64(0), np.int64(0), np.int64(3), np.int64(0), np.int64(2), np.int64(0), np.int64(6), np.int64(4), np.int64(9), np.int64(3), np.int64(3), np.int64(3), np.int64(2), np.int64(3), np.int64(9), np.int64(1), np.int64(2), np.int64(6), np.int64(8), np.int64(0), np.int64(5), np.int64(6), np.int64(5), np.int64(6), np.int64(3), np.int64(8), np.int64(8), np.int64(2), np.int64(7), np.int64(5), np.int64(8), np.int64(9), np.int64(6), np.int64(1), np.int64(8), np.int64(4), np.int64(1), np.int64(2), np.int64(6), np.int64(9), np.int64(1), np.int64(9), np.int64(7), np.int64(5), np.int64(4), np.int64(0), np.int64(8), np.int64(9), np.int64(9), np.int64(1), np.int64(0), np.int64(5), np.int64(2), np.int64(3), np.int64(7), np.int64(0), np.int64(9), np.int64(4), np.int64(0), np.int64(6), np.int64(3), np.int64(9), np.int64(5), np.int64(2), np.int64(1), np.int64(3), np.int64(1), np.int64(3), np.int64(6), np.int64(5), np.int64(7), np.int64(4), np.int64(2), np.int64(2), np.int64(6), np.int64(3), np.int64(2), np.int64(6), np.int64(5), np.int64(4), np.int64(8), np.int64(9), np.int64(7), np.int64(1), np.int64(3), np.int64(0), np.int64(3), np.int64(8), np.int64(3), np.int64(1), np.int64(4), np.int64(3), np.int64(4), np.int64(4), np.int64(6), np.int64(4), np.int64(2), np.int64(1), np.int64(8), np.int64(2), np.int64(5), np.int64(4), np.int64(8), np.int64(8), np.int64(4), np.int64(0), np.int64(0), np.int64(2), np.int64(3), np.int64(2), np.int64(7), np.int64(7), np.int64(0), np.int64(8), np.int64(7), np.int64(4), np.int64(4), np.int64(7), np.int64(9), np.int64(6), np.int64(9), np.int64(0), np.int64(9), np.int64(8), np.int64(0), np.int64(4), np.int64(6), np.int64(0), np.int64(6), np.int64(3), np.int64(5), np.int64(4), np.int64(8), np.int64(3), np.int64(3), np.int64(9), np.int64(3), np.int64(3), np.int64(3), np.int64(7), np.int64(8), np.int64(0), np.int64(2), np.int64(2), np.int64(1), np.int64(7), np.int64(0), np.int64(6), np.int64(5), np.int64(4), np.int64(3), np.int64(8), np.int64(0), np.int64(9), np.int64(6), np.int64(3), np.int64(8), np.int64(0), np.int64(9), np.int64(9), np.int64(6), np.int64(8), np.int64(6), np.int64(8), np.int64(5), np.int64(7), np.int64(8), np.int64(6), np.int64(0), np.int64(2), np.int64(4), np.int64(0), np.int64(2), np.int64(8), np.int64(3), np.int64(1), np.int64(9), np.int64(7), np.int64(5), np.int64(8), np.int64(0), np.int64(8), np.int64(4), np.int64(6), np.int64(2), np.int64(6), np.int64(7), np.int64(9), np.int64(3), np.int64(2), np.int64(9), np.int64(8), np.int64(2), np.int64(2), np.int64(9), np.int64(2), np.int64(7), np.int64(3), np.int64(5), np.int64(9), np.int64(1), np.int64(8), np.int64(0), np.int64(2), np.int64(0), np.int64(5), np.int64(6), np.int64(1), np.int64(3), np.int64(7), np.int64(6), np.int64(7), np.int64(1), np.int64(2), np.int64(5), np.int64(8), np.int64(0), np.int64(3), np.int64(7), np.int64(3), np.int64(4), np.int64(0), np.int64(9), np.int64(1), np.int64(8), np.int64(6), np.int64(7), np.int64(7), np.int64(4), np.int64(3), np.int64(4), np.int64(9), np.int64(1), np.int64(9), np.int64(5), np.int64(1), np.int64(7), np.int64(3), np.int64(9), np.int64(7), np.int64(6), np.int64(9), np.int64(1), np.int64(3), np.int64(3), np.int64(8), np.int64(3), np.int64(3), np.int64(6), np.int64(7), np.int64(2), np.int64(8), np.int64(5), np.int64(8), np.int64(5), np.int64(1), np.int64(1), np.int64(4), np.int64(4), np.int64(3), np.int64(1), np.int64(0), np.int64(7), np.int64(7), np.int64(0), np.int64(7), np.int64(9), np.int64(4), np.int64(4), np.int64(8), np.int64(5), np.int64(5), np.int64(4), np.int64(0), np.int64(8), np.int64(2), np.int64(1), np.int64(0), np.int64(8), np.int64(4), np.int64(8), np.int64(0), np.int64(4), np.int64(0), np.int64(6), np.int64(1), np.int64(7), np.int64(3), np.int64(2), np.int64(6), np.int64(7), np.int64(2), np.int64(6), np.int64(9), np.int64(3), np.int64(1), np.int64(4), np.int64(6), np.int64(2), np.int64(5), np.int64(9), np.int64(2), np.int64(0), np.int64(6), np.int64(2), np.int64(1), np.int64(7), np.int64(3), np.int64(4), np.int64(1), np.int64(0), np.int64(5), np.int64(4), np.int64(3), np.int64(1), np.int64(1), np.int64(7), np.int64(4), np.int64(9), np.int64(9), np.int64(4), np.int64(8), np.int64(4), np.int64(0), np.int64(2), np.int64(4), np.int64(5), np.int64(1), np.int64(1), np.int64(6), np.int64(4), np.int64(7), np.int64(1), np.int64(9), np.int64(4), np.int64(2), np.int64(4), np.int64(1), np.int64(5), np.int64(5), np.int64(3), np.int64(8), np.int64(3), np.int64(1), np.int64(4), np.int64(5), np.int64(6), np.int64(8), np.int64(9), np.int64(4), np.int64(1), np.int64(5), np.int64(3), np.int64(8), np.int64(0), np.int64(3), np.int64(2), np.int64(5), np.int64(1), np.int64(2), np.int64(8), np.int64(3), np.int64(4), np.int64(4), np.int64(0), np.int64(8), np.int64(8), np.int64(3), np.int64(3), np.int64(1), np.int64(7), np.int64(3), np.int64(5), np.int64(8), np.int64(6), np.int64(3), np.int64(2), np.int64(6), np.int64(1), np.int64(3), np.int64(6), np.int64(0), np.int64(7), np.int64(2), np.int64(1), np.int64(7), np.int64(1), np.int64(4), np.int64(2), np.int64(4), np.int64(2), np.int64(1), np.int64(7), np.int64(9), np.int64(6), np.int64(1), np.int64(1), np.int64(2), np.int64(4), np.int64(3), np.int64(1), np.int64(7), np.int64(7), np.int64(4), np.int64(8), np.int64(0), np.int64(9), np.int64(3), np.int64(1), np.int64(3), np.int64(1), np.int64(0), np.int64(7), np.int64(7), np.int64(0), np.int64(3), np.int64(5), np.int64(5), np.int64(2), np.int64(7), np.int64(6), np.int64(6), np.int64(9), np.int64(2), np.int64(8), np.int64(3), np.int64(5), np.int64(2), np.int64(2), np.int64(5), np.int64(6), np.int64(0), np.int64(8), np.int64(2), np.int64(4), np.int64(2), np.int64(8), np.int64(8), np.int64(8), np.int64(8), np.int64(7), np.int64(4), np.int64(9), np.int64(3), np.int64(0), np.int64(6), np.int64(6), np.int64(3), np.int64(2), np.int64(1), np.int64(3), np.int64(2), np.int64(2), np.int64(9), np.int64(3), np.int64(0), np.int64(0), np.int64(5), np.int64(7), np.int64(8), np.int64(3), np.int64(4), np.int64(4), np.int64(6), np.int64(0), np.int64(2), np.int64(9), np.int64(1), np.int64(4), np.int64(7), np.int64(4), np.int64(7), np.int64(3), np.int64(9), np.int64(8), np.int64(8), np.int64(4), np.int64(7), np.int64(1), np.int64(2), np.int64(1), np.int64(2), np.int64(2), np.int64(3), np.int64(2), np.int64(3), np.int64(2), np.int64(3), np.int64(9), np.int64(1), np.int64(7), np.int64(4), np.int64(0), np.int64(3), np.int64(5), np.int64(5), np.int64(8), np.int64(6), np.int64(3), np.int64(0), np.int64(6), np.int64(7), np.int64(6), np.int64(6), np.int64(3), np.int64(2), np.int64(7), np.int64(9), np.int64(1), np.int64(1), np.int64(7), np.int64(4), np.int64(6), np.int64(4), np.int64(9), np.int64(5), np.int64(3), np.int64(3), np.int64(3), np.int64(4), np.int64(7), np.int64(8), np.int64(9), np.int64(1), np.int64(1), np.int64(6), np.int64(9), np.int64(1), np.int64(4), np.int64(4), np.int64(5), np.int64(4), np.int64(0), np.int64(6), np.int64(2), np.int64(2), np.int64(3), np.int64(1), np.int64(5), np.int64(1), np.int64(2), np.int64(0), np.int64(3), np.int64(8), np.int64(1), np.int64(2), np.int64(6), np.int64(7), np.int64(1), np.int64(6), np.int64(2), np.int64(3), np.int64(9), np.int64(0), np.int64(1), np.int64(2), np.int64(2), np.int64(0), np.int64(8), np.int64(9), np.int64(9), np.int64(0), np.int64(2), np.int64(3), np.int64(1), np.int64(9), np.int64(7), np.int64(8), np.int64(1), np.int64(0), np.int64(4), np.int64(1), np.int64(7), np.int64(9), np.int64(5), np.int64(4), np.int64(2), np.int64(6), np.int64(8), np.int64(1), np.int64(3), np.int64(7), np.int64(5), np.int64(4), np.int64(4), np.int64(1), np.int64(8), np.int64(1), np.int64(3), np.int64(8), np.int64(1), np.int64(2), np.int64(5), np.int64(8), np.int64(0), np.int64(6), np.int64(2), np.int64(1), np.int64(1), np.int64(3), np.int64(1), np.int64(5), np.int64(3), np.int64(4), np.int64(6), np.int64(9), np.int64(5), np.int64(0), np.int64(9), np.int64(2), np.int64(2), np.int64(4), np.int64(8), np.int64(2), np.int64(1), np.int64(7), np.int64(2), np.int64(4), np.int64(9), np.int64(4), np.int64(4), np.int64(0), np.int64(3), np.int64(9), np.int64(2), np.int64(2), np.int64(3), np.int64(3), np.int64(8), np.int64(3), np.int64(5), np.int64(7), np.int64(3), np.int64(5), np.int64(8), np.int64(1), np.int64(2), np.int64(4), np.int64(4), np.int64(6), np.int64(4), np.int64(9), np.int64(3), np.int64(1), np.int64(0), np.int64(6), np.int64(9), np.int64(5), np.int64(9), np.int64(5), np.int64(9), np.int64(7), np.int64(3), np.int64(8), np.int64(0), np.int64(3), np.int64(7), np.int64(1), np.int64(3), np.int64(6), np.int64(7), np.int64(8), np.int64(5), np.int64(9), np.int64(7), np.int64(9), np.int64(6), np.int64(5), np.int64(6), np.int64(3), np.int64(7), np.int64(4), np.int64(6), np.int64(5), np.int64(3), np.int64(5), np.int64(4), np.int64(7), np.int64(8), np.int64(7), np.int64(8), np.int64(0), np.int64(7), np.int64(6), np.int64(8), np.int64(8), np.int64(7), np.int64(3), np.int64(7), np.int64(1), np.int64(9), np.int64(5), np.int64(2), np.int64(7), np.int64(3), np.int64(5), np.int64(1), np.int64(1), np.int64(2), np.int64(1), np.int64(4), np.int64(7), np.int64(4), np.int64(7), np.int64(5), np.int64(4), np.int64(5), np.int64(4), np.int64(0), np.int64(8), np.int64(3), np.int64(6), np.int64(9), np.int64(6), np.int64(0), np.int64(2), np.int64(8), np.int64(4), np.int64(4), np.int64(4), np.int64(4), np.int64(6), np.int64(6), np.int64(4), np.int64(7), np.int64(9), np.int64(3), np.int64(4), np.int64(5), np.int64(5), np.int64(8), np.int64(7), np.int64(3), np.int64(7), np.int64(2), np.int64(7), np.int64(0), np.int64(2), np.int64(4), np.int64(1), np.int64(1), np.int64(6), np.int64(6), np.int64(9), np.int64(2), np.int64(8), np.int64(7), np.int64(2), np.int64(0), np.int64(1), np.int64(5), np.int64(0), np.int64(4), np.int64(1), np.int64(8), np.int64(0), np.int64(6), np.int64(0), np.int64(8), np.int64(6), np.int64(8), np.int64(1), np.int64(8), np.int64(0), np.int64(3), np.int64(3), np.int64(7), np.int64(2), np.int64(3), np.int64(6), np.int64(2), np.int64(1), np.int64(6), np.int64(1), np.int64(1), np.int64(3), np.int64(7), np.int64(9), np.int64(0), np.int64(8), np.int64(0), np.int64(5), np.int64(4), np.int64(0), np.int64(2), np.int64(8), np.int64(2), np.int64(2), np.int64(9), np.int64(8), np.int64(4), np.int64(0), np.int64(4), np.int64(5), np.int64(8), np.int64(5), np.int64(1), np.int64(2), np.int64(1), np.int64(3), np.int64(1), np.int64(7), np.int64(9), np.int64(6), np.int64(7), np.int64(2), np.int64(0), np.int64(5), np.int64(8), np.int64(8), np.int64(6), np.int64(2), np.int64(5), np.int64(6), np.int64(1), np.int64(9), np.int64(2), np.int64(1), np.int64(5), np.int64(8), np.int64(7), np.int64(0), np.int64(2), np.int64(4), np.int64(4), np.int64(3), np.int64(6), np.int64(8), np.int64(8), np.int64(2), np.int64(4), np.int64(0), np.int64(5), np.int64(0), np.int64(4), np.int64(4), np.int64(7), np.int64(9), np.int64(3), np.int64(4), np.int64(1), np.int64(5), np.int64(9), np.int64(7), np.int64(3), np.int64(5), np.int64(8), np.int64(8), np.int64(0), np.int64(5), np.int64(3), np.int64(3), np.int64(6), np.int64(6), np.int64(0), np.int64(1), np.int64(6), np.int64(0), np.int64(3), np.int64(5), np.int64(4), np.int64(4), np.int64(1), np.int64(2), np.int64(9), np.int64(1), np.int64(4), np.int64(6), np.int64(9), np.int64(9), np.int64(3), np.int64(9), np.int64(8), np.int64(4), np.int64(4), np.int64(3), np.int64(1), np.int64(3), np.int64(1), np.int64(3), np.int64(8), np.int64(7), np.int64(9), np.int64(4), np.int64(8), np.int64(8), np.int64(7), np.int64(9), np.int64(9), np.int64(1), np.int64(4), np.int64(5), np.int64(6), np.int64(0), np.int64(5), np.int64(2), np.int64(2), np.int64(6), np.int64(1), np.int64(5), np.int64(5), np.int64(2), np.int64(4), np.int64(9), np.int64(6), np.int64(2), np.int64(7), np.int64(7), np.int64(4), np.int64(2), np.int64(1), np.int64(1), np.int64(2), np.int64(8), np.int64(3), np.int64(7), np.int64(2), np.int64(4), np.int64(1), np.int64(7), np.int64(1), np.int64(7), np.int64(6), np.int64(7), np.int64(8), np.int64(2), np.int64(7), np.int64(3), np.int64(1), np.int64(7), np.int64(5), np.int64(8), np.int64(2), np.int64(6), np.int64(2), np.int64(2), np.int64(5), np.int64(6), np.int64(6), np.int64(0), np.int64(9), np.int64(2), np.int64(4), np.int64(3), np.int64(3), np.int64(9), np.int64(7), np.int64(6), np.int64(6), np.int64(8), np.int64(0), np.int64(4), np.int64(1), np.int64(3), np.int64(8), np.int64(3), np.int64(9), np.int64(1), np.int64(8), np.int64(0), np.int64(6), np.int64(7), np.int64(2), np.int64(1), np.int64(0), np.int64(5), np.int64(5), np.int64(2), np.int64(0), np.int64(2), np.int64(2), np.int64(0), np.int64(2), np.int64(4), np.int64(9), np.int64(8), np.int64(0), np.int64(9), np.int64(9), np.int64(4), np.int64(6), np.int64(5), np.int64(4), np.int64(9), np.int64(1), np.int64(8), np.int64(3), np.int64(4), np.int64(9), np.int64(9), np.int64(1), np.int64(2), np.int64(2), np.int64(8), np.int64(1), np.int64(9), np.int64(6), np.int64(4), np.int64(0), np.int64(9), np.int64(4), np.int64(8), np.int64(3), np.int64(8), np.int64(6), np.int64(0), np.int64(2), np.int64(5), np.int64(1), np.int64(9), np.int64(6), np.int64(2), np.int64(9), np.int64(4), np.int64(0), np.int64(9), np.int64(6), np.int64(0), np.int64(6), np.int64(2), np.int64(5), np.int64(4), np.int64(2), np.int64(3), np.int64(8), np.int64(4), np.int64(5), np.int64(5), np.int64(0), np.int64(3), np.int64(8), np.int64(5), np.int64(3), np.int64(5), np.int64(8), np.int64(6), np.int64(3), np.int64(7), np.int64(6), np.int64(3), np.int64(3), np.int64(9), np.int64(6), np.int64(1), np.int64(1), np.int64(2), np.int64(9), np.int64(0), np.int64(4), np.int64(3), np.int64(3), np.int64(6), np.int64(9), np.int64(5), np.int64(0), np.int64(3), np.int64(7), np.int64(7), np.int64(7), np.int64(8), np.int64(7), np.int64(9), np.int64(8), np.int64(3), np.int64(0), np.int64(7), np.int64(2), np.int64(7), np.int64(9), np.int64(4), np.int64(5), np.int64(4), np.int64(9), np.int64(3), np.int64(2), np.int64(1), np.int64(4), np.int64(0), np.int64(2), np.int64(3), np.int64(7), np.int64(5), np.int64(9), np.int64(8), np.int64(8), np.int64(5), np.int64(0), np.int64(6), np.int64(1), np.int64(4), np.int64(8), np.int64(3), np.int64(9), np.int64(0), np.int64(0), np.int64(0), np.int64(6), np.int64(6), np.int64(2), np.int64(3), np.int64(7), np.int64(8), np.int64(4), np.int64(3), np.int64(7), np.int64(9), np.int64(2), np.int64(4), np.int64(1), np.int64(6), np.int64(5), np.int64(2), np.int64(4), np.int64(9), np.int64(8), np.int64(1), np.int64(8), np.int64(4), np.int64(0), np.int64(9), np.int64(8), np.int64(4), np.int64(8), np.int64(7), np.int64(7), np.int64(0), np.int64(7), np.int64(8), np.int64(8), np.int64(7), np.int64(0), np.int64(4), np.int64(8), np.int64(8), np.int64(2), np.int64(4), np.int64(7), np.int64(6), np.int64(6), np.int64(6), np.int64(4), np.int64(7), np.int64(1), np.int64(8), np.int64(8), np.int64(2), np.int64(3), np.int64(6), np.int64(3), np.int64(0), np.int64(0), np.int64(3), np.int64(7), np.int64(6), np.int64(9), np.int64(7), np.int64(9), np.int64(9), np.int64(5), np.int64(4), np.int64(3), np.int64(3), np.int64(6), np.int64(1), np.int64(2), np.int64(3), np.int64(7), np.int64(3), np.int64(3), np.int64(3), np.int64(0), np.int64(3), np.int64(3), np.int64(8), np.int64(4), np.int64(3), np.int64(6), np.int64(3), np.int64(5), np.int64(0), np.int64(2), np.int64(0), np.int64(9), np.int64(0), np.int64(7), np.int64(4), np.int64(6), np.int64(9), np.int64(3), np.int64(5), np.int64(1), np.int64(9), np.int64(6), np.int64(1), np.int64(4), np.int64(5), np.int64(4), np.int64(5), np.int64(0), np.int64(5), np.int64(9), np.int64(5), np.int64(2), np.int64(1), np.int64(2), np.int64(9), np.int64(1), np.int64(9), np.int64(9), np.int64(4), np.int64(0), np.int64(8), np.int64(4), np.int64(5), np.int64(2), np.int64(9), np.int64(2), np.int64(1), np.int64(2), np.int64(1), np.int64(7), np.int64(3), np.int64(6), np.int64(8), np.int64(8), np.int64(4), np.int64(9), np.int64(1), np.int64(9), np.int64(8), np.int64(5), np.int64(7), np.int64(5), np.int64(1), np.int64(1), np.int64(8), np.int64(6), np.int64(5), np.int64(0), np.int64(4), np.int64(4), np.int64(3), np.int64(2), np.int64(3), np.int64(5), np.int64(6), np.int64(8), np.int64(8), np.int64(6), np.int64(2), np.int64(3), np.int64(1), np.int64(0), np.int64(5), np.int64(8), np.int64(9), np.int64(2), np.int64(9), np.int64(6), np.int64(7), np.int64(0), np.int64(4), np.int64(8), np.int64(7), np.int64(1), np.int64(7), np.int64(4), np.int64(1), np.int64(0), np.int64(9), np.int64(7), np.int64(2), np.int64(0), np.int64(0), np.int64(9), np.int64(1), np.int64(7), np.int64(0), np.int64(7), np.int64(8), np.int64(4), np.int64(7), np.int64(2), np.int64(0), np.int64(4), np.int64(6), np.int64(0), np.int64(3), np.int64(1), np.int64(1), np.int64(3), np.int64(3), np.int64(9), np.int64(6), np.int64(7), np.int64(4), np.int64(1), np.int64(5), np.int64(3), np.int64(0), np.int64(8), np.int64(7), np.int64(3), np.int64(9), np.int64(6), np.int64(9), np.int64(3), np.int64(5), np.int64(0), np.int64(2), np.int64(7), np.int64(4), np.int64(5), np.int64(1), np.int64(7), np.int64(5), np.int64(8), np.int64(0), np.int64(8), np.int64(8), np.int64(1), np.int64(5), np.int64(0), np.int64(3), np.int64(0), np.int64(3), np.int64(1), np.int64(4), np.int64(0), np.int64(3), np.int64(7), np.int64(2), np.int64(7), np.int64(6), np.int64(8), np.int64(0), np.int64(7), np.int64(0), np.int64(4), np.int64(3), np.int64(1), np.int64(9), np.int64(8), np.int64(7), np.int64(7), np.int64(1), np.int64(4), np.int64(9), np.int64(9), np.int64(3), np.int64(8), np.int64(1), np.int64(7), np.int64(9), np.int64(0), np.int64(2), np.int64(0), np.int64(3), np.int64(3), np.int64(7), np.int64(6), np.int64(9), np.int64(2), np.int64(3), np.int64(3), np.int64(7), np.int64(7), np.int64(0), np.int64(0), np.int64(7), np.int64(5), np.int64(2), np.int64(9), np.int64(8), np.int64(7), np.int64(4), np.int64(4), np.int64(2), np.int64(6), np.int64(6), np.int64(1), np.int64(9), np.int64(6), np.int64(8), np.int64(2), np.int64(9), np.int64(0), np.int64(8), np.int64(3), np.int64(1), np.int64(1), np.int64(6), np.int64(3), np.int64(5), np.int64(1), np.int64(1), np.int64(1), np.int64(3), np.int64(1), np.int64(2), np.int64(3), np.int64(0), np.int64(2), np.int64(0), np.int64(1), np.int64(3), np.int64(5), np.int64(5), np.int64(7), np.int64(4), np.int64(8), np.int64(9), np.int64(6), np.int64(9), np.int64(6), np.int64(8), np.int64(3), np.int64(6), np.int64(6), np.int64(8), np.int64(5), np.int64(1), np.int64(4), np.int64(2), np.int64(4), np.int64(4), np.int64(5), np.int64(1), np.int64(3), np.int64(9), np.int64(0), np.int64(2), np.int64(4), np.int64(9), np.int64(5), np.int64(7), np.int64(1), np.int64(8), np.int64(3), np.int64(5), np.int64(6), np.int64(9), np.int64(8), np.int64(7), np.int64(1), np.int64(1), np.int64(6), np.int64(7), np.int64(6), np.int64(3), np.int64(2), np.int64(2), np.int64(0), np.int64(8), np.int64(9), np.int64(2), np.int64(5), np.int64(1), np.int64(0), np.int64(8), np.int64(1), np.int64(4), np.int64(5), np.int64(7), np.int64(9), np.int64(6), np.int64(9), np.int64(0), np.int64(6), np.int64(1), np.int64(5), np.int64(5), np.int64(8), np.int64(3), np.int64(8), np.int64(2), np.int64(6), np.int64(5), np.int64(0), np.int64(7), np.int64(4), np.int64(6), np.int64(1), np.int64(3), np.int64(4), np.int64(7), np.int64(3), np.int64(2), np.int64(3), np.int64(4), np.int64(2), np.int64(5), np.int64(2), np.int64(7), np.int64(1), np.int64(7), np.int64(2), np.int64(6), np.int64(4), np.int64(1), np.int64(5), np.int64(8), np.int64(8), np.int64(6), np.int64(0), np.int64(1), np.int64(8), np.int64(2), np.int64(5), np.int64(7), np.int64(7), np.int64(6), np.int64(9), np.int64(3), np.int64(5), np.int64(3), np.int64(4), np.int64(2), np.int64(4), np.int64(0), np.int64(8), np.int64(8), np.int64(3), np.int64(4), np.int64(9), np.int64(2), np.int64(7), np.int64(5), np.int64(8), np.int64(6), np.int64(5), np.int64(6), np.int64(0), np.int64(8), np.int64(6), np.int64(7), np.int64(3), np.int64(6), np.int64(4), np.int64(9), np.int64(4), np.int64(6), np.int64(6), np.int64(3), np.int64(0), np.int64(4), np.int64(1), np.int64(0), np.int64(1), np.int64(4), np.int64(6), np.int64(2), np.int64(8), np.int64(1), np.int64(1), np.int64(0), np.int64(6), np.int64(3), np.int64(9), np.int64(5), np.int64(6), np.int64(5), np.int64(6), np.int64(5), np.int64(8), np.int64(4), np.int64(6), np.int64(4), np.int64(3), np.int64(9), np.int64(1), np.int64(3), np.int64(4), np.int64(1), np.int64(9), np.int64(1), np.int64(7), np.int64(1), np.int64(8), np.int64(9), np.int64(3), np.int64(5), np.int64(4), np.int64(0), np.int64(9), np.int64(3), np.int64(6), np.int64(1), np.int64(7), np.int64(5), np.int64(5), np.int64(3), np.int64(3), np.int64(0), np.int64(1), np.int64(3), np.int64(7), np.int64(5), np.int64(8), np.int64(6), np.int64(6), np.int64(1), np.int64(0), np.int64(4), np.int64(2), np.int64(3), np.int64(4), np.int64(6), np.int64(7), np.int64(9), np.int64(8), np.int64(1), np.int64(8), np.int64(9), np.int64(9), np.int64(2), np.int64(8), np.int64(6), np.int64(2), np.int64(7), np.int64(0), np.int64(0), np.int64(6), np.int64(7), np.int64(5), np.int64(8), np.int64(6), np.int64(0), np.int64(9), np.int64(3), np.int64(9), np.int64(1), np.int64(3), np.int64(5), np.int64(4), np.int64(3), np.int64(3), np.int64(5), np.int64(5), np.int64(6), np.int64(3), np.int64(0), np.int64(2), np.int64(3), np.int64(4), np.int64(2), np.int64(3), np.int64(0), np.int64(9), np.int64(9), np.int64(4), np.int64(7), np.int64(2), np.int64(8), np.int64(4), np.int64(7), np.int64(0), np.int64(6), np.int64(2), np.int64(8), np.int64(5), np.int64(2), np.int64(8), np.int64(5), np.int64(7), np.int64(3), np.int64(0), np.int64(8), np.int64(2), np.int64(7), np.int64(2), np.int64(8), np.int64(2), np.int64(5), np.int64(5), np.int64(7), np.int64(6), np.int64(4), np.int64(4), np.int64(8), np.int64(4), np.int64(8), np.int64(2), np.int64(7), np.int64(4), np.int64(5), np.int64(2), np.int64(0), np.int64(3), np.int64(8), np.int64(4), np.int64(6), np.int64(7), np.int64(2), np.int64(5), np.int64(1), np.int64(1), np.int64(1), np.int64(2), np.int64(3), np.int64(6), np.int64(7), np.int64(8), np.int64(7), np.int64(6), np.int64(4), np.int64(8), np.int64(9), np.int64(4), np.int64(8), np.int64(6), np.int64(3), np.int64(8), np.int64(3), np.int64(1), np.int64(0), np.int64(6), np.int64(2), np.int64(2), np.int64(5), np.int64(6), np.int64(9), np.int64(5), np.int64(8), np.int64(1), np.int64(4), np.int64(1), np.int64(7), np.int64(8), np.int64(4), np.int64(6), np.int64(1), np.int64(8), np.int64(4), np.int64(3), np.int64(1), np.int64(2), np.int64(8), np.int64(0), np.int64(8), np.int64(5), np.int64(9), np.int64(2), np.int64(4), np.int64(2), np.int64(0), np.int64(3), np.int64(7), np.int64(0), np.int64(9), np.int64(0), np.int64(2), np.int64(5), np.int64(7), np.int64(6), np.int64(7), np.int64(9), np.int64(4), np.int64(2), np.int64(6), np.int64(2), np.int64(4), np.int64(4), np.int64(8), np.int64(0), np.int64(4), np.int64(4), np.int64(5), np.int64(8), np.int64(0), np.int64(6), np.int64(8), np.int64(9), np.int64(8), np.int64(5), np.int64(5), np.int64(9), np.int64(0), np.int64(4), np.int64(8), np.int64(7), np.int64(1), np.int64(3), np.int64(4), np.int64(5), np.int64(8), np.int64(0), np.int64(9), np.int64(1), np.int64(3), np.int64(3), np.int64(6), np.int64(9), np.int64(8), np.int64(7), np.int64(1), np.int64(0), np.int64(5), np.int64(7), np.int64(1), np.int64(7), np.int64(5), np.int64(2), np.int64(7), np.int64(9), np.int64(1), np.int64(8), np.int64(5), np.int64(2), np.int64(4), np.int64(9), np.int64(4), np.int64(7), np.int64(2), np.int64(2), np.int64(3), np.int64(4), np.int64(9), np.int64(1), np.int64(9), np.int64(2), np.int64(1), np.int64(7), np.int64(9), np.int64(4), np.int64(4), np.int64(4), np.int64(6), np.int64(7), np.int64(2), np.int64(7), np.int64(8), np.int64(0), np.int64(1), np.int64(9), np.int64(7), np.int64(1), np.int64(1), np.int64(7), np.int64(5), np.int64(3), np.int64(3), np.int64(5), np.int64(1), np.int64(3), np.int64(7), np.int64(6), np.int64(1), np.int64(3), np.int64(8), np.int64(7), np.int64(5), np.int64(9), np.int64(0), np.int64(0), np.int64(0), np.int64(2), np.int64(8), np.int64(8), np.int64(2), np.int64(3), np.int64(7), np.int64(1), np.int64(3), np.int64(0), np.int64(3), np.int64(4), np.int64(4), np.int64(3), np.int64(8), np.int64(9), np.int64(2), np.int64(3), np.int64(9), np.int64(7), np.int64(1), np.int64(1), np.int64(7), np.int64(0), np.int64(4), np.int64(9), np.int64(6), np.int64(5), np.int64(9), np.int64(1), np.int64(7), np.int64(0), np.int64(2), np.int64(0), np.int64(0), np.int64(4), np.int64(6), np.int64(7), np.int64(0), np.int64(7), np.int64(1), np.int64(4), np.int64(6), np.int64(4), np.int64(5), np.int64(4), np.int64(9), np.int64(9), np.int64(1), np.int64(7), np.int64(9), np.int64(5), np.int64(3), np.int64(3), np.int64(8), np.int64(2), np.int64(3), np.int64(6), np.int64(2), np.int64(2), np.int64(1), np.int64(1), np.int64(1), np.int64(1), np.int64(1), np.int64(6), np.int64(4), np.int64(8), np.int64(4), np.int64(3), np.int64(7), np.int64(1), np.int64(6), np.int64(4), np.int64(9), np.int64(0), np.int64(4), np.int64(7), np.int64(4), np.int64(2), np.int64(4), np.int64(0), np.int64(7), np.int64(0), np.int64(1), np.int64(9), np.int64(8), np.int64(8), np.int64(6), np.int64(0), np.int64(0), np.int64(4), np.int64(1), np.int64(6), np.int64(8), np.int64(2), np.int64(2), np.int64(3), np.int64(3), np.int64(4), np.int64(3), np.int64(2), np.int64(2), np.int64(1), np.int64(7), np.int64(5), np.int64(4), np.int64(4), np.int64(0), np.int64(4), np.int64(3), np.int64(4), np.int64(7), np.int64(9), np.int64(1), np.int64(0), np.int64(1), np.int64(2), np.int64(5), np.int64(4), np.int64(2), np.int64(1), np.int64(0), np.int64(1), np.int64(8), np.int64(9), np.int64(1), np.int64(6), np.int64(8), np.int64(3), np.int64(8), np.int64(9), np.int64(3), np.int64(6), np.int64(2), np.int64(8), np.int64(3), np.int64(2), np.int64(2), np.int64(1), np.int64(0), np.int64(4), np.int64(2), np.int64(9), np.int64(2), np.int64(4), np.int64(3), np.int64(7), np.int64(9), np.int64(1), np.int64(5), np.int64(2), np.int64(4), np.int64(9), np.int64(0), np.int64(3), np.int64(8), np.int64(5), np.int64(3), np.int64(6), np.int64(0), np.int64(9), np.int64(4), np.int64(6), np.int64(2), np.int64(5), np.int64(0), np.int64(2), np.int64(7), np.int64(4), np.int64(6), np.int64(6), np.int64(8), np.int64(6), np.int64(6), np.int64(8), np.int64(6), np.int64(9), np.int64(1), np.int64(7), np.int64(2), np.int64(5), np.int64(9), np.int64(9), np.int64(0), np.int64(7), np.int64(2), np.int64(7), np.int64(6), np.int64(7), np.int64(0), np.int64(6), np.int64(5), np.int64(4), np.int64(4), np.int64(7), np.int64(2), np.int64(0), np.int64(9), np.int64(9), np.int64(2), np.int64(2), np.int64(9), np.int64(4), np.int64(4), np.int64(2), np.int64(3), np.int64(3), np.int64(2), np.int64(1), np.int64(7), np.int64(0), np.int64(7), np.int64(6), np.int64(4), np.int64(1), np.int64(3), np.int64(8), np.int64(7), np.int64(4), np.int64(5), np.int64(9), np.int64(2), np.int64(5), np.int64(1), np.int64(8), np.int64(7), np.int64(3), np.int64(7), np.int64(1), np.int64(5), np.int64(5), np.int64(0), np.int64(9), np.int64(1), np.int64(4), np.int64(0), np.int64(6), np.int64(3), np.int64(3), np.int64(6), np.int64(0), np.int64(4), np.int64(9), np.int64(7), np.int64(5), np.int64(1), np.int64(6), np.int64(8), np.int64(9), np.int64(5), np.int64(5), np.int64(7), np.int64(9), np.int64(3), np.int64(8), np.int64(3), np.int64(8), np.int64(1), np.int64(5), np.int64(3), np.int64(5), np.int64(0), np.int64(5), np.int64(5), np.int64(3), np.int64(8), np.int64(6), np.int64(7), np.int64(7), np.int64(7), np.int64(3), np.int64(7), np.int64(0), np.int64(5), np.int64(9), np.int64(0), np.int64(2), np.int64(9), np.int64(5), np.int64(3), np.int64(1), np.int64(7), np.int64(7), np.int64(8), np.int64(6), np.int64(5), np.int64(9), np.int64(3), np.int64(8), np.int64(9), np.int64(5), np.int64(3), np.int64(7), np.int64(9), np.int64(1), np.int64(7), np.int64(0), np.int64(0), np.int64(3), np.int64(7), np.int64(2), np.int64(3), np.int64(8), np.int64(1), np.int64(8), np.int64(6), np.int64(2), np.int64(9), np.int64(5), np.int64(7), np.int64(5), np.int64(3), np.int64(8), np.int64(6), np.int64(2), np.int64(6), np.int64(1), np.int64(4), np.int64(8), np.int64(4), np.int64(5), np.int64(8), np.int64(3), np.int64(0), np.int64(6), np.int64(2), np.int64(7), np.int64(3), np.int64(3), np.int64(2), np.int64(1), np.int64(0), np.int64(7), np.int64(3), np.int64(4), np.int64(0), np.int64(3), np.int64(9), np.int64(3), np.int64(2), np.int64(8), np.int64(9), np.int64(0), np.int64(3), np.int64(8), np.int64(0), np.int64(7), np.int64(6), np.int64(5), np.int64(4), np.int64(7), np.int64(3), np.int64(0), np.int64(0), np.int64(8), np.int64(6), np.int64(2), np.int64(5), np.int64(1), np.int64(1), np.int64(0), np.int64(0), np.int64(4), np.int64(4), np.int64(0), np.int64(1), np.int64(2), np.int64(3), np.int64(2), np.int64(7), np.int64(7), np.int64(8), np.int64(5), np.int64(2), np.int64(5), np.int64(7), np.int64(6), np.int64(9), np.int64(1), np.int64(4), np.int64(1), np.int64(6), np.int64(4), np.int64(2), np.int64(4), np.int64(3), np.int64(5), np.int64(4), np.int64(3), np.int64(9), np.int64(5), np.int64(0), np.int64(1), np.int64(5), np.int64(3), np.int64(8), np.int64(9), np.int64(1), np.int64(9), np.int64(7), np.int64(9), np.int64(5), np.int64(5), np.int64(2), np.int64(7), np.int64(4), np.int64(6), np.int64(0), np.int64(1), np.int64(1), np.int64(1), np.int64(0), np.int64(4), np.int64(4), np.int64(7), np.int64(6), np.int64(3), np.int64(0), np.int64(0), np.int64(4), np.int64(3), np.int64(0), np.int64(6), np.int64(1), np.int64(9), np.int64(6), np.int64(1), np.int64(3), np.int64(8), np.int64(1), np.int64(2), np.int64(5), np.int64(6), np.int64(2), np.int64(4), np.int64(3), np.int64(6), np.int64(0), np.int64(1), np.int64(9), np.int64(7), np.int64(6), np.int64(6), np.int64(8), np.int64(9), np.int64(2), np.int64(9), np.int64(5), np.int64(8), np.int64(3), np.int64(1), np.int64(0), np.int64(0), np.int64(7), np.int64(6), np.int64(6), np.int64(2), np.int64(1), np.int64(6), np.int64(9), np.int64(3), np.int64(1), np.int64(5), np.int64(6), np.int64(4), np.int64(0), np.int64(6), np.int64(0), np.int64(0), np.int64(0), np.int64(6), np.int64(3), np.int64(5), np.int64(9), np.int64(3), np.int64(4), np.int64(5), np.int64(5), np.int64(8), np.int64(5), np.int64(3), np.int64(0), np.int64(4), np.int64(0), np.int64(3), np.int64(9), np.int64(6), np.int64(8), np.int64(2), np.int64(3), np.int64(1), np.int64(2), np.int64(1), np.int64(1), np.int64(5), np.int64(6), np.int64(9), np.int64(8), np.int64(0), np.int64(6), np.int64(6), np.int64(5), np.int64(5), np.int64(3), np.int64(8), np.int64(6), np.int64(2), np.int64(1), np.int64(4), np.int64(5), np.int64(4), np.int64(3), np.int64(7), np.int64(8), np.int64(3), np.int64(0), np.int64(9), np.int64(3), np.int64(5), np.int64(1), np.int64(1), np.int64(0), np.int64(4), np.int64(4), np.int64(7), np.int64(0), np.int64(1), np.int64(7), np.int64(0), np.int64(1), np.int64(6), np.int64(1), np.int64(4), np.int64(5), np.int64(6), np.int64(6), np.int64(5), np.int64(7), np.int64(8), np.int64(4), np.int64(4), np.int64(7), np.int64(2), np.int64(5), np.int64(3), np.int64(7), np.int64(0), np.int64(7), np.int64(7), np.int64(9), np.int64(6), np.int64(4), np.int64(2), np.int64(8), np.int64(5), np.int64(7), np.int64(8), np.int64(3), np.int64(9), np.int64(5), np.int64(8), np.int64(9), np.int64(9), np.int64(8), np.int64(6), np.int64(2), np.int64(8), np.int64(4), np.int64(2), np.int64(3), np.int64(6), np.int64(1), np.int64(1), np.int64(8), np.int64(9), np.int64(3), np.int64(4), np.int64(0), np.int64(7), np.int64(9), np.int64(6), np.int64(4), np.int64(1), np.int64(4), np.int64(1), np.int64(3), np.int64(4), np.int64(9), np.int64(3), np.int64(1), np.int64(4), np.int64(7), np.int64(7), np.int64(4), np.int64(7), np.int64(2), np.int64(9), np.int64(3), np.int64(0), np.int64(8), np.int64(0), np.int64(8), np.int64(4), np.int64(0), np.int64(4), np.int64(4), np.int64(1), np.int64(5), np.int64(2), np.int64(8), np.int64(3), np.int64(4), np.int64(9), np.int64(5), np.int64(2), np.int64(8), np.int64(1), np.int64(5), np.int64(3), np.int64(3), np.int64(9), np.int64(4), np.int64(2), np.int64(5), np.int64(6), np.int64(0), np.int64(5), np.int64(9), np.int64(3), np.int64(5), np.int64(9), np.int64(3), np.int64(1), np.int64(9), np.int64(5), np.int64(3), np.int64(0), np.int64(6), np.int64(9), np.int64(8), np.int64(4), np.int64(0), np.int64(4), np.int64(5), np.int64(2), np.int64(9), np.int64(0), np.int64(1), np.int64(0), np.int64(3), np.int64(1), np.int64(6), np.int64(5), np.int64(8), np.int64(1), np.int64(5), np.int64(3), np.int64(3), np.int64(0), np.int64(3), np.int64(5), np.int64(5), np.int64(9), np.int64(2), np.int64(8), np.int64(7), np.int64(0), np.int64(4), np.int64(9), np.int64(1), np.int64(9), np.int64(7), np.int64(7), np.int64(5), np.int64(5), np.int64(2), np.int64(0), np.int64(9), np.int64(1), np.int64(8), np.int64(6), np.int64(2), np.int64(3), np.int64(9), np.int64(6), np.int64(2), np.int64(1), np.int64(9), np.int64(1), np.int64(3), np.int64(5), np.int64(5), np.int64(0), np.int64(3), np.int64(8), np.int64(3), np.int64(3), np.int64(7), np.int64(6), np.int64(6), np.int64(0), np.int64(1), np.int64(4), np.int64(0), np.int64(6), np.int64(9), np.int64(8), np.int64(1), np.int64(2), np.int64(9), np.int64(9), np.int64(5), np.int64(9), np.int64(7), np.int64(3), np.int64(7), np.int64(8), np.int64(0), np.int64(1), np.int64(3), np.int64(0), np.int64(4), np.int64(6), np.int64(1), np.int64(0), np.int64(2), np.int64(5), np.int64(8), np.int64(4), np.int64(4), np.int64(1), np.int64(1), np.int64(5), np.int64(4), np.int64(6), np.int64(6), np.int64(0), np.int64(6), np.int64(9), np.int64(2), np.int64(6), np.int64(2), np.int64(7), np.int64(1), np.int64(7), np.int64(9), np.int64(4), np.int64(0), np.int64(0), np.int64(3), np.int64(8), np.int64(2), np.int64(2), np.int64(3), np.int64(1), np.int64(6), np.int64(0), np.int64(5), np.int64(7), np.int64(7), np.int64(9), np.int64(2), np.int64(6), np.int64(7), np.int64(9), np.int64(7), np.int64(8), np.int64(6), np.int64(8), np.int64(8), np.int64(4), np.int64(6), np.int64(8), np.int64(4), np.int64(1), np.int64(2), np.int64(8), np.int64(3), np.int64(3), np.int64(9), np.int64(4), np.int64(0), np.int64(3), np.int64(7), np.int64(3), np.int64(2), np.int64(3), np.int64(3), np.int64(7), np.int64(3), np.int64(4), np.int64(0), np.int64(6), np.int64(2), np.int64(0), np.int64(8), np.int64(1), np.int64(5), np.int64(3), np.int64(5), np.int64(4), np.int64(1), np.int64(7), np.int64(1), np.int64(5), np.int64(7), np.int64(3), np.int64(7), np.int64(3), np.int64(2), np.int64(2), np.int64(7), np.int64(3), np.int64(7), np.int64(3), np.int64(7), np.int64(8), np.int64(5), np.int64(4), np.int64(9), np.int64(2), np.int64(9), np.int64(6), np.int64(5), np.int64(3), np.int64(6), np.int64(7), np.int64(4), np.int64(1), np.int64(7), np.int64(1), np.int64(5), np.int64(2), np.int64(3), np.int64(6), np.int64(3), np.int64(3), np.int64(4), np.int64(2), np.int64(6), np.int64(7), np.int64(4), np.int64(3), np.int64(8), np.int64(0), np.int64(6), np.int64(2), np.int64(1), np.int64(6), np.int64(5), np.int64(3), np.int64(9), np.int64(1), np.int64(9), np.int64(3), np.int64(2), np.int64(1), np.int64(8), np.int64(4), np.int64(4), np.int64(6), np.int64(5), np.int64(8), np.int64(6), np.int64(9), np.int64(7), np.int64(7), np.int64(8), np.int64(6), np.int64(9), np.int64(7), np.int64(3), np.int64(9), np.int64(4), np.int64(0), np.int64(5), np.int64(4), np.int64(6), np.int64(4), np.int64(1), np.int64(2), np.int64(3), np.int64(0), np.int64(0), np.int64(2), np.int64(6), np.int64(6), np.int64(5), np.int64(7), np.int64(0), np.int64(8), np.int64(6), np.int64(4), np.int64(6), np.int64(9), np.int64(0), np.int64(7), np.int64(3), np.int64(4), np.int64(2), np.int64(1), np.int64(8), np.int64(8), np.int64(5), np.int64(9), np.int64(2), np.int64(7), np.int64(1), np.int64(8), np.int64(8), np.int64(8), np.int64(2), np.int64(7), np.int64(6), np.int64(0), np.int64(1), np.int64(2), np.int64(7), np.int64(1), np.int64(0), np.int64(8), np.int64(3), np.int64(6), np.int64(0), np.int64(5), np.int64(3), np.int64(6), np.int64(2), np.int64(8), np.int64(9), np.int64(0), np.int64(1), np.int64(4), np.int64(2), np.int64(1), np.int64(1), np.int64(4), np.int64(4), np.int64(4), np.int64(4), np.int64(7), np.int64(1), np.int64(6), np.int64(2), np.int64(9), np.int64(9), np.int64(0), np.int64(0), np.int64(1), np.int64(8), np.int64(8), np.int64(4), np.int64(3), np.int64(4), np.int64(2), np.int64(0), np.int64(6), np.int64(1), np.int64(6), np.int64(1), np.int64(2), np.int64(2), np.int64(2), np.int64(1), np.int64(2), np.int64(3), np.int64(7), np.int64(8), np.int64(1), np.int64(0), np.int64(0), np.int64(2), np.int64(1), np.int64(6), np.int64(6), np.int64(0), np.int64(1), np.int64(6), np.int64(2), np.int64(5), np.int64(1), np.int64(7), np.int64(4), np.int64(8), np.int64(2), np.int64(1), np.int64(4), np.int64(3), np.int64(8), np.int64(3), np.int64(9), np.int64(9), np.int64(4), np.int64(8), np.int64(3), np.int64(4), np.int64(7), np.int64(2), np.int64(7), np.int64(5), np.int64(7), np.int64(0), np.int64(4), np.int64(3), np.int64(3), np.int64(2), np.int64(6), np.int64(7), np.int64(6), np.int64(0), np.int64(0), np.int64(6), np.int64(7), np.int64(7), np.int64(0), np.int64(5), np.int64(5), np.int64(8), np.int64(1), np.int64(0), np.int64(7), np.int64(0), np.int64(2), np.int64(8), np.int64(1), np.int64(5), np.int64(0), np.int64(8), np.int64(8), np.int64(0), np.int64(3), np.int64(2), np.int64(7), np.int64(7), np.int64(3), np.int64(6), np.int64(4), np.int64(7), np.int64(5), np.int64(5), np.int64(5), np.int64(2), np.int64(9), np.int64(2), np.int64(8), np.int64(4), np.int64(6), np.int64(8), np.int64(6), np.int64(5), np.int64(0), np.int64(0), np.int64(8), np.int64(7), np.int64(6), np.int64(1), np.int64(7), np.int64(1), np.int64(1), np.int64(2), np.int64(7), np.int64(4), np.int64(0), np.int64(0), np.int64(7), np.int64(7), np.int64(6), np.int64(3), np.int64(8), np.int64(6), np.int64(4), np.int64(2), np.int64(0), np.int64(9), np.int64(4), np.int64(0), np.int64(5), np.int64(7), np.int64(8), np.int64(2), np.int64(7), np.int64(4), np.int64(7), np.int64(1), np.int64(1), np.int64(3), np.int64(6), np.int64(6), np.int64(2), np.int64(9), np.int64(1), np.int64(9), np.int64(4), np.int64(8), np.int64(3), np.int64(6), np.int64(9), np.int64(5), np.int64(9), np.int64(6), np.int64(2), np.int64(4), np.int64(6), np.int64(7), np.int64(7), np.int64(0), np.int64(6), np.int64(6), np.int64(9), np.int64(4), np.int64(8), np.int64(3), np.int64(5), np.int64(3), np.int64(4), np.int64(9), np.int64(0), np.int64(0), np.int64(5), np.int64(2), np.int64(5), np.int64(0), np.int64(7), np.int64(1), np.int64(1), np.int64(1), np.int64(0), np.int64(7), np.int64(6), np.int64(7), np.int64(9), np.int64(6), np.int64(6), np.int64(4), np.int64(1), np.int64(4), np.int64(3), np.int64(1), np.int64(1), np.int64(2), np.int64(2), np.int64(4), np.int64(1), np.int64(0), np.int64(8), np.int64(7), np.int64(6), np.int64(3), np.int64(4), np.int64(0), np.int64(0), np.int64(6), np.int64(3), np.int64(3), np.int64(0), np.int64(9), np.int64(1), np.int64(7), np.int64(1), np.int64(1), np.int64(3), np.int64(6), np.int64(0), np.int64(9), np.int64(9), np.int64(7), np.int64(5), np.int64(4), np.int64(1), np.int64(4), np.int64(8), np.int64(9), np.int64(5), np.int64(3), np.int64(5), np.int64(1), np.int64(9), np.int64(8), np.int64(2), np.int64(3), np.int64(3), np.int64(9), np.int64(9), np.int64(0), np.int64(1), np.int64(0), np.int64(2), np.int64(9), np.int64(3), np.int64(9), np.int64(3), np.int64(3), np.int64(6), np.int64(2), np.int64(4), np.int64(9), np.int64(8), np.int64(3), np.int64(7), np.int64(4), np.int64(0), np.int64(4), np.int64(7), np.int64(8), np.int64(4), np.int64(9), np.int64(8), np.int64(1), np.int64(9), np.int64(7), np.int64(5), np.int64(9), np.int64(2), np.int64(8), np.int64(2), np.int64(0), np.int64(0), np.int64(2), np.int64(2), np.int64(3), np.int64(8), np.int64(4), np.int64(6), np.int64(8), np.int64(4), np.int64(8), np.int64(2), np.int64(4), np.int64(6), np.int64(7), np.int64(9), np.int64(3), np.int64(3), np.int64(9), np.int64(4), np.int64(3), np.int64(1), np.int64(4), np.int64(4), np.int64(7), np.int64(0), np.int64(5), np.int64(9), np.int64(6), np.int64(0), np.int64(4), np.int64(4), np.int64(4), np.int64(4), np.int64(6), np.int64(1), np.int64(2), np.int64(3), np.int64(3), np.int64(6), np.int64(4), np.int64(5), np.int64(9), np.int64(6), np.int64(8), np.int64(5), np.int64(6), np.int64(0), np.int64(5), np.int64(6), np.int64(4), np.int64(1), np.int64(8), np.int64(6), np.int64(5), np.int64(2), np.int64(5), np.int64(4), np.int64(5), np.int64(5), np.int64(4), np.int64(7), np.int64(7), np.int64(0), np.int64(7), np.int64(8), np.int64(2), np.int64(2), np.int64(3), np.int64(7), np.int64(0), np.int64(1), np.int64(8), np.int64(0), np.int64(7), np.int64(1), np.int64(9), np.int64(8), np.int64(7), np.int64(5), np.int64(5), np.int64(9), np.int64(1), np.int64(7), np.int64(5), np.int64(4), np.int64(3), np.int64(1), np.int64(2), np.int64(2), np.int64(6), np.int64(6), np.int64(6), np.int64(7), np.int64(1), np.int64(1), np.int64(4), np.int64(0), np.int64(7), np.int64(4), np.int64(2), np.int64(4), np.int64(0), np.int64(6), np.int64(4), np.int64(7), np.int64(6), np.int64(9), np.int64(5), np.int64(3), np.int64(4), np.int64(6), np.int64(5), np.int64(0), np.int64(1), np.int64(8), np.int64(8), np.int64(2), np.int64(8), np.int64(3), np.int64(5), np.int64(7), np.int64(8), np.int64(0), np.int64(8), np.int64(5), np.int64(7), np.int64(1), np.int64(1), np.int64(0), np.int64(1), np.int64(3), np.int64(7), np.int64(8), np.int64(5), np.int64(0), np.int64(7), np.int64(1), np.int64(1), np.int64(0), np.int64(1), np.int64(1), np.int64(4), np.int64(5), np.int64(2), np.int64(7), np.int64(6), np.int64(2), np.int64(3), np.int64(0), np.int64(2), np.int64(3), np.int64(5), np.int64(9), np.int64(6), np.int64(9), np.int64(7), np.int64(2), np.int64(1), np.int64(3), np.int64(6), np.int64(4), np.int64(1), np.int64(8), np.int64(2), np.int64(4), np.int64(0), np.int64(5), np.int64(1), np.int64(0), np.int64(3), np.int64(2), np.int64(6), np.int64(4), np.int64(4), np.int64(3), np.int64(9), np.int64(6), np.int64(1), np.int64(6), np.int64(5), np.int64(7), np.int64(9), np.int64(2), np.int64(0), np.int64(2), np.int64(6), np.int64(0), np.int64(1), np.int64(4), np.int64(3), np.int64(3), np.int64(2), np.int64(8), np.int64(8), np.int64(0), np.int64(8), np.int64(8), np.int64(9), np.int64(0), np.int64(9), np.int64(6), np.int64(7), np.int64(6), np.int64(3), np.int64(9), np.int64(3), np.int64(4), np.int64(7), np.int64(7), np.int64(7), np.int64(4), np.int64(9), np.int64(0), np.int64(6), np.int64(4), np.int64(4), np.int64(4), np.int64(2), np.int64(7), np.int64(2), np.int64(8), np.int64(1), np.int64(0), np.int64(0), np.int64(7), np.int64(8), np.int64(3), np.int64(3), np.int64(3), np.int64(1), np.int64(3), np.int64(7), np.int64(6), np.int64(1), np.int64(3), np.int64(1), np.int64(6), np.int64(6), np.int64(5), np.int64(2), np.int64(4), np.int64(7), np.int64(5), np.int64(9), np.int64(5), np.int64(3), np.int64(4), np.int64(9), np.int64(9), np.int64(1), np.int64(6), np.int64(5), np.int64(0), np.int64(1), np.int64(3), np.int64(7), np.int64(0), np.int64(3), np.int64(4), np.int64(8), np.int64(2), np.int64(2), np.int64(0), np.int64(2), np.int64(8), np.int64(1), np.int64(5), np.int64(1), np.int64(6), np.int64(8), np.int64(8), np.int64(9), np.int64(1), np.int64(2), np.int64(1), np.int64(3), np.int64(5), np.int64(1), np.int64(0), np.int64(9), np.int64(4), np.int64(4), np.int64(8), np.int64(3), np.int64(8), np.int64(5), np.int64(9), np.int64(7), np.int64(6), np.int64(6), np.int64(2), np.int64(0), np.int64(0), np.int64(0), np.int64(5), np.int64(8), np.int64(7), np.int64(1), np.int64(5), np.int64(3), np.int64(3), np.int64(8), np.int64(5), np.int64(1), np.int64(8), np.int64(4), np.int64(4), np.int64(4), np.int64(9), np.int64(9), np.int64(6), np.int64(2), np.int64(3), np.int64(3), np.int64(5), np.int64(6), np.int64(4), np.int64(8), np.int64(0), np.int64(9), np.int64(2), np.int64(8), np.int64(3), np.int64(6), np.int64(7), np.int64(5), np.int64(1), np.int64(2), np.int64(9), np.int64(4), np.int64(9), np.int64(1), np.int64(2), np.int64(8), np.int64(6), np.int64(0), np.int64(7), np.int64(0), np.int64(9), np.int64(1), np.int64(1), np.int64(5), np.int64(7), np.int64(5), np.int64(9), np.int64(9), np.int64(1), np.int64(9), np.int64(5), np.int64(9), np.int64(2), np.int64(5), np.int64(0), np.int64(4), np.int64(1), np.int64(0), np.int64(8), np.int64(4), np.int64(0), np.int64(8), np.int64(9), np.int64(8), np.int64(9), np.int64(4), np.int64(3), np.int64(5), np.int64(7), np.int64(9), np.int64(8), np.int64(9), np.int64(8), np.int64(0), np.int64(9), np.int64(9), np.int64(6), np.int64(8), np.int64(9), np.int64(9), np.int64(5), np.int64(9), np.int64(8), np.int64(5), np.int64(1), np.int64(0), np.int64(3), np.int64(3), np.int64(5), np.int64(2), np.int64(1), np.int64(6), np.int64(3), np.int64(0), np.int64(2), np.int64(8), np.int64(3), np.int64(5), np.int64(6), np.int64(2), np.int64(3), np.int64(0), np.int64(2), np.int64(2), np.int64(6), np.int64(4), np.int64(3), np.int64(5), np.int64(5), np.int64(1), np.int64(7), np.int64(2), np.int64(1), np.int64(6), np.int64(9), np.int64(1), np.int64(9), np.int64(9), np.int64(5), np.int64(5), np.int64(1), np.int64(6), np.int64(2), np.int64(2), np.int64(8), np.int64(6), np.int64(7), np.int64(1), np.int64(4), np.int64(6), np.int64(0), np.int64(2), np.int64(0), np.int64(5), np.int64(3), np.int64(2), np.int64(2), np.int64(3), np.int64(6), np.int64(8), np.int64(9), np.int64(8), np.int64(5), np.int64(3), np.int64(8), np.int64(5), np.int64(4), np.int64(5), np.int64(2), np.int64(0), np.int64(5), np.int64(6), np.int64(3), np.int64(2), np.int64(8), np.int64(3), np.int64(9), np.int64(9), np.int64(5), np.int64(7), np.int64(9), np.int64(4), np.int64(6), np.int64(7), np.int64(1), np.int64(3), np.int64(7), np.int64(3), np.int64(6), np.int64(6), np.int64(0), np.int64(9), np.int64(0), np.int64(1), np.int64(9), np.int64(4), np.int64(2), np.int64(8), np.int64(8), np.int64(0), np.int64(1), np.int64(6), np.int64(9), np.int64(7), np.int64(5), np.int64(3), np.int64(4), np.int64(7), np.int64(4), np.int64(9), np.int64(8), np.int64(4), np.int64(3), np.int64(6), np.int64(3), np.int64(1), np.int64(1), np.int64(4), np.int64(6), np.int64(9), np.int64(1), np.int64(8), np.int64(4), np.int64(1), np.int64(1), np.int64(9), np.int64(9), np.int64(4), np.int64(8), np.int64(6), np.int64(8), np.int64(1), np.int64(6), np.int64(0), np.int64(4), np.int64(1), np.int64(3), np.int64(7), np.int64(7), np.int64(4), np.int64(9), np.int64(5), np.int64(1), np.int64(0), np.int64(0), np.int64(1), np.int64(1), np.int64(6), np.int64(2), np.int64(1), np.int64(9), np.int64(8), np.int64(4), np.int64(0), np.int64(3), np.int64(6), np.int64(4), np.int64(9), np.int64(0), np.int64(7), np.int64(1), np.int64(6), np.int64(5), np.int64(7), np.int64(5), np.int64(2), np.int64(5), np.int64(1), np.int64(8), np.int64(5), np.int64(4), np.int64(7), np.int64(0), np.int64(6), np.int64(7), np.int64(3), np.int64(2), np.int64(5), np.int64(8), np.int64(1), np.int64(0), np.int64(4), np.int64(5), np.int64(7), np.int64(1), np.int64(5), np.int64(5), np.int64(1), np.int64(8), np.int64(0), np.int64(0), np.int64(6), np.int64(0), np.int64(7), np.int64(3), np.int64(1), np.int64(8), np.int64(3), np.int64(9), np.int64(7), np.int64(0), np.int64(0), np.int64(8), np.int64(4), np.int64(5), np.int64(9), np.int64(8), np.int64(3), np.int64(2), np.int64(7), np.int64(2), np.int64(9), np.int64(7), np.int64(2), np.int64(1), np.int64(1), np.int64(3), np.int64(7), np.int64(5), np.int64(3), np.int64(1), np.int64(9), np.int64(8), np.int64(2), np.int64(2), np.int64(2), np.int64(8), np.int64(8), np.int64(5), np.int64(7), np.int64(3), np.int64(8), np.int64(9), np.int64(8), np.int64(8), np.int64(6), np.int64(8), np.int64(2), np.int64(3), np.int64(9), np.int64(7), np.int64(5), np.int64(6), np.int64(2), np.int64(9), np.int64(2), np.int64(8), np.int64(8), np.int64(1), np.int64(6), np.int64(8), np.int64(8), np.int64(7), np.int64(9), np.int64(1), np.int64(8), np.int64(0), np.int64(1), np.int64(7), np.int64(2), np.int64(0), np.int64(7), np.int64(5), np.int64(1), np.int64(9), np.int64(0), np.int64(3), np.int64(0), np.int64(9), np.int64(8), np.int64(6), np.int64(2), np.int64(3), np.int64(9), np.int64(3), np.int64(8), np.int64(0), np.int64(2), np.int64(1), np.int64(1), np.int64(1), np.int64(1), np.int64(4), np.int64(4), np.int64(4), np.int64(7), np.int64(7), np.int64(5), np.int64(1), np.int64(1), np.int64(2), np.int64(1), np.int64(9), np.int64(9), np.int64(9), np.int64(1), np.int64(0), np.int64(2), np.int64(0), np.int64(2), np.int64(1), np.int64(1), np.int64(4), np.int64(6), np.int64(4), np.int64(1), np.int64(5), np.int64(4), np.int64(9), np.int64(9), np.int64(7), np.int64(1), np.int64(5), np.int64(6), np.int64(2), np.int64(3), np.int64(2), np.int64(2), np.int64(0), np.int64(6), np.int64(9), np.int64(6), np.int64(1), np.int64(9), np.int64(7), np.int64(7), np.int64(1), np.int64(4), np.int64(8), np.int64(5), np.int64(3), np.int64(4), np.int64(3), np.int64(4), np.int64(9), np.int64(7), np.int64(5), np.int64(0), np.int64(7), np.int64(4), np.int64(8), np.int64(8), np.int64(1), np.int64(5), np.int64(3), np.int64(9), np.int64(5), np.int64(9), np.int64(7), np.int64(6), np.int64(9), np.int64(0), np.int64(3), np.int64(6), np.int64(3), np.int64(9), np.int64(8), np.int64(2), np.int64(8), np.int64(1), np.int64(2), np.int64(8), np.int64(6), np.int64(8), np.int64(5), np.int64(3), np.int64(3), np.int64(9), np.int64(4), np.int64(9), np.int64(2), np.int64(5), np.int64(1), np.int64(5), np.int64(1), np.int64(4), np.int64(4), np.int64(1), np.int64(4), np.int64(6), np.int64(3), np.int64(3), np.int64(9), np.int64(1), np.int64(2), np.int64(2), np.int64(3), np.int64(3), np.int64(0), np.int64(2), np.int64(9), np.int64(0), np.int64(0), np.int64(9), np.int64(9), np.int64(6), np.int64(0), np.int64(9), np.int64(3), np.int64(8), np.int64(8), np.int64(4), np.int64(1), np.int64(9), np.int64(5), np.int64(7), np.int64(2), np.int64(7), np.int64(9), np.int64(9), np.int64(5), np.int64(9), np.int64(5), np.int64(1), np.int64(1), np.int64(8), np.int64(3), np.int64(5), np.int64(1), np.int64(9), np.int64(5), np.int64(3), np.int64(5), np.int64(4), np.int64(9), np.int64(5), np.int64(9), np.int64(3), np.int64(1), np.int64(9), np.int64(0), np.int64(9), np.int64(7), np.int64(5), np.int64(4), np.int64(9), np.int64(2), np.int64(0), np.int64(1), np.int64(0), np.int64(5), np.int64(1), np.int64(4), np.int64(9), np.int64(3), np.int64(3), np.int64(6), np.int64(1), np.int64(5), np.int64(2), np.int64(5), np.int64(2), np.int64(2), np.int64(0), np.int64(9), np.int64(2), np.int64(6), np.int64(6), np.int64(0), np.int64(1), np.int64(2), np.int64(0), np.int64(3), np.int64(0), np.int64(2), np.int64(9), np.int64(8), np.int64(7), np.int64(9), np.int64(3), np.int64(3), np.int64(0), np.int64(8), np.int64(9), np.int64(5), np.int64(0), np.int64(3), np.int64(2), np.int64(5), np.int64(4), np.int64(0), np.int64(8), np.int64(8), np.int64(4), np.int64(5), np.int64(8), np.int64(8), np.int64(4), np.int64(5), np.int64(4), np.int64(8), np.int64(5), np.int64(4), np.int64(9), np.int64(2), np.int64(2), np.int64(1), np.int64(2), np.int64(6), np.int64(8), np.int64(8), np.int64(7), np.int64(0), np.int64(3), np.int64(6), np.int64(6), np.int64(4), np.int64(3), np.int64(8), np.int64(8), np.int64(4), np.int64(2), np.int64(2), np.int64(0), np.int64(0), np.int64(4), np.int64(3), np.int64(9), np.int64(9), np.int64(1), np.int64(9), np.int64(8), np.int64(6), np.int64(6), np.int64(4), np.int64(2), np.int64(6), np.int64(9), np.int64(2), np.int64(8), np.int64(5), np.int64(4), np.int64(5), np.int64(7), np.int64(9), np.int64(4), np.int64(9), np.int64(2), np.int64(1), np.int64(8), np.int64(3), np.int64(4), np.int64(0), np.int64(7), np.int64(8), np.int64(3), np.int64(9), np.int64(3), np.int64(4), np.int64(6), np.int64(5), np.int64(6), np.int64(2), np.int64(3), np.int64(9), np.int64(2), np.int64(6), np.int64(0), np.int64(0), np.int64(6), np.int64(1), np.int64(2), np.int64(8), np.int64(7), np.int64(9), np.int64(8), np.int64(2), np.int64(0), np.int64(4), np.int64(7), np.int64(7), np.int64(5), np.int64(0), np.int64(5), np.int64(6), np.int64(4), np.int64(6), np.int64(7), np.int64(4), np.int64(3), np.int64(0), np.int64(7), np.int64(5), np.int64(0), np.int64(7), np.int64(4), np.int64(2), np.int64(0), np.int64(8), np.int64(9), np.int64(9), np.int64(4), np.int64(2), np.int64(4), np.int64(6), np.int64(7), np.int64(8), np.int64(7), np.int64(6), np.int64(9), np.int64(4), np.int64(1), np.int64(3), np.int64(7), np.int64(3), np.int64(0), np.int64(8), np.int64(8), np.int64(7), np.int64(6), np.int64(9), np.int64(3), np.int64(9), np.int64(2), np.int64(2), np.int64(9), np.int64(2), np.int64(1), np.int64(8), np.int64(3), np.int64(2), np.int64(9), np.int64(6), np.int64(8), np.int64(4), np.int64(0), np.int64(1), np.int64(2), np.int64(8), np.int64(4), np.int64(5), np.int64(2), np.int64(7), np.int64(8), np.int64(1), np.int64(1), np.int64(3), np.int64(0), np.int64(3), np.int64(5), np.int64(7), np.int64(0), np.int64(3), np.int64(1), np.int64(8), np.int64(3), np.int64(5), np.int64(3), np.int64(1), np.int64(7), np.int64(7), np.int64(3), np.int64(0), np.int64(8), np.int64(4), np.int64(8), np.int64(2), np.int64(6), np.int64(5), np.int64(2), np.int64(9), np.int64(7), np.int64(3), np.int64(9), np.int64(0), np.int64(9), np.int64(9), np.int64(6), np.int64(4), np.int64(2), np.int64(9), np.int64(7), np.int64(2), np.int64(1), np.int64(1), np.int64(6), np.int64(7), np.int64(4), np.int64(7), np.int64(5), np.int64(9), np.int64(6), np.int64(8), np.int64(2), np.int64(1), np.int64(4), np.int64(4), np.int64(5), np.int64(7), np.int64(6), np.int64(1), np.int64(3), np.int64(2), np.int64(5), np.int64(9), np.int64(9), np.int64(3), np.int64(6), np.int64(1), np.int64(1), np.int64(4), np.int64(6), np.int64(9), np.int64(7), np.int64(2), np.int64(1), np.int64(5), np.int64(1), np.int64(4), np.int64(6), np.int64(3), np.int64(8), np.int64(1), np.int64(1), np.int64(0), np.int64(3), np.int64(1), np.int64(6), np.int64(8), np.int64(4), np.int64(9), np.int64(0), np.int64(7), np.int64(3), np.int64(0), np.int64(2), np.int64(9), np.int64(0), np.int64(6), np.int64(6), np.int64(6), np.int64(3), np.int64(6), np.int64(7), np.int64(7), np.int64(2), np.int64(8), np.int64(6), np.int64(0), np.int64(8), np.int64(3), np.int64(0), np.int64(2), np.int64(4), np.int64(8), np.int64(3), np.int64(2), np.int64(5), np.int64(3), np.int64(8), np.int64(8), np.int64(0), np.int64(0), np.int64(1), np.int64(9), np.int64(5), np.int64(1), np.int64(3), np.int64(9), np.int64(6), np.int64(0), np.int64(1), np.int64(4), np.int64(1), np.int64(7), np.int64(1), np.int64(2), np.int64(3), np.int64(7), np.int64(9), np.int64(7), np.int64(4), np.int64(9), np.int64(9), np.int64(3), np.int64(9), np.int64(2), np.int64(8), np.int64(4), np.int64(7), np.int64(1), np.int64(9), np.int64(0), np.int64(9), np.int64(1), np.int64(0), np.int64(1), np.int64(7), np.int64(7), np.int64(9), np.int64(6), np.int64(9), np.int64(9), np.int64(9), np.int64(2), np.int64(1), np.int64(6), np.int64(1), np.int64(3), np.int64(5), np.int64(0), np.int64(1), np.int64(9), np.int64(7), np.int64(6), np.int64(4), np.int64(5), np.int64(7), np.int64(6), np.int64(6), np.int64(9), np.int64(9), np.int64(6), np.int64(3), np.int64(6), np.int64(2), np.int64(9), np.int64(8), np.int64(1), np.int64(2), np.int64(2), np.int64(5), np.int64(5), np.int64(2), np.int64(3), np.int64(7), np.int64(2), np.int64(1), np.int64(0), np.int64(1), np.int64(0), np.int64(4), np.int64(5), np.int64(2), np.int64(8), np.int64(2), np.int64(8), np.int64(3), np.int64(5), np.int64(1), np.int64(7), np.int64(8), np.int64(1), np.int64(1), np.int64(2), np.int64(9), np.int64(7), np.int64(8), np.int64(4), np.int64(0), np.int64(3), np.int64(0), np.int64(7), np.int64(8), np.int64(8), np.int64(4), np.int64(7), np.int64(7), np.int64(8), np.int64(5), np.int64(8), np.int64(6), np.int64(9), np.int64(8), np.int64(1), np.int64(3), np.int64(8), np.int64(0), np.int64(3), np.int64(1), np.int64(7), np.int64(9), np.int64(5), np.int64(5), np.int64(1), np.int64(6), np.int64(5), np.int64(7), np.int64(4), np.int64(9), np.int64(3), np.int64(5), np.int64(4), np.int64(7), np.int64(1), np.int64(2), np.int64(0), np.int64(8), np.int64(1), np.int64(6), np.int64(0), np.int64(7), np.int64(3), np.int64(4), np.int64(7), np.int64(3), np.int64(9), np.int64(6), np.int64(0), np.int64(8), np.int64(6), np.int64(4), np.int64(8), np.int64(7), np.int64(7), np.int64(9), np.int64(3), np.int64(8), np.int64(6), np.int64(9), np.int64(7), np.int64(2), np.int64(3), np.int64(4), np.int64(0), np.int64(2), np.int64(1), np.int64(3), np.int64(3), np.int64(5), np.int64(5), np.int64(7), np.int64(2), np.int64(4), np.int64(6), np.int64(7), np.int64(2), np.int64(8), np.int64(3), np.int64(0), np.int64(8), np.int64(7), np.int64(8), np.int64(4), np.int64(0), np.int64(8), np.int64(4), np.int64(4), np.int64(5), np.int64(8), np.int64(5), np.int64(6), np.int64(6), np.int64(3), np.int64(0), np.int64(9), np.int64(3), np.int64(7), np.int64(6), np.int64(8), np.int64(9), np.int64(3), np.int64(4), np.int64(9), np.int64(5), np.int64(8), np.int64(9), np.int64(1), np.int64(2), np.int64(8), np.int64(8), np.int64(6), np.int64(8), np.int64(1), np.int64(3), np.int64(7), np.int64(9), np.int64(0), np.int64(1), np.int64(1), np.int64(4), np.int64(3), np.int64(0), np.int64(8), np.int64(1), np.int64(7), np.int64(4), np.int64(5), np.int64(7), np.int64(1), np.int64(2), np.int64(1), np.int64(1), np.int64(3), np.int64(6), np.int64(6), np.int64(2), np.int64(1), np.int64(2), np.int64(8), np.int64(8), np.int64(7), np.int64(5), np.int64(6), np.int64(9), np.int64(3), np.int64(7), np.int64(0), np.int64(5), np.int64(2), np.int64(3), np.int64(0), np.int64(5), np.int64(4), np.int64(3), np.int64(8), np.int64(4), np.int64(6), np.int64(6), np.int64(2), np.int64(7), np.int64(9), np.int64(5), np.int64(1), np.int64(3), np.int64(2), np.int64(4), np.int64(3), np.int64(6), np.int64(1), np.int64(9), np.int64(4), np.int64(4), np.int64(7), np.int64(6), np.int64(5), np.int64(4), np.int64(1), np.int64(4), np.int64(9), np.int64(2), np.int64(7), np.int64(8), np.int64(0), np.int64(1), np.int64(3), np.int64(6), np.int64(1), np.int64(3), np.int64(4), np.int64(1), np.int64(1), np.int64(1), np.int64(5), np.int64(6), np.int64(0), np.int64(7), np.int64(0), np.int64(7), np.int64(2), np.int64(3), np.int64(3), np.int64(5), np.int64(8), np.int64(2), np.int64(9), np.int64(4), np.int64(9), np.int64(8), np.int64(1), np.int64(3), np.int64(7), np.int64(6), np.int64(1), np.int64(2), np.int64(7), np.int64(4), np.int64(0), np.int64(0), np.int64(0), np.int64(8), np.int64(2), np.int64(2), np.int64(9), np.int64(2), np.int64(2), np.int64(8), np.int64(9), np.int64(9), np.int64(2), np.int64(7), np.int64(5), np.int64(1), np.int64(3), np.int64(4), np.int64(9), np.int64(4), np.int64(1), np.int64(8), np.int64(5), np.int64(6), np.int64(2), np.int64(8), np.int64(3), np.int64(1), np.int64(2), np.int64(8), np.int64(4), np.int64(9), np.int64(9), np.int64(3), np.int64(7), np.int64(0), np.int64(7), np.int64(7), np.int64(2), np.int64(3), np.int64(2), np.int64(4), np.int64(0), np.int64(3), np.int64(9), np.int64(9), np.int64(8), np.int64(4), np.int64(1), np.int64(0), np.int64(6), np.int64(0), np.int64(9), np.int64(6), np.int64(8), np.int64(6), np.int64(1), np.int64(1), np.int64(9), np.int64(8), np.int64(9), np.int64(2), np.int64(3), np.int64(5), np.int64(5), np.int64(9), np.int64(4), np.int64(2), np.int64(1), np.int64(9), np.int64(4), np.int64(3), np.int64(9), np.int64(6), np.int64(0), np.int64(4), np.int64(0), np.int64(6), np.int64(0), np.int64(1), np.int64(2), np.int64(3), np.int64(4), np.int64(7), np.int64(8), np.int64(9), np.int64(0), np.int64(1), np.int64(2), np.int64(3), np.int64(4), np.int64(7), np.int64(8), np.int64(9), np.int64(0), np.int64(1), np.int64(2), np.int64(3), np.int64(4), np.int64(5), np.int64(6), np.int64(7), np.int64(8), np.int64(9), np.int64(8), np.int64(3), np.int64(4), np.int64(7), np.int64(8), np.int64(6), np.int64(3), np.int64(4), np.int64(0), np.int64(9), np.int64(7), np.int64(1), np.int64(9), np.int64(3), np.int64(8), np.int64(4), np.int64(7), np.int64(3), np.int64(0), np.int64(9), np.int64(1), np.int64(4), np.int64(5), np.int64(4), np.int64(6), np.int64(2), np.int64(0), np.int64(6), np.int64(2), np.int64(1), np.int64(1), np.int64(1), np.int64(1), np.int64(7), np.int64(2), np.int64(4), np.int64(7), np.int64(5), np.int64(2), np.int64(9), np.int64(4), np.int64(5), np.int64(8), np.int64(4), np.int64(2), np.int64(9), np.int64(7), np.int64(0), np.int64(0), np.int64(7), np.int64(5), np.int64(1), np.int64(1), np.int64(7), np.int64(6), np.int64(6), np.int64(6), np.int64(8), np.int64(2), np.int64(2), np.int64(7), np.int64(7), np.int64(4), np.int64(0), np.int64(2), np.int64(4), np.int64(2), np.int64(1), np.int64(8), np.int64(9), np.int64(6), np.int64(1), np.int64(0), np.int64(5), np.int64(9), np.int64(6), np.int64(9), np.int64(8), np.int64(0), np.int64(3), np.int64(0), np.int64(8), np.int64(3), np.int64(9), np.int64(6), np.int64(3), np.int64(0), np.int64(1), np.int64(2), np.int64(3), np.int64(4), np.int64(5), np.int64(6), np.int64(7), np.int64(0), np.int64(1), np.int64(2), np.int64(3), np.int64(4), np.int64(5), np.int64(6), np.int64(7), np.int64(8), np.int64(9), np.int64(6), np.int64(1), np.int64(2), np.int64(3), np.int64(4), np.int64(5), np.int64(6), np.int64(7), np.int64(8), np.int64(5), np.int64(4), np.int64(8), np.int64(7), np.int64(4), np.int64(7), np.int64(7), np.int64(3), np.int64(9), np.int64(8), np.int64(8), np.int64(3), np.int64(1), np.int64(5), np.int64(8), np.int64(2), np.int64(7), np.int64(4), np.int64(2), np.int64(1), np.int64(5), np.int64(4), np.int64(5), np.int64(5), np.int64(8), np.int64(6), np.int64(4), np.int64(4), np.int64(4), np.int64(1), np.int64(8), np.int64(7), np.int64(5), np.int64(5), np.int64(1), np.int64(8), np.int64(9), np.int64(1), np.int64(3), np.int64(6), np.int64(3), np.int64(3), np.int64(2), np.int64(2), np.int64(6), np.int64(9), np.int64(9), np.int64(6), np.int64(5), np.int64(5), np.int64(3), np.int64(3), np.int64(8), np.int64(1), np.int64(6), np.int64(5), np.int64(6), np.int64(8), np.int64(1), np.int64(9), np.int64(7), np.int64(6), np.int64(8), np.int64(3), np.int64(7), np.int64(4), np.int64(7), np.int64(0), np.int64(9), np.int64(0), np.int64(0), np.int64(3), np.int64(7), np.int64(9), np.int64(3), np.int64(0), np.int64(2), np.int64(0), np.int64(1), np.int64(0), np.int64(1), np.int64(0), np.int64(4), np.int64(0), np.int64(1), np.int64(0), np.int64(4), np.int64(7), np.int64(9), np.int64(6), np.int64(2), np.int64(6), np.int64(2), np.int64(2), np.int64(9), np.int64(9), np.int64(0), np.int64(1), np.int64(2), np.int64(3), np.int64(4), np.int64(5), np.int64(6), np.int64(7), np.int64(8), np.int64(9), np.int64(0), np.int64(1), np.int64(2), np.int64(3), np.int64(4), np.int64(5), np.int64(6), np.int64(7), np.int64(8), np.int64(9), np.int64(0), np.int64(1), np.int64(2), np.int64(3), np.int64(4), np.int64(5), np.int64(6), np.int64(7), np.int64(8), np.int64(9), np.int64(8), np.int64(0), np.int64(5), np.int64(6), np.int64(6), np.int64(0), np.int64(8), np.int64(0), np.int64(2), np.int64(3), np.int64(7), np.int64(9), np.int64(4), np.int64(7), np.int64(1), np.int64(9), np.int64(1), np.int64(7), np.int64(1), np.int64(4), np.int64(0), np.int64(0), np.int64(4), np.int64(1), np.int64(7), np.int64(5), np.int64(7), np.int64(1), np.int64(3), np.int64(3), np.int64(3), np.int64(6), np.int64(6), np.int64(9), np.int64(7), np.int64(4), np.int64(3), np.int64(0), np.int64(2), np.int64(5), np.int64(2), np.int64(6), np.int64(0), np.int64(8), np.int64(9), np.int64(4), np.int64(3), np.int64(5), np.int64(4), np.int64(8), np.int64(1), np.int64(5), np.int64(9), np.int64(0), np.int64(6), np.int64(4), np.int64(3), np.int64(6), np.int64(3), np.int64(3), np.int64(8), np.int64(1), np.int64(4), np.int64(7), np.int64(5), np.int64(7), np.int64(2), np.int64(2), np.int64(0), np.int64(0), np.int64(1), np.int64(7), np.int64(7), np.int64(9), np.int64(5), np.int64(9), np.int64(8), np.int64(9), np.int64(6), np.int64(8), np.int64(8), np.int64(2), np.int64(3), np.int64(6), np.int64(1), np.int64(2), np.int64(9), np.int64(8), np.int64(9), np.int64(5), np.int64(2), np.int64(6), np.int64(2), np.int64(4), np.int64(8), np.int64(4), np.int64(6), np.int64(5), np.int64(0), np.int64(1), np.int64(5), np.int64(6), np.int64(7), np.int64(8), np.int64(9), np.int64(0), np.int64(1), np.int64(2), np.int64(3), np.int64(4), np.int64(5), np.int64(6), np.int64(7), np.int64(8), np.int64(9), np.int64(0), np.int64(1), np.int64(2), np.int64(3), np.int64(4), np.int64(5), np.int64(6), np.int64(7), np.int64(8), np.int64(9), np.int64(7), np.int64(4), np.int64(2), np.int64(0), np.int64(9), np.int64(0), np.int64(1), np.int64(5), np.int64(8), np.int64(8), np.int64(0), np.int64(2), np.int64(7), np.int64(8), np.int64(4), np.int64(4), np.int64(6), np.int64(1), np.int64(0), np.int64(4), np.int64(5), np.int64(3), np.int64(9), np.int64(4), np.int64(2), np.int64(0), np.int64(5), np.int64(0), np.int64(1), np.int64(3), np.int64(2), np.int64(9), np.int64(4), np.int64(6), np.int64(0), np.int64(1), np.int64(1), np.int64(8), np.int64(0), np.int64(4), np.int64(7), np.int64(7), np.int64(6), np.int64(3), np.int64(6), np.int64(0), np.int64(7), np.int64(3), np.int64(5), np.int64(4), np.int64(2), np.int64(4), np.int64(1), np.int64(8), np.int64(3), np.int64(5), np.int64(6), np.int64(7), np.int64(0), np.int64(6), np.int64(7), np.int64(1), np.int64(2), np.int64(5), np.int64(8), np.int64(1), np.int64(9), np.int64(3), np.int64(8), np.int64(2), np.int64(8), np.int64(7), np.int64(6), np.int64(7), np.int64(1), np.int64(4), np.int64(6), np.int64(2), np.int64(9), np.int64(3), np.int64(0), np.int64(1), np.int64(2), np.int64(3), np.int64(4), np.int64(5), np.int64(6), np.int64(7), np.int64(0), np.int64(1), np.int64(2), np.int64(3), np.int64(4), np.int64(5), np.int64(0), np.int64(1), np.int64(2), np.int64(8), np.int64(9), np.int64(1), np.int64(4), np.int64(0), np.int64(9), np.int64(5), np.int64(0), np.int64(8), np.int64(0), np.int64(7), np.int64(7), np.int64(1), np.int64(1), np.int64(2), np.int64(9), np.int64(3), np.int64(6), np.int64(7), np.int64(2), np.int64(3), np.int64(8), np.int64(1), np.int64(2), np.int64(9), np.int64(8), np.int64(8), np.int64(7), np.int64(1), np.int64(7), np.int64(1), np.int64(1), np.int64(0), np.int64(3), np.int64(4), np.int64(2), np.int64(6), np.int64(4), np.int64(7), np.int64(4), np.int64(2), np.int64(7), np.int64(4), np.int64(9), np.int64(1), np.int64(0), np.int64(6), np.int64(8), np.int64(5), np.int64(5), np.int64(5), np.int64(3), np.int64(5), np.int64(9), np.int64(7), np.int64(4), np.int64(8), np.int64(5), np.int64(9), np.int64(6), np.int64(9), np.int64(3), np.int64(0), np.int64(3), np.int64(8), np.int64(9), np.int64(1), np.int64(8), np.int64(1), np.int64(6), np.int64(0), np.int64(0), np.int64(8), np.int64(2), np.int64(3), np.int64(4), np.int64(5), np.int64(6), np.int64(7), np.int64(8), np.int64(9), np.int64(0), np.int64(1), np.int64(2), np.int64(3), np.int64(4), np.int64(5), np.int64(6), np.int64(7), np.int64(8), np.int64(9), np.int64(0), np.int64(1), np.int64(2), np.int64(3), np.int64(4), np.int64(5), np.int64(6), np.int64(7), np.int64(8), np.int64(9), np.int64(3), np.int64(5), np.int64(3), np.int64(2), np.int64(9), np.int64(3), np.int64(2), np.int64(1), np.int64(4), np.int64(5), np.int64(5), np.int64(3), np.int64(3), np.int64(2), np.int64(1), np.int64(3), np.int64(9), np.int64(7), np.int64(2), np.int64(8), np.int64(2), np.int64(8), np.int64(9), np.int64(1), np.int64(8), np.int64(8), np.int64(7), np.int64(8), np.int64(1), np.int64(0), np.int64(0), np.int64(8), np.int64(7), np.int64(8), np.int64(7), np.int64(5), np.int64(0), np.int64(6), np.int64(1), np.int64(5), np.int64(7), np.int64(4), np.int64(6), np.int64(1), np.int64(2), np.int64(5), np.int64(0), np.int64(7), np.int64(9), np.int64(9), np.int64(0), np.int64(3), np.int64(8), np.int64(2), np.int64(4), np.int64(8), np.int64(1), np.int64(8), np.int64(6), np.int64(5), np.int64(9), np.int64(0), np.int64(0), np.int64(0), np.int64(3), np.int64(7), np.int64(1), np.int64(6), np.int64(4), np.int64(2), np.int64(6), np.int64(6), np.int64(0), np.int64(4), np.int64(5), np.int64(4), np.int64(1), np.int64(3), np.int64(8), np.int64(6), np.int64(3), np.int64(9), np.int64(9), np.int64(5), np.int64(9), np.int64(3), np.int64(7), np.int64(8), np.int64(5), np.int64(6), np.int64(4), np.int64(7), np.int64(6), np.int64(2), np.int64(2), np.int64(0), np.int64(9), np.int64(4), np.int64(0), np.int64(1), np.int64(2), np.int64(3), np.int64(4), np.int64(5), np.int64(6), np.int64(7), np.int64(8), np.int64(9), np.int64(0), np.int64(1), np.int64(2), np.int64(7), np.int64(5), np.int64(6), np.int64(0), np.int64(1), np.int64(2), np.int64(3), np.int64(4), np.int64(5), np.int64(6), np.int64(8), np.int64(7), np.int64(1), np.int64(3), np.int64(2), np.int64(6), np.int64(0), np.int64(7), np.int64(5), np.int64(9), np.int64(9), np.int64(6), np.int64(0), np.int64(9), np.int64(4), np.int64(1), np.int64(3), np.int64(2), np.int64(1), np.int64(2), np.int64(3), np.int64(8), np.int64(3), np.int64(2), np.int64(6), np.int64(5), np.int64(4), np.int64(8), np.int64(2), np.int64(7), np.int64(4), np.int64(8), np.int64(1), np.int64(8), np.int64(0), np.int64(5), np.int64(3), np.int64(9), np.int64(4), np.int64(1), np.int64(9), np.int64(2), np.int64(1), np.int64(9), np.int64(6), np.int64(7), np.int64(9), np.int64(0), np.int64(4), np.int64(6), np.int64(1), np.int64(7), np.int64(3), np.int64(8), np.int64(7), np.int64(2), np.int64(9), np.int64(6), np.int64(5), np.int64(8), np.int64(3), np.int64(9), np.int64(0), np.int64(5), np.int64(7), np.int64(1), np.int64(6), np.int64(1), np.int64(0), np.int64(9), np.int64(3), np.int64(3), np.int64(4), np.int64(4), np.int64(0), np.int64(6), np.int64(2), np.int64(5), np.int64(4), np.int64(2), np.int64(3), np.int64(4), np.int64(6), np.int64(0), np.int64(0), np.int64(2), np.int64(0), np.int64(1), np.int64(4), np.int64(5), np.int64(6), np.int64(0), np.int64(8), np.int64(9), np.int64(0), np.int64(1), np.int64(2), np.int64(3), np.int64(4), np.int64(5), np.int64(6), np.int64(7), np.int64(8), np.int64(0), np.int64(1), np.int64(2), np.int64(3), np.int64(4), np.int64(5), np.int64(6), np.int64(7), np.int64(8), np.int64(9), np.int64(8), np.int64(4), np.int64(1), np.int64(3), np.int64(7), np.int64(5), np.int64(2), np.int64(8), np.int64(0), np.int64(7), np.int64(5), np.int64(9), np.int64(9), np.int64(0), np.int64(9), np.int64(1), np.int64(1), np.int64(5), np.int64(8), np.int64(8), np.int64(6), np.int64(3), np.int64(2), np.int64(1), np.int64(8), np.int64(3), np.int64(2), np.int64(6), np.int64(5), np.int64(6), np.int64(7), np.int64(4), np.int64(1), np.int64(0), np.int64(3), np.int64(3), np.int64(1), np.int64(9), np.int64(2), np.int64(1), np.int64(9), np.int64(6), np.int64(0), np.int64(4), np.int64(6), np.int64(1), np.int64(7), np.int64(3), np.int64(8), np.int64(7), np.int64(2), np.int64(9), np.int64(6), np.int64(5), np.int64(8), np.int64(3), np.int64(5), np.int64(7), np.int64(1), np.int64(6), np.int64(1), np.int64(0), np.int64(9), np.int64(6), np.int64(2), np.int64(5), np.int64(4), np.int64(2), np.int64(3), np.int64(4), np.int64(4), np.int64(6), np.int64(0), np.int64(0), np.int64(2), np.int64(0), np.int64(1), np.int64(2), np.int64(3), np.int64(4), np.int64(3), np.int64(6), np.int64(7), np.int64(8), np.int64(9), np.int64(0), np.int64(1), np.int64(2), np.int64(3), np.int64(4), np.int64(5), np.int64(6), np.int64(7), np.int64(8), np.int64(9), np.int64(0), np.int64(1), np.int64(2), np.int64(8), np.int64(4), np.int64(5), np.int64(6), np.int64(7), np.int64(8), np.int64(9), np.int64(8), np.int64(6), np.int64(3), np.int64(0), np.int64(6), np.int64(8), np.int64(9), np.int64(4), np.int64(1), np.int64(9), np.int64(5), np.int64(9), np.int64(0), np.int64(4), np.int64(8), np.int64(9), np.int64(1), np.int64(4), np.int64(0), np.int64(5), np.int64(5), np.int64(2), np.int64(1), np.int64(5), np.int64(4), np.int64(0), np.int64(7), np.int64(6), np.int64(0), np.int64(1), np.int64(7), np.int64(0), np.int64(6), np.int64(8), np.int64(9), np.int64(5), np.int64(1), np.int64(7), np.int64(9), np.int64(8), np.int64(6), np.int64(0), np.int64(8), np.int64(1), np.int64(7), np.int64(7), np.int64(1), np.int64(3), np.int64(2), np.int64(9), np.int64(1), np.int64(4), np.int64(2), np.int64(0), np.int64(0), np.int64(7), np.int64(8), np.int64(4), np.int64(6), np.int64(4), np.int64(9), np.int64(9), np.int64(8), np.int64(4), np.int64(7), np.int64(2), np.int64(5), np.int64(6), np.int64(9), np.int64(6), np.int64(9), np.int64(6), np.int64(3), np.int64(0), np.int64(2), np.int64(4), np.int64(6), np.int64(9), np.int64(0), np.int64(2), np.int64(5), np.int64(5), np.int64(1), np.int64(9), np.int64(3), np.int64(9), np.int64(7), np.int64(8), np.int64(7), np.int64(2), np.int64(2), np.int64(5), np.int64(7), np.int64(9), np.int64(8), np.int64(2), np.int64(1), np.int64(9), np.int64(1), np.int64(3), np.int64(0), np.int64(1), np.int64(2), np.int64(3), np.int64(4), np.int64(5), np.int64(6), np.int64(7), np.int64(8), np.int64(9), np.int64(0), np.int64(1), np.int64(2), np.int64(3), np.int64(4), np.int64(5), np.int64(6), np.int64(7), np.int64(8), np.int64(9), np.int64(0), np.int64(1), np.int64(2), np.int64(3), np.int64(4), np.int64(5), np.int64(6), np.int64(7), np.int64(8), np.int64(9), np.int64(1), np.int64(2), np.int64(6), np.int64(5), np.int64(3), np.int64(0), np.int64(7), np.int64(0), np.int64(4), np.int64(1), np.int64(4), np.int64(3), np.int64(6), np.int64(7), np.int64(2), np.int64(3), np.int64(1), np.int64(2), np.int64(1), np.int64(2), np.int64(9), np.int64(6), np.int64(0), np.int64(1), np.int64(3), np.int64(0), np.int64(2), np.int64(7), np.int64(5), np.int64(7), np.int64(6), np.int64(2), np.int64(9), np.int64(1), np.int64(9), np.int64(0), np.int64(6), np.int64(0), np.int64(6), np.int64(0), np.int64(2), np.int64(0), np.int64(6), np.int64(1), np.int64(5), np.int64(8), np.int64(4), np.int64(3), np.int64(0), np.int64(1), np.int64(5), np.int64(4), np.int64(4), np.int64(8), np.int64(5), np.int64(7), np.int64(5), np.int64(7), np.int64(8), np.int64(3), np.int64(4), np.int64(8), np.int64(8), np.int64(5), np.int64(2), np.int64(9), np.int64(7), np.int64(1), np.int64(3), np.int64(8), np.int64(1), np.int64(0), np.int64(7), np.int64(5), np.int64(3), np.int64(6), np.int64(9), np.int64(4), np.int64(7), np.int64(7), np.int64(9), np.int64(9), np.int64(3), np.int64(4), np.int64(4), np.int64(3), np.int64(8), np.int64(6), np.int64(2), np.int64(0), np.int64(1), np.int64(2), np.int64(3), np.int64(4), np.int64(5), np.int64(6), np.int64(7), np.int64(8), np.int64(9), np.int64(0), np.int64(1), np.int64(2), np.int64(3), np.int64(4), np.int64(5), np.int64(6), np.int64(7), np.int64(8), np.int64(9), np.int64(0), np.int64(1), np.int64(2), np.int64(3), np.int64(4), np.int64(5), np.int64(6), np.int64(7), np.int64(8), np.int64(9), np.int64(0), np.int64(8), np.int64(3), np.int64(9), np.int64(5), np.int64(5), np.int64(2), np.int64(6), np.int64(8), np.int64(4), np.int64(9), np.int64(1), np.int64(7), np.int64(1), np.int64(2), np.int64(3), np.int64(5), np.int64(9), np.int64(6), np.int64(9), np.int64(1), np.int64(1), np.int64(1), np.int64(2), np.int64(9), np.int64(5), np.int64(6), np.int64(8), np.int64(1), np.int64(2), np.int64(0), np.int64(7), np.int64(7), np.int64(5), np.int64(8), np.int64(2), np.int64(9), np.int64(8), np.int64(9), np.int64(0), np.int64(4), np.int64(6), np.int64(7), np.int64(1), np.int64(3), np.int64(4), np.int64(5), np.int64(6), np.int64(0), np.int64(3), np.int64(6), np.int64(8), np.int64(7), np.int64(0), np.int64(4), np.int64(2), np.int64(7), np.int64(4), np.int64(7), np.int64(5), np.int64(4), np.int64(3), np.int64(4), np.int64(2), np.int64(8), np.int64(1), np.int64(5), np.int64(1), np.int64(2), np.int64(0), np.int64(2), np.int64(5), np.int64(6), np.int64(4), np.int64(3), np.int64(0), np.int64(0), np.int64(0), np.int64(3), np.int64(3), np.int64(5), np.int64(7), np.int64(0), np.int64(6), np.int64(4), np.int64(8), np.int64(8), np.int64(6), np.int64(3), np.int64(4), np.int64(6), np.int64(9), np.int64(9), np.int64(8), np.int64(2), np.int64(7), np.int64(7), np.int64(1), np.int64(0), np.int64(1), np.int64(2), np.int64(3), np.int64(4), np.int64(5), np.int64(6), np.int64(7), np.int64(8), np.int64(9), np.int64(0), np.int64(1), np.int64(2), np.int64(3), np.int64(4), np.int64(5), np.int64(6), np.int64(7), np.int64(8), np.int64(0), np.int64(1), np.int64(2), np.int64(3), np.int64(4), np.int64(5), np.int64(6), np.int64(7), np.int64(8), np.int64(2), np.int64(1), np.int64(7), np.int64(2), np.int64(5), np.int64(0), np.int64(8), np.int64(0), np.int64(2), np.int64(7), np.int64(3), np.int64(8), np.int64(3), np.int64(6), np.int64(0), np.int64(2), np.int64(7), np.int64(6), np.int64(6), np.int64(1), np.int64(2), np.int64(8), np.int64(8), np.int64(7), np.int64(7), np.int64(4), np.int64(7), np.int64(7), np.int64(3), np.int64(7), np.int64(4), np.int64(5), np.int64(4), np.int64(3), np.int64(3), np.int64(8), np.int64(4), np.int64(1), np.int64(1), np.int64(9), np.int64(7), np.int64(4), np.int64(3), np.int64(7), np.int64(3), np.int64(3), np.int64(0), np.int64(2), np.int64(5), np.int64(5), np.int64(6), np.int64(6), np.int64(3), np.int64(8), np.int64(2), np.int64(5), np.int64(9), np.int64(9), np.int64(8), np.int64(4), np.int64(1), np.int64(0), np.int64(6), np.int64(0), np.int64(9), np.int64(6), np.int64(8), np.int64(8), np.int64(5), np.int64(6), np.int64(1), np.int64(1), np.int64(9), np.int64(8), np.int64(9), np.int64(2), np.int64(3), np.int64(5), np.int64(5), np.int64(9), np.int64(4), np.int64(2), np.int64(1), np.int64(9), np.int64(3), np.int64(9), np.int64(2), np.int64(0), np.int64(6), np.int64(0), np.int64(4), np.int64(0), np.int64(0), np.int64(1), np.int64(2), np.int64(3), np.int64(4), np.int64(7), np.int64(8), np.int64(9), np.int64(0), np.int64(1), np.int64(2), np.int64(3), np.int64(7), np.int64(8), np.int64(9), np.int64(0), np.int64(1), np.int64(2), np.int64(3), np.int64(4), np.int64(7), np.int64(8), np.int64(9), np.int64(7), np.int64(3), np.int64(0), np.int64(3), np.int64(1), np.int64(8), np.int64(7), np.int64(6), np.int64(4), np.int64(0), np.int64(2), np.int64(6), np.int64(8), np.int64(3), np.int64(2), np.int64(8), np.int64(1), np.int64(2), np.int64(0), np.int64(7), np.int64(1), np.int64(0), np.int64(4), np.int64(4), np.int64(5), np.int64(8), np.int64(0), np.int64(6), np.int64(0), np.int64(3), np.int64(1), np.int64(5), np.int64(1), np.int64(8), np.int64(5), np.int64(9), np.int64(4), np.int64(0), np.int64(7), np.int64(5), np.int64(8), np.int64(8), np.int64(3), np.int64(8), np.int64(9), np.int64(2), np.int64(6), np.int64(2), np.int64(5), np.int64(3), np.int64(1), np.int64(7), np.int64(3), np.int64(9), np.int64(1), np.int64(9), np.int64(9), np.int64(6), np.int64(0), np.int64(3), np.int64(9), np.int64(2), np.int64(8), np.int64(1), np.int64(4), np.int64(3), np.int64(5), np.int64(2), np.int64(9), np.int64(2), np.int64(5), np.int64(8), np.int64(9), np.int64(5), np.int64(0), np.int64(1), np.int64(2), np.int64(4), np.int64(5), np.int64(6), np.int64(0), np.int64(1), np.int64(2), np.int64(3), np.int64(4), np.int64(5), np.int64(6), np.int64(7), np.int64(1), np.int64(2), np.int64(4), np.int64(4), np.int64(5), np.int64(1), np.int64(0), np.int64(4), np.int64(5), np.int64(6), np.int64(6), np.int64(3), np.int64(4), np.int64(4), np.int64(2), np.int64(9), np.int64(1), np.int64(0), np.int64(6), np.int64(7), np.int64(9), np.int64(7), np.int64(2), np.int64(3), np.int64(3), np.int64(9), np.int64(2), np.int64(0), np.int64(4), np.int64(3), np.int64(3), np.int64(9), np.int64(3), np.int64(5), np.int64(6), np.int64(3), np.int64(2), np.int64(7), np.int64(8), np.int64(4), np.int64(0), np.int64(2), np.int64(4), np.int64(0), np.int64(2), np.int64(4), np.int64(7), np.int64(8), np.int64(0), np.int64(7), np.int64(0), np.int64(6), np.int64(9), np.int64(3), np.int64(2), np.int64(8), np.int64(6), np.int64(9), np.int64(3), np.int64(7), np.int64(5), np.int64(1), np.int64(0), np.int64(8), np.int64(1), np.int64(6), np.int64(7), np.int64(2), np.int64(9), np.int64(7), np.int64(9), np.int64(5), np.int64(8), np.int64(6), np.int64(7), np.int64(6), np.int64(2), np.int64(8), np.int64(1), np.int64(7), np.int64(5), np.int64(0), np.int64(1), np.int64(1), np.int64(3), np.int64(2), np.int64(4), np.int64(9), np.int64(1), np.int64(8), np.int64(6), np.int64(8), np.int64(9), np.int64(0), np.int64(1), np.int64(2), np.int64(3), np.int64(4), np.int64(5), np.int64(6), np.int64(7), np.int64(5), np.int64(9), np.int64(0), np.int64(1), np.int64(2), np.int64(3), np.int64(4), np.int64(7), np.int64(8), np.int64(9), np.int64(5), np.int64(1), np.int64(7), np.int64(8), np.int64(9), np.int64(9), np.int64(8), np.int64(9), np.int64(8), np.int64(4), np.int64(1), np.int64(7), np.int64(7), np.int64(3), np.int64(3), np.int64(7), np.int64(6), np.int64(6), np.int64(6), np.int64(1), np.int64(9), np.int64(0), np.int64(1), np.int64(7), np.int64(6), np.int64(3), np.int64(2), np.int64(1), np.int64(7), np.int64(1), np.int64(3), np.int64(9), np.int64(1), np.int64(7), np.int64(6), np.int64(8), np.int64(4), np.int64(1), np.int64(4), np.int64(3), np.int64(6), np.int64(9), np.int64(6), np.int64(1), np.int64(4), np.int64(4), np.int64(7), np.int64(2), np.int64(4), np.int64(4), np.int64(0), np.int64(1), np.int64(2), np.int64(3), np.int64(4), np.int64(5), np.int64(6), np.int64(7), np.int64(8), np.int64(9), np.int64(0), np.int64(1), np.int64(2), np.int64(3), np.int64(4), np.int64(5), np.int64(6), np.int64(9), np.int64(0), np.int64(1), np.int64(2), np.int64(3), np.int64(4), np.int64(7), np.int64(8), np.int64(1), np.int64(3), np.int64(5), np.int64(1), np.int64(7), np.int64(7), np.int64(2), np.int64(1), np.int64(6), np.int64(8), np.int64(3), np.int64(4), np.int64(4), np.int64(3), np.int64(9), np.int64(7), np.int64(4), np.int64(1), np.int64(2), np.int64(3), np.int64(5), np.int64(9), np.int64(1), np.int64(6), np.int64(0), np.int64(1), np.int64(0), np.int64(0), np.int64(2), np.int64(9), np.int64(7), np.int64(1), np.int64(1), np.int64(4), np.int64(0), np.int64(4), np.int64(7), np.int64(3), np.int64(6), np.int64(8), np.int64(0), np.int64(3), np.int64(7), np.int64(4), np.int64(0), np.int64(6), np.int64(9), np.int64(2), np.int64(6), np.int64(5), np.int64(8), np.int64(6), np.int64(9), np.int64(0), np.int64(4), np.int64(0), np.int64(6), np.int64(6), np.int64(9), np.int64(2), np.int64(0), np.int64(9), np.int64(5), np.int64(1), np.int64(3), np.int64(7), np.int64(6), np.int64(9), np.int64(3), np.int64(0), np.int64(2), np.int64(2), np.int64(0), np.int64(1), np.int64(2), np.int64(3), np.int64(4), np.int64(5), np.int64(6), np.int64(7), np.int64(8), np.int64(9), np.int64(0), np.int64(1), np.int64(2), np.int64(3), np.int64(4), np.int64(5), np.int64(6), np.int64(7), np.int64(8), np.int64(4), np.int64(0), np.int64(1), np.int64(2), np.int64(3), np.int64(4), np.int64(5), np.int64(6), np.int64(7), np.int64(8), np.int64(9), np.int64(2), np.int64(1), np.int64(7), np.int64(2), np.int64(5), np.int64(0), np.int64(8), np.int64(0), np.int64(2), np.int64(7), np.int64(8), np.int64(8), np.int64(3), np.int64(0), np.int64(6), np.int64(0), np.int64(2), np.int64(7), np.int64(6), np.int64(4), np.int64(1), np.int64(2), np.int64(8), np.int64(8), np.int64(7), np.int64(7), np.int64(4), np.int64(7), np.int64(7), np.int64(3), np.int64(7), np.int64(4), np.int64(5), np.int64(4), np.int64(3), np.int64(3), np.int64(8), np.int64(4), np.int64(5), np.int64(4), np.int64(1), np.int64(1), np.int64(9), np.int64(7), np.int64(4), np.int64(3), np.int64(7), np.int64(3), np.int64(3), np.int64(0), np.int64(2), np.int64(5), np.int64(5), np.int64(6), np.int64(3), np.int64(1), np.int64(5), np.int64(2), np.int64(5), np.int64(9), np.int64(9), np.int64(8), np.int64(4), np.int64(1), np.int64(0), np.int64(6), np.int64(0), np.int64(9), np.int64(6), np.int64(8), np.int64(8), np.int64(5), np.int64(6), np.int64(1), np.int64(1), np.int64(9), np.int64(8), np.int64(9), np.int64(2), np.int64(3), np.int64(5), np.int64(5), np.int64(9), np.int64(4), np.int64(2), np.int64(1), np.int64(9), np.int64(4), np.int64(9), np.int64(1), np.int64(3), np.int64(9), np.int64(2), np.int64(0), np.int64(6), np.int64(0), np.int64(4), np.int64(0), np.int64(6), np.int64(0), np.int64(1), np.int64(2), np.int64(3), np.int64(4), np.int64(5), np.int64(6), np.int64(7), np.int64(8), np.int64(9), np.int64(0), np.int64(1), np.int64(2), np.int64(3), np.int64(4), np.int64(5), np.int64(6), np.int64(7), np.int64(8), np.int64(9), np.int64(0), np.int64(1), np.int64(2), np.int64(3), np.int64(4), np.int64(5), np.int64(6), np.int64(7), np.int64(8), np.int64(9), np.int64(3), np.int64(8), np.int64(0), np.int64(7), np.int64(1), np.int64(0), np.int64(7), np.int64(5), np.int64(5), np.int64(6), np.int64(9), np.int64(0), np.int64(1), np.int64(0), np.int64(0), np.int64(8), np.int64(3), np.int64(4), np.int64(3), np.int64(1), np.int64(5), np.int64(0), np.int64(0), np.int64(9), np.int64(5), np.int64(3), np.int64(4), np.int64(9), np.int64(3), np.int64(7), np.int64(6), np.int64(9), np.int64(2), np.int64(4), np.int64(5), np.int64(7), np.int64(2), np.int64(6), np.int64(4), np.int64(9), np.int64(4), np.int64(9), np.int64(4), np.int64(1), np.int64(2), np.int64(2), np.int64(5), np.int64(8), np.int64(1), np.int64(3), np.int64(2), np.int64(9), np.int64(4), np.int64(3), np.int64(8), np.int64(2), np.int64(2), np.int64(1), np.int64(2), np.int64(8), np.int64(6), np.int64(5), np.int64(1), np.int64(6), np.int64(7), np.int64(2), np.int64(1), np.int64(3), np.int64(9), np.int64(3), np.int64(8), np.int64(7), np.int64(5), np.int64(7), np.int64(0), np.int64(7), np.int64(4), np.int64(8), np.int64(8), np.int64(5), np.int64(0), np.int64(6), np.int64(6), np.int64(3), np.int64(7), np.int64(6), np.int64(9), np.int64(9), np.int64(4), np.int64(8), np.int64(4), np.int64(1), np.int64(6), np.int64(6), np.int64(6), np.int64(0), np.int64(1), np.int64(2), np.int64(3), np.int64(4), np.int64(5), np.int64(6), np.int64(7), np.int64(8), np.int64(9), np.int64(0), np.int64(1), np.int64(2), np.int64(3), np.int64(4), np.int64(5), np.int64(6), np.int64(7), np.int64(8), np.int64(9), np.int64(0), np.int64(1), np.int64(2), np.int64(3), np.int64(4), np.int64(5), np.int64(6), np.int64(9), np.int64(8), np.int64(9), np.int64(7), np.int64(4), np.int64(0), np.int64(4), np.int64(0), np.int64(1), np.int64(7), np.int64(9), np.int64(5), np.int64(1), np.int64(4), np.int64(2), np.int64(8), np.int64(9), np.int64(4), np.int64(3), np.int64(7), np.int64(8), np.int64(2), np.int64(4), np.int64(4), np.int64(3), np.int64(3), np.int64(6), np.int64(9), np.int64(9), np.int64(5), np.int64(8), np.int64(6), np.int64(7), np.int64(0), np.int64(6), np.int64(8), np.int64(2), np.int64(6), np.int64(3), np.int64(9), np.int64(3), np.int64(2), np.int64(8), np.int64(6), np.int64(1), np.int64(7), np.int64(4), np.int64(8), np.int64(8), np.int64(9), np.int64(0), np.int64(3), np.int64(3), np.int64(9), np.int64(0), np.int64(5), np.int64(2), np.int64(9), np.int64(4), np.int64(1), np.int64(0), np.int64(3), np.int64(7), np.int64(5), np.int64(8), np.int64(7), np.int64(7), np.int64(8), np.int64(2), np.int64(9), np.int64(7), np.int64(1), np.int64(2), np.int64(6), np.int64(4), np.int64(2), np.int64(5), np.int64(2), np.int64(3), np.int64(6), np.int64(6), np.int64(5), np.int64(0), np.int64(0), np.int64(2), np.int64(8), np.int64(1), np.int64(6), np.int64(1), np.int64(0), np.int64(4), np.int64(3), np.int64(1), np.int64(6), np.int64(1), np.int64(9), np.int64(0), np.int64(1), np.int64(4), np.int64(5), np.int64(6), np.int64(7), np.int64(8), np.int64(9), np.int64(1), np.int64(2), np.int64(3), np.int64(4), np.int64(5), np.int64(6), np.int64(7), np.int64(0), np.int64(1), np.int64(2), np.int64(3), np.int64(4), np.int64(5), np.int64(6), np.int64(7), np.int64(8), np.int64(9), np.int64(8), np.int64(4), np.int64(0), np.int64(0), np.int64(7), np.int64(2), np.int64(4), np.int64(3), np.int64(8), np.int64(6), np.int64(6), np.int64(3), np.int64(2), np.int64(6), np.int64(3), np.int64(3), np.int64(3), np.int64(1), np.int64(4), np.int64(7), np.int64(8), np.int64(0), np.int64(3), np.int64(1), np.int64(9), np.int64(0), np.int64(1), np.int64(9), np.int64(1), np.int64(2), np.int64(7), np.int64(0), np.int64(1), np.int64(3), np.int64(8), np.int64(2), np.int64(9), np.int64(2), np.int64(7), np.int64(6), np.int64(5), np.int64(5), np.int64(9), np.int64(9), np.int64(8), np.int64(2), np.int64(9), np.int64(1), np.int64(3), np.int64(2), np.int64(3), np.int64(4), np.int64(3), np.int64(1), np.int64(9), np.int64(0), np.int64(9), np.int64(3), np.int64(6), np.int64(8), np.int64(7), np.int64(0), np.int64(1), np.int64(0), np.int64(5), np.int64(8), np.int64(2), np.int64(7), np.int64(7), np.int64(0), np.int64(1), np.int64(2), np.int64(3), np.int64(4), np.int64(5), np.int64(6), np.int64(7), np.int64(8), np.int64(9), np.int64(0), np.int64(1), np.int64(2), np.int64(3), np.int64(4), np.int64(5), np.int64(6), np.int64(7), np.int64(8), np.int64(9), np.int64(0), np.int64(1), np.int64(2), np.int64(3), np.int64(4), np.int64(5), np.int64(6), np.int64(7), np.int64(8), np.int64(9), np.int64(1), np.int64(7), np.int64(4), np.int64(8), np.int64(1), np.int64(5), np.int64(6), np.int64(5), np.int64(7), np.int64(2), np.int64(8), np.int64(6), np.int64(3), np.int64(3), np.int64(8), np.int64(6), np.int64(5), np.int64(4), np.int64(0), np.int64(9), np.int64(1), np.int64(7), np.int64(2), np.int64(9), np.int64(1), np.int64(5), np.int64(1), np.int64(3), np.int64(2), np.int64(2), np.int64(3), np.int64(0), np.int64(6), np.int64(4), np.int64(3), np.int64(7), np.int64(6), np.int64(9), np.int64(0), np.int64(4), np.int64(8), np.int64(1), np.int64(4), np.int64(0), np.int64(6), np.int64(1), np.int64(2), np.int64(6), np.int64(9), np.int64(2), np.int64(2), np.int64(3), np.int64(5), np.int64(5), np.int64(1), np.int64(0), np.int64(7), np.int64(7), np.int64(9), np.int64(6), np.int64(2), np.int64(9), np.int64(4), np.int64(7), np.int64(0), np.int64(2), np.int64(3), np.int64(4), np.int64(0), np.int64(0), np.int64(8), np.int64(8), np.int64(8), np.int64(5), np.int64(1), np.int64(3), np.int64(7), np.int64(4), np.int64(9), np.int64(8), np.int64(8), np.int64(9), np.int64(0), np.int64(9), np.int64(8), np.int64(9), np.int64(0), np.int64(2), np.int64(6), np.int64(5), np.int64(6), np.int64(7), np.int64(4), np.int64(7), np.int64(5), np.int64(4), np.int64(1), np.int64(3), np.int64(5), np.int64(3), np.int64(1), np.int64(2), np.int64(3), np.int64(4), np.int64(5), np.int64(6), np.int64(1), np.int64(2), np.int64(3), np.int64(4), np.int64(6), np.int64(0), np.int64(1), np.int64(2), np.int64(4), np.int64(5), np.int64(6), np.int64(7), np.int64(8), np.int64(1), np.int64(7), np.int64(2), np.int64(4), np.int64(1), np.int64(4), np.int64(1), np.int64(4), np.int64(9), np.int64(6), np.int64(8), np.int64(4), np.int64(5), np.int64(3), np.int64(7), np.int64(8), np.int64(4), np.int64(3), np.int64(3), np.int64(5), np.int64(6), np.int64(7), np.int64(0), np.int64(6), np.int64(1), np.int64(6), np.int64(8), np.int64(7), np.int64(0), np.int64(1), np.int64(5), np.int64(0), np.int64(8), np.int64(8), np.int64(0), np.int64(1), np.int64(5), np.int64(8), np.int64(4), np.int64(2), np.int64(3), np.int64(9), np.int64(7), np.int64(6), np.int64(9), np.int64(1), np.int64(9), np.int64(0), np.int64(6), np.int64(7), np.int64(1), np.int64(2), np.int64(3), np.int64(9), np.int64(7), np.int64(4), np.int64(5), np.int64(5), np.int64(3), np.int64(7), np.int64(5), np.int64(3), np.int64(1), np.int64(8), np.int64(2), np.int64(2), np.int64(3), np.int64(0), np.int64(2), np.int64(9), np.int64(4), np.int64(9), np.int64(7), np.int64(0), np.int64(0), np.int64(7), np.int64(4), np.int64(9), np.int64(9), np.int64(2), np.int64(5), np.int64(9), np.int64(8), np.int64(3), np.int64(8), np.int64(6), np.int64(7), np.int64(0), np.int64(0), np.int64(1), np.int64(2), np.int64(3), np.int64(4), np.int64(3), np.int64(6), np.int64(7), np.int64(8), np.int64(9), np.int64(0), np.int64(1), np.int64(2), np.int64(3), np.int64(4), np.int64(5), np.int64(6), np.int64(7), np.int64(8), np.int64(9), np.int64(0), np.int64(1), np.int64(2), np.int64(3), np.int64(4), np.int64(5), np.int64(6), np.int64(7), np.int64(8), np.int64(9), np.int64(0), np.int64(0), np.int64(7), np.int64(2), np.int64(6), np.int64(5), np.int64(5), np.int64(3), np.int64(7), np.int64(9), np.int64(6), np.int64(6), np.int64(6), np.int64(6), np.int64(4), np.int64(3), np.int64(8), np.int64(8), np.int64(3), np.int64(0), np.int64(1), np.int64(9), np.int64(0), np.int64(5), np.int64(4), np.int64(1), np.int64(9), np.int64(1), np.int64(2), np.int64(7), np.int64(0), np.int64(1), np.int64(3), np.int64(8), np.int64(2), np.int64(9), np.int64(2), np.int64(7), np.int64(4), np.int64(2), np.int64(6), np.int64(5), np.int64(5), np.int64(9), np.int64(9), np.int64(1), np.int64(1), np.int64(5), np.int64(7), np.int64(6), np.int64(8), np.int64(2), np.int64(9), np.int64(4), np.int64(3), np.int64(1), np.int64(9), np.int64(0), np.int64(9), np.int64(3), np.int64(6), np.int64(8), np.int64(7), np.int64(0), np.int64(1), np.int64(0), np.int64(5), np.int64(8), np.int64(2), np.int64(7), np.int64(7), np.int64(0), np.int64(1), np.int64(2), np.int64(3), np.int64(4), np.int64(5), np.int64(6), np.int64(7), np.int64(8), np.int64(9), np.int64(0), np.int64(1), np.int64(2), np.int64(3), np.int64(4), np.int64(5), np.int64(8), np.int64(9), np.int64(0), np.int64(1), np.int64(2), np.int64(3), np.int64(4), np.int64(5), np.int64(6), np.int64(7), np.int64(8), np.int64(9), np.int64(2), np.int64(1), np.int64(4), np.int64(1), np.int64(3), np.int64(9), np.int64(9), np.int64(8), np.int64(5), np.int64(3), np.int64(7), np.int64(0), np.int64(7), np.int64(7), np.int64(5), np.int64(7), np.int64(9), np.int64(9), np.int64(4), np.int64(7), np.int64(0), np.int64(3), np.int64(4), np.int64(1), np.int64(5), np.int64(8), np.int64(1), np.int64(4), np.int64(8), np.int64(4), np.int64(1), np.int64(8), np.int64(6), np.int64(6), np.int64(4), np.int64(6), np.int64(0), np.int64(5), np.int64(5), np.int64(3), np.int64(3), np.int64(5), np.int64(7), np.int64(2), np.int64(5), np.int64(9), np.int64(6), np.int64(9), np.int64(2), np.int64(6), np.int64(2), np.int64(1), np.int64(2), np.int64(0), np.int64(8), np.int64(3), np.int64(8), np.int64(3), np.int64(0), np.int64(8), np.int64(7), np.int64(4), np.int64(9), np.int64(5), np.int64(0), np.int64(9), np.int64(7), np.int64(0), np.int64(0), np.int64(4), np.int64(6), np.int64(0), np.int64(9), np.int64(1), np.int64(6), np.int64(2), np.int64(7), np.int64(6), np.int64(8), np.int64(3), np.int64(5), np.int64(2), np.int64(1), np.int64(8), np.int64(3), np.int64(8), np.int64(6), np.int64(1), np.int64(0), np.int64(2), np.int64(1), np.int64(4), np.int64(0), np.int64(1), np.int64(2), np.int64(3), np.int64(4), np.int64(5), np.int64(6), np.int64(7), np.int64(8), np.int64(9), np.int64(0), np.int64(1), np.int64(2), np.int64(3), np.int64(4), np.int64(5), np.int64(6), np.int64(7), np.int64(8), np.int64(9), np.int64(0), np.int64(1), np.int64(2), np.int64(3), np.int64(4), np.int64(5), np.int64(6), np.int64(7), np.int64(8), np.int64(9), np.int64(7), np.int64(6), np.int64(4), np.int64(7), np.int64(6), np.int64(2), np.int64(3), np.int64(4), np.int64(8), np.int64(7), np.int64(8), np.int64(6), np.int64(9), np.int64(8), np.int64(3), np.int64(2), np.int64(2), np.int64(8), np.int64(4), np.int64(8), np.int64(5), np.int64(6), np.int64(5), np.int64(0), np.int64(2), np.int64(0), np.int64(1), np.int64(1), np.int64(2), np.int64(9), np.int64(6), np.int64(8), np.int64(2), np.int64(1), np.int64(0), np.int64(6), np.int64(5), np.int64(2), np.int64(9), np.int64(7), np.int64(5), np.int64(3), np.int64(9), np.int64(3), np.int64(7), np.int64(1), np.int64(8), np.int64(3), np.int64(8), np.int64(1), np.int64(9), np.int64(5), np.int64(5), np.int64(0), np.int64(1), np.int64(1), np.int64(9), np.int64(8), np.int64(2), np.int64(6), np.int64(0), np.int64(4), np.int64(5), np.int64(0), np.int64(3), np.int64(1), np.int64(8), np.int64(6), np.int64(7), np.int64(5), np.int64(9), np.int64(9), np.int64(3), np.int64(0), np.int64(3), np.int64(1), np.int64(4), np.int64(4), np.int64(0), np.int64(4), np.int64(9), np.int64(0), np.int64(1), np.int64(2), np.int64(3), np.int64(5), np.int64(6), np.int64(7), np.int64(8), np.int64(0), np.int64(1), np.int64(2), np.int64(3), np.int64(5), np.int64(6), np.int64(7), np.int64(8), np.int64(9), np.int64(0), np.int64(1), np.int64(2), np.int64(3), np.int64(5), np.int64(6), np.int64(7), np.int64(8), np.int64(9), np.int64(9), np.int64(7), np.int64(0), np.int64(9), np.int64(0), np.int64(1), np.int64(5), np.int64(8), np.int64(8), np.int64(0), np.int64(9), np.int64(3), np.int64(2), np.int64(7), np.int64(8), np.int64(4), np.int64(6), np.int64(1), np.int64(0), np.int64(4), np.int64(9), np.int64(4), np.int64(4), np.int64(0), np.int64(5), np.int64(0), np.int64(1), np.int64(6), np.int64(9), np.int64(3), np.int64(2), np.int64(9), np.int64(1), np.int64(6), np.int64(0), np.int64(1), np.int64(1), np.int64(8), np.int64(9), np.int64(7), np.int64(6), np.int64(3), np.int64(6), np.int64(0), np.int64(7), np.int64(2), np.int64(4), np.int64(1), np.int64(9), np.int64(0), np.int64(6), np.int64(9), np.int64(1), np.int64(2), np.int64(5), np.int64(8), np.int64(1), np.int64(6), np.int64(2), np.int64(8), np.int64(7), np.int64(6), np.int64(8), np.int64(7), np.int64(1), np.int64(6), np.int64(2), np.int64(9), np.int64(3), np.int64(0), np.int64(1), np.int64(2), np.int64(3), np.int64(4), np.int64(5), np.int64(6), np.int64(7), np.int64(8), np.int64(9), np.int64(0), np.int64(1), np.int64(6), np.int64(3), np.int64(4), np.int64(5), np.int64(6), np.int64(7), np.int64(8), np.int64(9), np.int64(0), np.int64(1), np.int64(2), np.int64(3), np.int64(4), np.int64(5), np.int64(6), np.int64(7), np.int64(8), np.int64(9), np.int64(8), np.int64(9), np.int64(5), np.int64(7), np.int64(0), np.int64(3), np.int64(1), np.int64(6), np.int64(8), np.int64(4), np.int64(1), np.int64(5), np.int64(6), np.int64(4), np.int64(2), np.int64(7), np.int64(8), np.int64(1), np.int64(3), np.int64(4), np.int64(3), np.int64(4), np.int64(3), np.int64(2), np.int64(0), np.int64(5), np.int64(0), np.int64(1), np.int64(9), np.int64(2), np.int64(3), np.int64(2), np.int64(3), np.int64(5), np.int64(5), np.int64(7), np.int64(8), np.int64(4), np.int64(9), np.int64(9), np.int64(7), np.int64(1), np.int64(1), np.int64(9), np.int64(0), np.int64(7), np.int64(8), np.int64(3), np.int64(4), np.int64(8), np.int64(6), np.int64(3), np.int64(8), np.int64(0), np.int64(9), np.int64(6), np.int64(2), np.int64(8), np.int64(0), np.int64(1), np.int64(0), np.int64(6), np.int64(2), np.int64(3), np.int64(8), np.int64(9), np.int64(0), np.int64(7), np.int64(2), np.int64(3), np.int64(4), np.int64(5), np.int64(5), np.int64(2), np.int64(8), np.int64(5), np.int64(4), np.int64(6), np.int64(6), np.int64(6), np.int64(7), np.int64(9), np.int64(1), np.int64(8), np.int64(2), np.int64(1), np.int64(5), np.int64(3), np.int64(4), np.int64(7), np.int64(9), np.int64(4), np.int64(0), np.int64(0), np.int64(0), np.int64(1), np.int64(2), np.int64(3), np.int64(4), np.int64(8), np.int64(6), np.int64(7), np.int64(8), np.int64(9), np.int64(0), np.int64(1), np.int64(2), np.int64(3), np.int64(4), np.int64(5), np.int64(6), np.int64(7), np.int64(8), np.int64(9), np.int64(0), np.int64(1), np.int64(2), np.int64(3), np.int64(4), np.int64(5), np.int64(6), np.int64(9), np.int64(0), np.int64(1), np.int64(3), np.int64(1), np.int64(5), np.int64(1), np.int64(8), np.int64(4), np.int64(9), np.int64(8), np.int64(4), np.int64(6), np.int64(8), np.int64(0), np.int64(1), np.int64(1), np.int64(9), np.int64(2), np.int64(6), np.int64(6), np.int64(8), np.int64(7), np.int64(4), np.int64(2), np.int64(9), np.int64(9), np.int64(0), np.int64(2), np.int64(1), np.int64(0), np.int64(3), np.int64(6), np.int64(0), np.int64(1), np.int64(2), np.int64(3), np.int64(4), np.int64(5), np.int64(6), np.int64(7), np.int64(8), np.int64(9), np.int64(0), np.int64(1), np.int64(2), np.int64(3), np.int64(4), np.int64(5), np.int64(6), np.int64(7), np.int64(8), np.int64(9), np.int64(0), np.int64(1), np.int64(2), np.int64(3), np.int64(4), np.int64(5), np.int64(4), np.int64(7), np.int64(8), np.int64(9), np.int64(8), np.int64(6), np.int64(5), np.int64(9), np.int64(7), np.int64(0), np.int64(2), np.int64(3), np.int64(4), np.int64(3), np.int64(8), np.int64(5), np.int64(1), np.int64(5), np.int64(2), np.int64(3), np.int64(0), np.int64(1), np.int64(2), np.int64(1), np.int64(3), np.int64(2), np.int64(6), np.int64(5), np.int64(3), np.int64(0), np.int64(7), np.int64(2), np.int64(7), np.int64(4), np.int64(6), np.int64(4), np.int64(0), np.int64(5), np.int64(9), np.int64(8), np.int64(8), np.int64(9), np.int64(5), np.int64(3), np.int64(1), np.int64(7), np.int64(4), np.int64(7), np.int64(6), np.int64(5), np.int64(4), np.int64(0), np.int64(0), np.int64(6), np.int64(6), np.int64(2), np.int64(0), np.int64(6), np.int64(3), np.int64(7), np.int64(9), np.int64(4), np.int64(4), np.int64(3), np.int64(9), np.int64(2), np.int64(8), np.int64(9), np.int64(6), np.int64(0), np.int64(9), np.int64(5), np.int64(3), np.int64(8), np.int64(8), np.int64(7), np.int64(1), np.int64(4), np.int64(0), np.int64(4), np.int64(8), np.int64(5), np.int64(2), np.int64(3), np.int64(9), np.int64(0), np.int64(1), np.int64(9), np.int64(1), np.int64(5), np.int64(1), np.int64(7), np.int64(4), np.int64(4), np.int64(6), np.int64(2), np.int64(1), np.int64(6), np.int64(8), np.int64(8), np.int64(0), np.int64(1), np.int64(2), np.int64(5), np.int64(4), np.int64(7), np.int64(8), np.int64(9), np.int64(0), np.int64(1), np.int64(2), np.int64(3), np.int64(0), np.int64(6), np.int64(7), np.int64(8), np.int64(9), np.int64(0), np.int64(1), np.int64(2), np.int64(3), np.int64(4), np.int64(7), np.int64(8), np.int64(9), np.int64(1), np.int64(4), np.int64(5), np.int64(3), np.int64(8), np.int64(0), np.int64(9), np.int64(5), np.int64(4), np.int64(3), np.int64(0), np.int64(4), np.int64(4), np.int64(6), np.int64(7), np.int64(0), np.int64(7), np.int64(7), np.int64(1), np.int64(6), np.int64(9), np.int64(1), np.int64(3), np.int64(6), np.int64(2), np.int64(3), np.int64(8), np.int64(2), np.int64(3), np.int64(8), np.int64(9), np.int64(5), np.int64(8), np.int64(8), np.int64(7), np.int64(1), np.int64(7), np.int64(1), np.int64(1), np.int64(0), np.int64(3), np.int64(4), np.int64(2), np.int64(4), np.int64(4), np.int64(7), np.int64(4), np.int64(2), np.int64(7), np.int64(4), np.int64(2), np.int64(9), np.int64(2), np.int64(7), np.int64(9), np.int64(2), np.int64(1), np.int64(6), np.int64(6), np.int64(5), np.int64(3), np.int64(4), np.int64(8), np.int64(5), np.int64(9), np.int64(6), np.int64(9), np.int64(4), np.int64(6), np.int64(3), np.int64(0), np.int64(8), np.int64(1), np.int64(6), np.int64(0), np.int64(0), np.int64(1), np.int64(2), np.int64(3), np.int64(4), np.int64(5), np.int64(6), np.int64(7), np.int64(0), np.int64(1), np.int64(2), np.int64(3), np.int64(4), np.int64(7), np.int64(8), np.int64(9), np.int64(0), np.int64(1), np.int64(2), np.int64(3), np.int64(4), np.int64(7), np.int64(2), np.int64(5), np.int64(1), np.int64(6), np.int64(4), np.int64(3), np.int64(9), np.int64(9), np.int64(0), np.int64(9), np.int64(9), np.int64(1), np.int64(6), np.int64(4), np.int64(3), np.int64(6), np.int64(2), np.int64(0), np.int64(9), np.int64(8), np.int64(6), np.int64(5), np.int64(7), np.int64(0), np.int64(0), np.int64(1), np.int64(7), np.int64(4), np.int64(3), np.int64(2), np.int64(4), np.int64(1), np.int64(3), np.int64(7), np.int64(6), np.int64(4), np.int64(7), np.int64(7), np.int64(7), np.int64(9), np.int64(8), np.int64(4), np.int64(3), np.int64(8), np.int64(2), np.int64(6), np.int64(3), np.int64(5), np.int64(8), np.int64(0), np.int64(5), np.int64(4), np.int64(7), np.int64(1), np.int64(3), np.int64(1), np.int64(7), np.int64(9), np.int64(6), np.int64(2), np.int64(0), np.int64(9), np.int64(1), np.int64(7), np.int64(3), np.int64(3), np.int64(9), np.int64(1), np.int64(6), np.int64(4), np.int64(3), np.int64(9), np.int64(8), np.int64(2), np.int64(1), np.int64(8), np.int64(6), np.int64(4), np.int64(1), np.int64(5), np.int64(5), np.int64(6), np.int64(5), np.int64(0), np.int64(1), np.int64(2), np.int64(3), np.int64(4), np.int64(3), np.int64(6), np.int64(7), np.int64(8), np.int64(9), np.int64(0), np.int64(1), np.int64(2), np.int64(3), np.int64(4), np.int64(5), np.int64(6), np.int64(7), np.int64(8), np.int64(9), np.int64(0), np.int64(1), np.int64(2), np.int64(3), np.int64(4), np.int64(5), np.int64(6), np.int64(7), np.int64(8), np.int64(9), np.int64(6), np.int64(9), np.int64(7), np.int64(0), np.int64(2), np.int64(3), np.int64(4), np.int64(3), np.int64(8), np.int64(5), np.int64(1), np.int64(3), np.int64(0), np.int64(1), np.int64(2), np.int64(8), np.int64(3), np.int64(2), np.int64(0), np.int64(3), np.int64(2), np.int64(6), np.int64(4), np.int64(0), np.int64(5), np.int64(9), np.int64(9), np.int64(8), np.int64(9), np.int64(5), np.int64(3), np.int64(8), np.int64(7), np.int64(4), np.int64(7), np.int64(0), np.int64(0), np.int64(6), np.int64(6), np.int64(6), np.int64(3), np.int64(3), np.int64(8), np.int64(2), np.int64(6), np.int64(9), np.int64(8), np.int64(7), np.int64(1), np.int64(9), np.int64(0), np.int64(4), np.int64(8), np.int64(5), np.int64(2), np.int64(3), np.int64(9), np.int64(0), np.int64(1), np.int64(9), np.int64(1), np.int64(5), np.int64(1), np.int64(7), np.int64(6), np.int64(1), np.int64(2), np.int64(1), np.int64(6), np.int64(8), np.int64(0), np.int64(1), np.int64(2), np.int64(3), np.int64(4), np.int64(5), np.int64(6), np.int64(7), np.int64(8), np.int64(9), np.int64(0), np.int64(1), np.int64(2), np.int64(3), np.int64(4), np.int64(5), np.int64(6), np.int64(7), np.int64(8), np.int64(0), np.int64(1), np.int64(2), np.int64(3), np.int64(5), np.int64(6), np.int64(7), np.int64(8), np.int64(1), np.int64(0), np.int64(4), np.int64(5), np.int64(6), np.int64(6), np.int64(3), np.int64(4), np.int64(4), np.int64(2), np.int64(8), np.int64(1), np.int64(0), np.int64(6), np.int64(4), np.int64(9), np.int64(7), np.int64(2), np.int64(9), np.int64(2), np.int64(0), np.int64(9), np.int64(3), np.int64(3), np.int64(9), np.int64(1), np.int64(5), np.int64(2), np.int64(3), np.int64(1), np.int64(6), np.int64(7), np.int64(3), np.int64(7), np.int64(8), np.int64(4), np.int64(0), np.int64(2), np.int64(4), np.int64(0), np.int64(2), np.int64(4), np.int64(7), np.int64(8), np.int64(0), np.int64(7), np.int64(0), np.int64(6), np.int64(9), np.int64(3), np.int64(2), np.int64(4), np.int64(8), np.int64(6), np.int64(0), np.int64(5), np.int64(7), np.int64(5), np.int64(1), np.int64(0), np.int64(8), np.int64(1), np.int64(6), np.int64(7), np.int64(2), np.int64(9), np.int64(7), np.int64(9), np.int64(5), np.int64(6), np.int64(5), np.int64(2), np.int64(6), np.int64(2), np.int64(8), np.int64(1), np.int64(7), np.int64(5), np.int64(5), np.int64(7), np.int64(3), np.int64(5), np.int64(0), np.int64(1), np.int64(1), np.int64(3), np.int64(8), np.int64(4), np.int64(9), np.int64(4), np.int64(5), np.int64(1), np.int64(8), np.int64(6), np.int64(8), np.int64(9), np.int64(0), np.int64(1), np.int64(2), np.int64(3), np.int64(4), np.int64(5), np.int64(6), np.int64(7), np.int64(8), np.int64(9), np.int64(0), np.int64(1), np.int64(2), np.int64(3), np.int64(4), np.int64(5), np.int64(6), np.int64(7), np.int64(8), np.int64(9), np.int64(0), np.int64(1), np.int64(2), np.int64(3), np.int64(4), np.int64(5), np.int64(6), np.int64(7), np.int64(8), np.int64(9), np.int64(3), np.int64(5), np.int64(3), np.int64(2), np.int64(9), np.int64(3), np.int64(2), np.int64(1), np.int64(4), np.int64(5), np.int64(5), np.int64(2), np.int64(3), np.int64(2), np.int64(1), np.int64(3), np.int64(9), np.int64(7), np.int64(2), np.int64(1), np.int64(2), np.int64(8), np.int64(9), np.int64(1), np.int64(8), np.int64(8), np.int64(7), np.int64(8), np.int64(1), np.int64(0), np.int64(0), np.int64(6), np.int64(7), np.int64(7), np.int64(8), np.int64(7), np.int64(5), np.int64(0), np.int64(6), np.int64(1), np.int64(5), np.int64(7), np.int64(4), np.int64(6), np.int64(1), np.int64(2), np.int64(5), np.int64(0), np.int64(7), np.int64(9), np.int64(9), np.int64(0), np.int64(3), np.int64(4), np.int64(4), np.int64(8), np.int64(4), np.int64(1), np.int64(8), np.int64(6), np.int64(5), np.int64(9), np.int64(0), np.int64(0), np.int64(0), np.int64(3), np.int64(7), np.int64(1), np.int64(6), np.int64(4), np.int64(6), np.int64(0), np.int64(4), np.int64(5), np.int64(4), np.int64(1), np.int64(3), np.int64(8), np.int64(6), np.int64(3), np.int64(9), np.int64(9), np.int64(5), np.int64(9), np.int64(3), np.int64(7), np.int64(8), np.int64(5), np.int64(6), np.int64(4), np.int64(7), np.int64(6), np.int64(2), np.int64(2), np.int64(0), np.int64(9), np.int64(4), np.int64(0), np.int64(1), np.int64(2), np.int64(3), np.int64(4), np.int64(5), np.int64(6), np.int64(7), np.int64(8), np.int64(9), np.int64(0), np.int64(1), np.int64(2), np.int64(3), np.int64(4), np.int64(5), np.int64(6), np.int64(7), np.int64(8), np.int64(9), np.int64(0), np.int64(1), np.int64(2), np.int64(3), np.int64(4), np.int64(5), np.int64(6), np.int64(7), np.int64(8), np.int64(9), np.int64(6), np.int64(4), np.int64(2), np.int64(6), np.int64(4), np.int64(7), np.int64(5), np.int64(5), np.int64(4), np.int64(7), np.int64(2), np.int64(9), np.int64(3), np.int64(9), np.int64(3), np.int64(8), np.int64(2), np.int64(0), np.int64(9), np.int64(5), np.int64(6), np.int64(0), np.int64(1), np.int64(0), np.int64(6), np.int64(5), np.int64(3), np.int64(5), np.int64(3), np.int64(8), np.int64(0), np.int64(0), np.int64(3), np.int64(4), np.int64(1), np.int64(5), np.int64(3), np.int64(0), np.int64(8), np.int64(3), np.int64(0), np.int64(6), np.int64(2), np.int64(7), np.int64(8), np.int64(1), np.int64(7), np.int64(1), np.int64(3), np.int64(8), np.int64(5), np.int64(4), np.int64(2), np.int64(0), np.int64(9), np.int64(7), np.int64(6), np.int64(7), np.int64(4), np.int64(1), np.int64(6), np.int64(2), np.int64(6), np.int64(7), np.int64(1), np.int64(9), np.int64(8), np.int64(0), np.int64(6), np.int64(9), np.int64(4), np.int64(9), np.int64(9), np.int64(6), np.int64(2), np.int64(3), np.int64(7), np.int64(1), np.int64(9), np.int64(2), np.int64(2), np.int64(5), np.int64(3), np.int64(7), np.int64(8), np.int64(0), np.int64(1), np.int64(2), np.int64(3), np.int64(4), np.int64(7), np.int64(8), np.int64(9), np.int64(0), np.int64(1), np.int64(2), np.int64(3), np.int64(4), np.int64(7), np.int64(8), np.int64(9), np.int64(0), np.int64(1), np.int64(7), np.int64(8), np.int64(9), np.int64(8), np.int64(9), np.int64(2), np.int64(6), np.int64(1), np.int64(3), np.int64(5), np.int64(4), np.int64(8), np.int64(2), np.int64(6), np.int64(4), np.int64(3), np.int64(4), np.int64(5), np.int64(9), np.int64(2), np.int64(0), np.int64(3), np.int64(9), np.int64(4), np.int64(9), np.int64(7), np.int64(3), np.int64(8), np.int64(7), np.int64(4), np.int64(4), np.int64(9), np.int64(8), np.int64(5), np.int64(8), np.int64(2), np.int64(6), np.int64(6), np.int64(2), np.int64(3), np.int64(1), np.int64(3), np.int64(2), np.int64(7), np.int64(3), np.int64(1), np.int64(9), np.int64(0), np.int64(1), np.int64(1), np.int64(3), np.int64(5), np.int64(0), np.int64(7), np.int64(8), np.int64(1), np.int64(5), np.int64(1), np.int64(4), np.int64(6), np.int64(0), np.int64(0), np.int64(4), np.int64(9), np.int64(1), np.int64(6), np.int64(6), np.int64(9), np.int64(0), np.int64(7), np.int64(6), np.int64(1), np.int64(1), np.int64(0), np.int64(1), np.int64(2), np.int64(3), np.int64(4), np.int64(2), np.int64(2), np.int64(3), np.int64(4), np.int64(5), np.int64(6), np.int64(2), np.int64(5), np.int64(1), np.int64(2), np.int64(2), np.int64(8), np.int64(6), np.int64(3), np.int64(9), np.int64(2), np.int64(1), np.int64(9), np.int64(3), np.int64(9), np.int64(6), np.int64(1), np.int64(7), np.int64(2), np.int64(4), np.int64(4), np.int64(5), np.int64(7), np.int64(0), np.int64(0), np.int64(1), np.int64(6), np.int64(6), np.int64(8), np.int64(2), np.int64(7), np.int64(7), np.int64(2), np.int64(4), np.int64(2), np.int64(1), np.int64(6), np.int64(1), np.int64(0), np.int64(6), np.int64(9), np.int64(8), np.int64(3), np.int64(9), np.int64(6), np.int64(3), np.int64(0), np.int64(1), np.int64(2), np.int64(3), np.int64(4), np.int64(5), np.int64(6), np.int64(7), np.int64(8), np.int64(9), np.int64(0), np.int64(8), np.int64(2), np.int64(3), np.int64(4), np.int64(5), np.int64(6), np.int64(7), np.int64(8), np.int64(9), np.int64(0), np.int64(1), np.int64(2), np.int64(3), np.int64(4), np.int64(5), np.int64(6), np.int64(7), np.int64(8), np.int64(9), np.int64(1), np.int64(6), np.int64(8), np.int64(9), np.int64(9), np.int64(0), np.int64(1), np.int64(2), np.int64(4), np.int64(4), np.int64(3), np.int64(7), np.int64(4), np.int64(4), np.int64(4), np.int64(0), np.int64(3), np.int64(8), np.int64(7), np.int64(5), np.int64(8), np.int64(2), np.int64(1), np.int64(7), np.int64(5), np.int64(3), np.int64(8), np.int64(5), np.int64(2), np.int64(5), np.int64(1), np.int64(1), np.int64(6), np.int64(2), np.int64(1), np.int64(3), np.int64(8), np.int64(6), np.int64(4), np.int64(2), np.int64(6), np.int64(2), np.int64(5), np.int64(5), np.int64(0), np.int64(2), np.int64(8), np.int64(0), np.int64(6), np.int64(8), np.int64(1), np.int64(7), np.int64(9), np.int64(1), np.int64(9), np.int64(2), np.int64(6), np.int64(7), np.int64(6), np.int64(6), np.int64(8), np.int64(7), np.int64(4), np.int64(9), np.int64(2), np.int64(1), np.int64(3), np.int64(3), np.int64(0), np.int64(5), np.int64(5), np.int64(8), np.int64(0), np.int64(3), np.int64(7), np.int64(9), np.int64(7), np.int64(0), np.int64(2), np.int64(7), np.int64(9), np.int64(1), np.int64(7), np.int64(8), np.int64(0), np.int64(3), np.int64(5), np.int64(3), np.int64(6), np.int64(0), np.int64(1), np.int64(2), np.int64(3), np.int64(4), np.int64(5), np.int64(6), np.int64(7), np.int64(8), np.int64(9), np.int64(0), np.int64(1), np.int64(2), np.int64(3), np.int64(4), np.int64(5), np.int64(6), np.int64(7), np.int64(8), np.int64(9), np.int64(0), np.int64(1), np.int64(2), np.int64(3), np.int64(4), np.int64(7), np.int64(8), np.int64(9), np.int64(6), np.int64(4), np.int64(2), np.int64(6), np.int64(4), np.int64(7), np.int64(8), np.int64(9), np.int64(2), np.int64(9), np.int64(3), np.int64(9), np.int64(3), np.int64(0), np.int64(0), np.int64(1), np.int64(0), np.int64(4), np.int64(2), np.int64(6), np.int64(3), np.int64(5), np.int64(3), np.int64(0), np.int64(3), np.int64(4), np.int64(1), np.int64(5), np.int64(3), np.int64(0), np.int64(8), np.int64(3), np.int64(0), np.int64(6), np.int64(1), np.int64(7), np.int64(8), np.int64(0), np.int64(9), np.int64(2), np.int64(6), np.int64(7), np.int64(1), np.int64(9), np.int64(6), np.int64(9), np.int64(4), np.int64(9), np.int64(9), np.int64(6), np.int64(7), np.int64(1), np.int64(2), np.int64(5), np.int64(3), np.int64(7), np.int64(8), np.int64(0), np.int64(1), np.int64(2), np.int64(4), np.int64(5), np.int64(6), np.int64(7), np.int64(8), np.int64(9), np.int64(0), np.int64(1), np.int64(3), np.int64(4), np.int64(5), np.int64(6), np.int64(7), np.int64(5), np.int64(0), np.int64(1), np.int64(3), np.int64(4), np.int64(7), np.int64(8), np.int64(9), np.int64(7), np.int64(5), np.int64(5), np.int64(1), np.int64(9), np.int64(9), np.int64(7), np.int64(1), np.int64(0), np.int64(0), np.int64(5), np.int64(9), np.int64(7), np.int64(1), np.int64(7), np.int64(2), np.int64(2), np.int64(3), np.int64(6), np.int64(8), np.int64(3), np.int64(2), np.int64(0), np.int64(0), np.int64(6), np.int64(1), np.int64(7), np.int64(5), np.int64(8), np.int64(6), np.int64(2), np.int64(9), np.int64(4), np.int64(8), np.int64(8), np.int64(7), np.int64(1), np.int64(0), np.int64(8), np.int64(7), np.int64(7), np.int64(5), np.int64(8), np.int64(5), np.int64(3), np.int64(4), np.int64(6), np.int64(1), np.int64(1), np.int64(5), np.int64(5), np.int64(0), np.int64(7), np.int64(2), np.int64(3), np.int64(6), np.int64(4), np.int64(1), np.int64(2), np.int64(4), np.int64(1), np.int64(5), np.int64(4), np.int64(2), np.int64(0), np.int64(4), np.int64(8), np.int64(6), np.int64(1), np.int64(9), np.int64(0), np.int64(2), np.int64(5), np.int64(6), np.int64(9), np.int64(3), np.int64(6), np.int64(3), np.int64(6), np.int64(0), np.int64(1), np.int64(2), np.int64(3), np.int64(4), np.int64(5), np.int64(6), np.int64(7), np.int64(8), np.int64(9), np.int64(0), np.int64(1), np.int64(2), np.int64(3), np.int64(4), np.int64(5), np.int64(6), np.int64(7), np.int64(8), np.int64(9), np.int64(0), np.int64(1), np.int64(2), np.int64(3), np.int64(5), np.int64(6), np.int64(7), np.int64(8), np.int64(1), np.int64(0), np.int64(9), np.int64(5), np.int64(7), np.int64(5), np.int64(1), np.int64(8), np.int64(6), np.int64(9), np.int64(0), np.int64(4), np.int64(1), np.int64(9), np.int64(3), np.int64(8), np.int64(4), np.int64(4), np.int64(7), np.int64(0), np.int64(1), np.int64(9), np.int64(2), np.int64(8), np.int64(7), np.int64(8), np.int64(2), np.int64(3), np.int64(9), np.int64(6), np.int64(0), np.int64(6), np.int64(5), np.int64(5), np.int64(3), np.int64(3), np.int64(3), np.int64(9), np.int64(8), np.int64(1), np.int64(1), np.int64(0), np.int64(6), np.int64(1), np.int64(0), np.int64(0), np.int64(6), np.int64(2), np.int64(1), np.int64(1), np.int64(3), np.int64(2), np.int64(7), np.int64(7), np.int64(8), np.int64(8), np.int64(7), np.int64(8), np.int64(4), np.int64(6), np.int64(0), np.int64(2), np.int64(0), np.int64(7), np.int64(0), np.int64(3), np.int64(6), np.int64(8), np.int64(7), np.int64(1), np.int64(3), np.int64(9), np.int64(9), np.int64(3), np.int64(7), np.int64(2), np.int64(4), np.int64(9), np.int64(4), np.int64(3), np.int64(6), np.int64(2), np.int64(2), np.int64(5), np.int64(3), np.int64(2), np.int64(5), np.int64(5), np.int64(9), np.int64(4), np.int64(1), np.int64(7), np.int64(2), np.int64(0), np.int64(1), np.int64(2), np.int64(3), np.int64(4), np.int64(5), np.int64(6), np.int64(7), np.int64(8), np.int64(9), np.int64(0), np.int64(1), np.int64(7), np.int64(3), np.int64(4), np.int64(5), np.int64(6), np.int64(7), np.int64(8), np.int64(9), np.int64(0), np.int64(1), np.int64(2), np.int64(3), np.int64(4), np.int64(5), np.int64(6), np.int64(7), np.int64(8), np.int64(4), np.int64(1), np.int64(0), np.int64(1), np.int64(2), np.int64(7), np.int64(5), np.int64(3), np.int64(4), np.int64(4), np.int64(0), np.int64(0), np.int64(6), np.int64(9), np.int64(6), np.int64(6), np.int64(5), np.int64(7), np.int64(2), np.int64(3), np.int64(4), np.int64(4), np.int64(9), np.int64(1), np.int64(4), np.int64(0), np.int64(7), np.int64(9), np.int64(5), np.int64(7), np.int64(2), np.int64(3), np.int64(1), np.int64(4), np.int64(4), np.int64(0), np.int64(9), np.int64(9), np.int64(6), np.int64(1), np.int64(8), np.int64(3), np.int64(3), np.int64(7), np.int64(3), np.int64(9), np.int64(8), np.int64(8), np.int64(4), np.int64(7), np.int64(7), np.int64(6), np.int64(2), np.int64(1), np.int64(9), np.int64(8), np.int64(7), np.int64(8), np.int64(8), np.int64(7), np.int64(2), np.int64(2), np.int64(3), np.int64(9), np.int64(3), np.int64(3), np.int64(5), np.int64(5), np.int64(0), np.int64(7), np.int64(4), np.int64(5), np.int64(6), np.int64(5), np.int64(1), np.int64(4), np.int64(1), np.int64(1), np.int64(2), np.int64(8), np.int64(2), np.int64(6), np.int64(1), np.int64(5), np.int64(0), np.int64(1), np.int64(2), np.int64(3), np.int64(4), np.int64(5), np.int64(6), np.int64(7), np.int64(8), np.int64(9), np.int64(0), np.int64(1), np.int64(2), np.int64(3), np.int64(4), np.int64(5), np.int64(6), np.int64(7), np.int64(8), np.int64(9), np.int64(0), np.int64(1), np.int64(2), np.int64(3), np.int64(4), np.int64(5), np.int64(6), np.int64(7), np.int64(8), np.int64(8), np.int64(0), np.int64(6), np.int64(0), np.int64(3), np.int64(2), np.int64(3), np.int64(7), np.int64(9), np.int64(4), np.int64(7), np.int64(1), np.int64(9), np.int64(1), np.int64(7), np.int64(1), np.int64(4), np.int64(0), np.int64(0), np.int64(1), np.int64(7), np.int64(5), np.int64(7), np.int64(1), np.int64(3), np.int64(3), np.int64(3), np.int64(1), np.int64(6), np.int64(9), np.int64(7), np.int64(1), np.int64(3), np.int64(0), np.int64(7), np.int64(6), np.int64(0), np.int64(8), np.int64(9), np.int64(4), np.int64(3), np.int64(5), np.int64(4), np.int64(8), np.int64(1), np.int64(5), np.int64(9), np.int64(0), np.int64(6), np.int64(3), np.int64(3), np.int64(8), np.int64(1), np.int64(4), np.int64(7), np.int64(5), np.int64(2), np.int64(0), np.int64(0), np.int64(1), np.int64(7), np.int64(8), np.int64(9), np.int64(6), np.int64(8), np.int64(8), np.int64(2), np.int64(3), np.int64(6), np.int64(1), np.int64(8), np.int64(9), np.int64(5), np.int64(2), np.int64(0), np.int64(1), np.int64(2), np.int64(3), np.int64(4), np.int64(5), np.int64(6), np.int64(7), np.int64(8), np.int64(9), np.int64(0), np.int64(1), np.int64(2), np.int64(3), np.int64(4), np.int64(5), np.int64(6), np.int64(7), np.int64(8), np.int64(9), np.int64(0), np.int64(1), np.int64(3), np.int64(3), np.int64(4), np.int64(5), np.int64(6), np.int64(7), np.int64(8), np.int64(9), np.int64(7), np.int64(4), np.int64(6), np.int64(1), np.int64(4), np.int64(0), np.int64(9), np.int64(9), np.int64(3), np.int64(7), np.int64(8), np.int64(6), np.int64(7), np.int64(5), np.int64(8), np.int64(6), np.int64(3), np.int64(2), np.int64(3), np.int64(0), np.int64(5), np.int64(8), np.int64(6), np.int64(0), np.int64(3), np.int64(8), np.int64(1), np.int64(0), np.int64(3), np.int64(0), np.int64(4), np.int64(7), np.int64(4), np.int64(9), np.int64(0), np.int64(9), np.int64(0), np.int64(7), np.int64(1), np.int64(7), np.int64(1), np.int64(6), np.int64(6), np.int64(5), np.int64(6), np.int64(8), np.int64(8), np.int64(7), np.int64(6), np.int64(4), np.int64(9), np.int64(9), np.int64(5), np.int64(3), np.int64(7), np.int64(4), np.int64(3), np.int64(0), np.int64(4), np.int64(6), np.int64(6), np.int64(1), np.int64(1), np.int64(3), np.int64(2), np.int64(1), np.int64(0), np.int64(0), np.int64(1), np.int64(2), np.int64(3), np.int64(4), np.int64(7), np.int64(8), np.int64(4), np.int64(0), np.int64(1), np.int64(2), np.int64(3), np.int64(4), np.int64(5), np.int64(6), np.int64(7), np.int64(8), np.int64(0), np.int64(1), np.int64(2), np.int64(3), np.int64(4), np.int64(7), np.int64(8), np.int64(9), np.int64(0), np.int64(8), np.int64(3), np.int64(9), np.int64(5), np.int64(5), np.int64(2), np.int64(6), np.int64(8), np.int64(4), np.int64(1), np.int64(7), np.int64(1), np.int64(3), np.int64(3), np.int64(5), np.int64(6), np.int64(9), np.int64(1), np.int64(1), np.int64(1), np.int64(2), np.int64(1), np.int64(2), np.int64(0), np.int64(7), np.int64(7), np.int64(5), np.int64(8), np.int64(2), np.int64(9), np.int64(8), np.int64(6), np.int64(7), np.int64(3), np.int64(4), np.int64(6), np.int64(8), np.int64(7), np.int64(0), np.int64(4), np.int64(2), np.int64(7), np.int64(7), np.int64(5), np.int64(4), np.int64(3), np.int64(4), np.int64(2), np.int64(8), np.int64(1), np.int64(5), np.int64(1), np.int64(2), np.int64(2), np.int64(3), np.int64(3), np.int64(5), np.int64(7), np.int64(0), np.int64(6), np.int64(8), np.int64(6), np.int64(3), np.int64(9), np.int64(9), np.int64(5), np.int64(2), np.int64(7), np.int64(7), np.int64(1), np.int64(0), np.int64(1), np.int64(7), np.int64(8), np.int64(9), np.int64(0), np.int64(1), np.int64(3), np.int64(3), np.int64(4), np.int64(5), np.int64(6), np.int64(7), np.int64(8), np.int64(0), np.int64(1), np.int64(2), np.int64(3), np.int64(4), np.int64(9), np.int64(8), np.int64(9), np.int64(7), np.int64(8), np.int64(6), np.int64(4), np.int64(1), np.int64(9), np.int64(3), np.int64(8), np.int64(4), np.int64(4), np.int64(7), np.int64(0), np.int64(1), np.int64(9), np.int64(2), np.int64(8), np.int64(7), np.int64(8), np.int64(2), np.int64(6), np.int64(0), np.int64(6), np.int64(5), np.int64(3), np.int64(3), np.int64(3), np.int64(9), np.int64(1), np.int64(4), np.int64(0), np.int64(6), np.int64(1), np.int64(0), np.int64(0), np.int64(6), np.int64(2), np.int64(1), np.int64(1), np.int64(7), np.int64(7), np.int64(8), np.int64(4), np.int64(6), np.int64(0), np.int64(7), np.int64(0), np.int64(3), np.int64(6), np.int64(8), np.int64(7), np.int64(1), np.int64(5), np.int64(2), np.int64(4), np.int64(9), np.int64(4), np.int64(3), np.int64(6), np.int64(4), np.int64(1), np.int64(7), np.int64(3), np.int64(6), np.int64(6), np.int64(0), np.int64(1), np.int64(2), np.int64(3), np.int64(4), np.int64(5), np.int64(6), np.int64(7), np.int64(8), np.int64(9), np.int64(0), np.int64(1), np.int64(2), np.int64(3), np.int64(4), np.int64(5), np.int64(6)]\n"
          ]
        }
      ]
    },
    {
      "cell_type": "code",
      "source": [
        "conf_metric=confusion_matrix(Y_test,Y_pred_labels)\n",
        "print(conf_metric)"
      ],
      "metadata": {
        "colab": {
          "base_uri": "https://localhost:8080/"
        },
        "id": "qUuN29jXYUvp",
        "outputId": "0caa3186-30cb-4115-d0d3-a9322d040f67"
      },
      "execution_count": 24,
      "outputs": [
        {
          "output_type": "stream",
          "name": "stdout",
          "text": [
            "tf.Tensor(\n",
            "[[ 967    0    1    3    2    2    3    0    1    1]\n",
            " [   0 1110    1    7    2    0    6    1    8    0]\n",
            " [   8    0  976   21    7    0    4    6   10    0]\n",
            " [   1    0    0  992    1    2    0    3    4    7]\n",
            " [   1    0    2    0  964    0    9    1    1    4]\n",
            " [   2    0    0   23    1  848    7    0    6    5]\n",
            " [   3    2    0    1    6    6  939    1    0    0]\n",
            " [   3    1    7    9    5    0    1  981    5   16]\n",
            " [   4    0    4   11    4    7    4    0  935    5]\n",
            " [   2    2    0    2   25    5    1    0   10  962]], shape=(10, 10), dtype=int32)\n"
          ]
        }
      ]
    },
    {
      "cell_type": "code",
      "source": [
        "plt.figure(figsize=(7,5))\n",
        "sns.heatmap(conf_metric,annot=True,fmt='d',cmap='Blues')\n",
        "plt.ylabel('True Labels')\n",
        "plt.xlabel('Predicted Labels')"
      ],
      "metadata": {
        "colab": {
          "base_uri": "https://localhost:8080/",
          "height": 483
        },
        "id": "9u03tMMaY8U1",
        "outputId": "b7f9920a-a3bd-4813-cebd-2de602089b0f"
      },
      "execution_count": 25,
      "outputs": [
        {
          "output_type": "execute_result",
          "data": {
            "text/plain": [
              "Text(0.5, 25.722222222222214, 'Predicted Labels')"
            ]
          },
          "metadata": {},
          "execution_count": 25
        },
        {
          "output_type": "display_data",
          "data": {
            "text/plain": [
              "<Figure size 700x500 with 2 Axes>"
            ],
            "image/png": "[encoded data removed]"
          },
          "metadata": {}
        }
      ]
    },
    {
      "cell_type": "code",
      "source": [
        "\n",
        "image=cv2.imread('pic.png')\n"
      ],
      "metadata": {
        "id": "wcy1Ct5mZcZY"
      },
      "execution_count": 43,
      "outputs": []
    },
    {
      "cell_type": "code",
      "source": [
        "type(image)"
      ],
      "metadata": {
        "colab": {
          "base_uri": "https://localhost:8080/"
        },
        "id": "mhMhsM1oMlOv",
        "outputId": "5e70c8b9-b277-4a48-9188-ae90587a79ff"
      },
      "execution_count": 44,
      "outputs": [
        {
          "output_type": "execute_result",
          "data": {
            "text/plain": [
              "numpy.ndarray"
            ]
          },
          "metadata": {},
          "execution_count": 44
        }
      ]
    },
    {
      "cell_type": "code",
      "source": [
        "cv2_imshow(image)"
      ],
      "metadata": {
        "colab": {
          "base_uri": "https://localhost:8080/",
          "height": 335
        },
        "id": "KTefyERUOVjk",
        "outputId": "1fe43f1d-ab30-44c5-a37f-f27c3ea9a9de"
      },
      "execution_count": 45,
      "outputs": [
        {
          "output_type": "display_data",
          "data": {
            "text/plain": [
              "<PIL.Image.Image image mode=RGB size=318x318>"
            ],
            "image/png": "[encoded data removed]",
            "image/jpeg": "[encoded data removed]"
          },
          "metadata": {}
        }
      ]
    },
    {
      "cell_type": "code",
      "source": [
        "image.shape"
      ],
      "metadata": {
        "colab": {
          "base_uri": "https://localhost:8080/"
        },
        "id": "ABDJhXq8Om8y",
        "outputId": "5e944372-26ae-48bd-9140-b26a98c32d62"
      },
      "execution_count": 46,
      "outputs": [
        {
          "output_type": "execute_result",
          "data": {
            "text/plain": [
              "(318, 318, 3)"
            ]
          },
          "metadata": {},
          "execution_count": 46
        }
      ]
    },
    {
      "cell_type": "code",
      "source": [
        "gray_img=cv2.cvtColor(image,cv2.COLOR_BGR2GRAY)"
      ],
      "metadata": {
        "id": "jEjXymfdPc9_"
      },
      "execution_count": 47,
      "outputs": []
    },
    {
      "cell_type": "code",
      "source": [
        "gray_img.shape"
      ],
      "metadata": {
        "colab": {
          "base_uri": "https://localhost:8080/"
        },
        "id": "BtciFdWwQB7C",
        "outputId": "bc4ef965-7ee2-4fb8-bd81-09f703ca0b4d"
      },
      "execution_count": 48,
      "outputs": [
        {
          "output_type": "execute_result",
          "data": {
            "text/plain": [
              "(318, 318)"
            ]
          },
          "metadata": {},
          "execution_count": 48
        }
      ]
    },
    {
      "cell_type": "code",
      "source": [
        "img=cv2.resize(gray_img,(28,28))"
      ],
      "metadata": {
        "id": "2XMtbiTKQFXZ"
      },
      "execution_count": 49,
      "outputs": []
    },
    {
      "cell_type": "code",
      "source": [
        "img"
      ],
      "metadata": {
        "colab": {
          "base_uri": "https://localhost:8080/",
          "height": 69
        },
        "id": "cxR-I0tsQOcN",
        "outputId": "52e5686a-8144-4519-ba2a-829ee1da3cd6"
      },
      "execution_count": 50,
      "outputs": [
        {
          "output_type": "execute_result",
          "data": {
            "text/plain": [
              "array([[  0,   0,   0,   0,   0,   0,   0,   0,   0,   0,   0,   0,   0,\n",
              "          0,   0,   0,   0,   0,   0,   0,   0,   0,   0,   0,   0,   0,\n",
              "          0,   0],\n",
              "       [  0,   0,   0,   0,   0,   0,   0,   0,   0,   0,   0,   0,   0,\n",
              "          0,   0,   0,   0,   0,   0,   0,   0,   0,   0,   0,   0,   0,\n",
              "          0,   0],\n",
              "       [  0,   0,   0,   0,   0,   0,   0,   0,   0,   0,   0,   0,   0,\n",
              "          0,   0,   0,   0,   0,   0,   0,   0,   0,   0,   0,   0,   0,\n",
              "          0,   0],\n",
              "       [  0,   0,   0,   0,   0,   0,   0,   0,   0,   0,   0,   0,   0,\n",
              "          0,   0,   0,   0,   0,   0,   0,   0,   0,   0,   0,   0,   0,\n",
              "          0,   0],\n",
              "       [  0,   0,   0,   0,   0,   0,   0,   0,   0,   0,   0,   0,   0,\n",
              "          0,   0,   0,   0,   0,   0,   0,   0,   0,   0,   0,   0,   0,\n",
              "          0,   0],\n",
              "       [  0,   0,   0,   0,   0,   0,   0,   0,   0,   0,   0,  38,  43,\n",
              "        105, 255, 253, 253, 253, 253, 253, 174,   6,   0,   0,   0,   0,\n",
              "          0,   0],\n",
              "       [  0,   0,   0,   0,   0,   0,   0,   0,   0,  43, 139, 224, 226,\n",
              "        252, 253, 252, 252, 252, 252, 252, 252, 158,  14,   0,   0,   0,\n",
              "          0,   0],\n",
              "       [  0,   0,   0,   0,   0,   0,   0,   0,   0, 178, 252, 252, 252,\n",
              "        252, 253, 252, 252, 252, 252, 252, 252, 252,  59,   0,   0,   0,\n",
              "          0,   0],\n",
              "       [  0,   0,   0,   0,   0,   0,   0,   0,   0, 109, 252, 252, 230,\n",
              "        131, 133, 131, 131, 189, 252, 252, 252, 252,  59,   0,   0,   0,\n",
              "          0,   0],\n",
              "       [  0,   0,   0,   0,   0,   0,   0,   0,   0,   4,  29,  29,  24,\n",
              "          0,   0,   0,   0,  14, 226, 252, 252, 172,   7,   0,   0,   0,\n",
              "          0,   0],\n",
              "       [  0,   0,   0,   0,   0,   0,   0,   0,   0,   0,   0,   0,   0,\n",
              "          0,   0,   0,   0,  85, 243, 252, 252, 144,   0,   0,   0,   0,\n",
              "          0,   0],\n",
              "       [  0,   0,   0,   0,   0,   0,   0,   0,   0,   0,   0,   0,   0,\n",
              "          0,   0,   0,  88, 189, 252, 252, 252,  14,   0,   0,   0,   0,\n",
              "          0,   0],\n",
              "       [  0,   0,   0,   0,   0,   0,   0,   0,   0,   0,   0,   0,   0,\n",
              "          0,  91, 211, 247, 252, 252, 252, 204,   9,   0,   0,   0,   0,\n",
              "          0,   0],\n",
              "       [  0,   0,   0,   0,   0,   0,   0,   0,   0,  32, 125, 193, 193,\n",
              "        193, 253, 252, 252, 252, 238, 102,  28,   0,   0,   0,   0,   0,\n",
              "          0,   0],\n",
              "       [  0,   0,   0,   0,   0,   0,   0,   0,  44, 222, 252, 252, 252,\n",
              "        252, 253, 252, 252, 252, 177,   0,   0,   0,   0,   0,   0,   0,\n",
              "          0,   0],\n",
              "       [  0,   0,   0,   0,   0,   0,   0,   0,  44, 223, 253, 253, 253,\n",
              "        253, 255, 253, 253, 253, 253,  73,   0,   0,   0,   0,   0,   0,\n",
              "          0,   0],\n",
              "       [  0,   0,   0,   0,   0,   0,   0,   0,   0,  31, 123,  52,  44,\n",
              "         44,  44,  44, 143, 252, 252,  73,   0,   0,   0,   0,   0,   0,\n",
              "          0,   0],\n",
              "       [  0,   0,   0,   0,   0,   0,   0,   0,   0,   0,   0,   0,   0,\n",
              "          0,   0,   0,  15, 252, 252,  73,   0,   0,   0,   0,   0,   0,\n",
              "          0,   0],\n",
              "       [  0,   0,   0,   0,   0,   0,   0,   0,   0,   0,   0,   0,   0,\n",
              "          0,   0,   0,  86, 252, 252,  73,   0,   0,   0,   0,   0,   0,\n",
              "          0,   0],\n",
              "       [  0,   0,   0,   0,   0,   0,   5,  75,   9,   0,   0,   0,   0,\n",
              "          0,   0,  97, 242, 252, 252,  73,   0,   0,   0,   0,   0,   0,\n",
              "          0,   0],\n",
              "       [  0,   0,   0,   0,   0,  60, 183, 252,  29,   0,   0,   0,   0,\n",
              "         18,  92, 239, 252, 252, 243,  65,   0,   0,   0,   0,   0,   0,\n",
              "          0,   0],\n",
              "       [  0,   0,   0,   0,   0, 208, 252, 252, 147, 134, 134, 134, 134,\n",
              "        203, 253, 252, 252, 188,  83,   0,   0,   0,   0,   0,   0,   0,\n",
              "          0,   0],\n",
              "       [  0,   0,   0,   0,   0, 208, 252, 252, 252, 252, 252, 252, 252,\n",
              "        252, 253, 230, 153,   8,   0,   0,   0,   0,   0,   0,   0,   0,\n",
              "          0,   0],\n",
              "       [  0,   0,   0,   0,   0,  48, 157, 252, 252, 252, 252, 252, 217,\n",
              "        207, 146,  44,   0,   0,   0,   0,   0,   0,   0,   0,   0,   0,\n",
              "          0,   0],\n",
              "       [  0,   0,   0,   0,   0,   0,   7, 103, 235, 252, 172, 103,  24,\n",
              "          0,   0,   0,   0,   0,   0,   0,   0,   0,   0,   0,   0,   0,\n",
              "          0,   0],\n",
              "       [  0,   0,   0,   0,   0,   0,   0,   0,   0,   0,   0,   0,   0,\n",
              "          0,   0,   0,   0,   0,   0,   0,   0,   0,   0,   0,   0,   0,\n",
              "          0,   0],\n",
              "       [  0,   0,   0,   0,   0,   0,   0,   0,   0,   0,   0,   0,   0,\n",
              "          0,   0,   0,   0,   0,   0,   0,   0,   0,   0,   0,   0,   0,\n",
              "          0,   0],\n",
              "       [  0,   0,   0,   0,   0,   0,   0,   0,   0,   0,   0,   0,   0,\n",
              "          0,   0,   0,   0,   0,   0,   0,   0,   0,   0,   0,   0,   0,\n",
              "          0,   0]], dtype=uint8)"
            ],
            "text/html": [
              "<style>\n",
              "      .ndarray_repr .ndarray_raw_data {\n",
              "        display: none;\n",
              "      }\n",
              "      .ndarray_repr.show_array .ndarray_raw_data {\n",
              "        display: block;\n",
              "      }\n",
              "      .ndarray_repr.show_array .ndarray_image_preview {\n",
              "        display: none;\n",
              "      }\n",
              "      </style>\n",
              "      <div id=\"id-21e318c7-1d8c-4964-9f36-9ab6e9f66cd0\" class=\"ndarray_repr\"><pre>ndarray (28, 28) <button style=\"padding: 0 2px;\">show data</button></pre><img src=\"data:image/png;base64,iVBORw0KGgoAAAANSUhEUgAAABwAAAAcCAAAAABXZoBIAAABE0lEQVR4nM2RvUoDURSEv7tEo01EqzQLVjbZQiw1oIIS/HkAwViIRbCw9x3sbIJFfIIoaKGICD6AYCA2NiJRLLQQkiIKc12LzS56XTsLp7mHO2fOmeHAP8ZYYTO01lp72O9ShZ37lqwkSfs5hzyWFJOaAiCTkOeLPNe8DyanUzZmfD8PkGtJ9ayj1EP0lobh8T3d8sqFJNdPhNVmV9LVIM7Y0bU5KIbQ3j7pOprgLo5ylPx5SWWMMcYzxiwvJAHi4mamfPYGbGylGwVgSEqUnkuWfvb3LfXcr7e/KCMUT+UDjJRfpc5s4hGARkC1A8xPhFxWD74rG71LyT7tDbgrx2uSpNvr3SAlQLbyonol/0u8P8YnwTdycRbZK2kAAAAASUVORK5CYII=\" class=\"ndarray_image_preview\" /><pre class=\"ndarray_raw_data\">array([[  0,   0,   0,   0,   0,   0,   0,   0,   0,   0,   0,   0,   0,\n",
              "          0,   0,   0,   0,   0,   0,   0,   0,   0,   0,   0,   0,   0,\n",
              "          0,   0],\n",
              "       [  0,   0,   0,   0,   0,   0,   0,   0,   0,   0,   0,   0,   0,\n",
              "          0,   0,   0,   0,   0,   0,   0,   0,   0,   0,   0,   0,   0,\n",
              "          0,   0],\n",
              "       [  0,   0,   0,   0,   0,   0,   0,   0,   0,   0,   0,   0,   0,\n",
              "          0,   0,   0,   0,   0,   0,   0,   0,   0,   0,   0,   0,   0,\n",
              "          0,   0],\n",
              "       [  0,   0,   0,   0,   0,   0,   0,   0,   0,   0,   0,   0,   0,\n",
              "          0,   0,   0,   0,   0,   0,   0,   0,   0,   0,   0,   0,   0,\n",
              "          0,   0],\n",
              "       [  0,   0,   0,   0,   0,   0,   0,   0,   0,   0,   0,   0,   0,\n",
              "          0,   0,   0,   0,   0,   0,   0,   0,   0,   0,   0,   0,   0,\n",
              "          0,   0],\n",
              "       [  0,   0,   0,   0,   0,   0,   0,   0,   0,   0,   0,  38,  43,\n",
              "        105, 255, 253, 253, 253, 253, 253, 174,   6,   0,   0,   0,   0,\n",
              "          0,   0],\n",
              "       [  0,   0,   0,   0,   0,   0,   0,   0,   0,  43, 139, 224, 226,\n",
              "        252, 253, 252, 252, 252, 252, 252, 252, 158,  14,   0,   0,   0,\n",
              "          0,   0],\n",
              "       [  0,   0,   0,   0,   0,   0,   0,   0,   0, 178, 252, 252, 252,\n",
              "        252, 253, 252, 252, 252, 252, 252, 252, 252,  59,   0,   0,   0,\n",
              "          0,   0],\n",
              "       [  0,   0,   0,   0,   0,   0,   0,   0,   0, 109, 252, 252, 230,\n",
              "        131, 133, 131, 131, 189, 252, 252, 252, 252,  59,   0,   0,   0,\n",
              "          0,   0],\n",
              "       [  0,   0,   0,   0,   0,   0,   0,   0,   0,   4,  29,  29,  24,\n",
              "          0,   0,   0,   0,  14, 226, 252, 252, 172,   7,   0,   0,   0,\n",
              "          0,   0],\n",
              "       [  0,   0,   0,   0,   0,   0,   0,   0,   0,   0,   0,   0,   0,\n",
              "          0,   0,   0,   0,  85, 243, 252, 252, 144,   0,   0,   0,   0,\n",
              "          0,   0],\n",
              "       [  0,   0,   0,   0,   0,   0,   0,   0,   0,   0,   0,   0,   0,\n",
              "          0,   0,   0,  88, 189, 252, 252, 252,  14,   0,   0,   0,   0,\n",
              "          0,   0],\n",
              "       [  0,   0,   0,   0,   0,   0,   0,   0,   0,   0,   0,   0,   0,\n",
              "          0,  91, 211, 247, 252, 252, 252, 204,   9,   0,   0,   0,   0,\n",
              "          0,   0],\n",
              "       [  0,   0,   0,   0,   0,   0,   0,   0,   0,  32, 125, 193, 193,\n",
              "        193, 253, 252, 252, 252, 238, 102,  28,   0,   0,   0,   0,   0,\n",
              "          0,   0],\n",
              "       [  0,   0,   0,   0,   0,   0,   0,   0,  44, 222, 252, 252, 252,\n",
              "        252, 253, 252, 252, 252, 177,   0,   0,   0,   0,   0,   0,   0,\n",
              "          0,   0],\n",
              "       [  0,   0,   0,   0,   0,   0,   0,   0,  44, 223, 253, 253, 253,\n",
              "        253, 255, 253, 253, 253, 253,  73,   0,   0,   0,   0,   0,   0,\n",
              "          0,   0],\n",
              "       [  0,   0,   0,   0,   0,   0,   0,   0,   0,  31, 123,  52,  44,\n",
              "         44,  44,  44, 143, 252, 252,  73,   0,   0,   0,   0,   0,   0,\n",
              "          0,   0],\n",
              "       [  0,   0,   0,   0,   0,   0,   0,   0,   0,   0,   0,   0,   0,\n",
              "          0,   0,   0,  15, 252, 252,  73,   0,   0,   0,   0,   0,   0,\n",
              "          0,   0],\n",
              "       [  0,   0,   0,   0,   0,   0,   0,   0,   0,   0,   0,   0,   0,\n",
              "          0,   0,   0,  86, 252, 252,  73,   0,   0,   0,   0,   0,   0,\n",
              "          0,   0],\n",
              "       [  0,   0,   0,   0,   0,   0,   5,  75,   9,   0,   0,   0,   0,\n",
              "          0,   0,  97, 242, 252, 252,  73,   0,   0,   0,   0,   0,   0,\n",
              "          0,   0],\n",
              "       [  0,   0,   0,   0,   0,  60, 183, 252,  29,   0,   0,   0,   0,\n",
              "         18,  92, 239, 252, 252, 243,  65,   0,   0,   0,   0,   0,   0,\n",
              "          0,   0],\n",
              "       [  0,   0,   0,   0,   0, 208, 252, 252, 147, 134, 134, 134, 134,\n",
              "        203, 253, 252, 252, 188,  83,   0,   0,   0,   0,   0,   0,   0,\n",
              "          0,   0],\n",
              "       [  0,   0,   0,   0,   0, 208, 252, 252, 252, 252, 252, 252, 252,\n",
              "        252, 253, 230, 153,   8,   0,   0,   0,   0,   0,   0,   0,   0,\n",
              "          0,   0],\n",
              "       [  0,   0,   0,   0,   0,  48, 157, 252, 252, 252, 252, 252, 217,\n",
              "        207, 146,  44,   0,   0,   0,   0,   0,   0,   0,   0,   0,   0,\n",
              "          0,   0],\n",
              "       [  0,   0,   0,   0,   0,   0,   7, 103, 235, 252, 172, 103,  24,\n",
              "          0,   0,   0,   0,   0,   0,   0,   0,   0,   0,   0,   0,   0,\n",
              "          0,   0],\n",
              "       [  0,   0,   0,   0,   0,   0,   0,   0,   0,   0,   0,   0,   0,\n",
              "          0,   0,   0,   0,   0,   0,   0,   0,   0,   0,   0,   0,   0,\n",
              "          0,   0],\n",
              "       [  0,   0,   0,   0,   0,   0,   0,   0,   0,   0,   0,   0,   0,\n",
              "          0,   0,   0,   0,   0,   0,   0,   0,   0,   0,   0,   0,   0,\n",
              "          0,   0],\n",
              "       [  0,   0,   0,   0,   0,   0,   0,   0,   0,   0,   0,   0,   0,\n",
              "          0,   0,   0,   0,   0,   0,   0,   0,   0,   0,   0,   0,   0,\n",
              "          0,   0]], dtype=uint8)</pre></div><script>\n",
              "      (() => {\n",
              "      const titles = ['show data', 'hide data'];\n",
              "      let index = 0\n",
              "      document.querySelector('#id-21e318c7-1d8c-4964-9f36-9ab6e9f66cd0 button').onclick = (e) => {\n",
              "        document.querySelector('#id-21e318c7-1d8c-4964-9f36-9ab6e9f66cd0').classList.toggle('show_array');\n",
              "        index = (++index) % 2;\n",
              "        document.querySelector('#id-21e318c7-1d8c-4964-9f36-9ab6e9f66cd0 button').textContent = titles[index];\n",
              "        e.preventDefault();\n",
              "        e.stopPropagation();\n",
              "      }\n",
              "      })();\n",
              "    </script>"
            ]
          },
          "metadata": {},
          "execution_count": 50
        }
      ]
    },
    {
      "cell_type": "code",
      "source": [
        "img=img/255"
      ],
      "metadata": {
        "id": "T-43CWZWQQyH"
      },
      "execution_count": 51,
      "outputs": []
    },
    {
      "cell_type": "code",
      "source": [
        "type(img)"
      ],
      "metadata": {
        "colab": {
          "base_uri": "https://localhost:8080/"
        },
        "id": "FAyDkukLQZRm",
        "outputId": "2d1ba615-ca74-436a-8db9-ee19b718729d"
      },
      "execution_count": 52,
      "outputs": [
        {
          "output_type": "execute_result",
          "data": {
            "text/plain": [
              "numpy.ndarray"
            ]
          },
          "metadata": {},
          "execution_count": 52
        }
      ]
    },
    {
      "cell_type": "code",
      "source": [
        "img=np.reshape(img,(1,28,28))"
      ],
      "metadata": {
        "id": "XabUK1_pQaWO"
      },
      "execution_count": 53,
      "outputs": []
    },
    {
      "cell_type": "code",
      "source": [
        "input=model.predict(img)\n"
      ],
      "metadata": {
        "colab": {
          "base_uri": "https://localhost:8080/"
        },
        "id": "RKUZA1zgQ9UJ",
        "outputId": "587a523d-9eed-4716-d38c-44073d3748c4"
      },
      "execution_count": 55,
      "outputs": [
        {
          "output_type": "stream",
          "name": "stdout",
          "text": [
            "\u001b[1m1/1\u001b[0m \u001b[32m━━━━━━━━━━━━━━━━━━━━\u001b[0m\u001b[37m\u001b[0m \u001b[1m0s\u001b[0m 48ms/step\n"
          ]
        }
      ]
    },
    {
      "cell_type": "code",
      "source": [
        "input"
      ],
      "metadata": {
        "colab": {
          "base_uri": "https://localhost:8080/"
        },
        "id": "MtqrLQhcQ-ds",
        "outputId": "4d19ba20-7bb5-4c3c-94dc-0c1c92f7573c"
      },
      "execution_count": 56,
      "outputs": [
        {
          "output_type": "execute_result",
          "data": {
            "text/plain": [
              "array([[7.4354927e-09, 2.1719197e-05, 2.5901091e-01, 1.0000000e+00,\n",
              "        5.4619520e-10, 7.8714453e-02, 8.0185067e-16, 4.5595229e-05,\n",
              "        7.1227467e-03, 4.5642731e-01]], dtype=float32)"
            ]
          },
          "metadata": {},
          "execution_count": 56
        }
      ]
    },
    {
      "cell_type": "code",
      "source": [
        "print(np.argmax(input))"
      ],
      "metadata": {
        "colab": {
          "base_uri": "https://localhost:8080/"
        },
        "id": "Te1HIbvhRUR5",
        "outputId": "0171e241-3a4a-427c-c901-c4e7d2a68b11"
      },
      "execution_count": 57,
      "outputs": [
        {
          "output_type": "stream",
          "name": "stdout",
          "text": [
            "3\n"
          ]
        }
      ]
    },
    {
      "cell_type": "code",
      "source": [],
      "metadata": {
        "id": "c57L8vRyRYcD"
      },
      "execution_count": null,
      "outputs": []
    },
    {
      "cell_type": "markdown",
      "source": [
        "#Predictive System"
      ],
      "metadata": {
        "id": "fHkotImBRb75"
      }
    },
    {
      "cell_type": "code",
      "source": [
        "image=cv2.imread('pic.png')\n",
        "gray_img=cv2.cvtColor(image,cv2.COLOR_BGR2GRAY)\n",
        "img=cv2.resize(gray_img,(28,28))\n",
        "img = img/255\n",
        "img = np.reshape(img, [1,28,28])\n",
        "input=model.predict(img)\n",
        "print(\"The prediction of the digit is \",np.argmax(input))\n"
      ],
      "metadata": {
        "colab": {
          "base_uri": "https://localhost:8080/"
        },
        "id": "n5yBbVFGRfzH",
        "outputId": "69d7e5ff-9d3d-4ef4-9c03-b58c2543d47f"
      },
      "execution_count": 63,
      "outputs": [
        {
          "output_type": "stream",
          "name": "stdout",
          "text": [
            "\u001b[1m1/1\u001b[0m \u001b[32m━━━━━━━━━━━━━━━━━━━━\u001b[0m\u001b[37m\u001b[0m \u001b[1m0s\u001b[0m 36ms/step\n",
            "The prediction of the digit is  3\n"
          ]
        }
      ]
    },
    {
      "cell_type": "code",
      "source": [],
      "metadata": {
        "id": "lbuE7KwNS36w"
      },
      "execution_count": null,
      "outputs": []
    }
  ]
}